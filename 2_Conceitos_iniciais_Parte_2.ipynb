{
  "nbformat": 4,
  "nbformat_minor": 0,
  "metadata": {
    "colab": {
      "provenance": [],
      "authorship_tag": "ABX9TyPaQz0mxW137JoSAOSHhAnC",
      "include_colab_link": true
    },
    "kernelspec": {
      "name": "python3",
      "display_name": "Python 3"
    },
    "language_info": {
      "name": "python"
    }
  },
  "cells": [
    {
      "cell_type": "markdown",
      "metadata": {
        "id": "view-in-github",
        "colab_type": "text"
      },
      "source": [
        "<a href=\"https://colab.research.google.com/github/Cleitonbvalente/Programa-o-Orientada-a-Objetos/blob/main/2_Conceitos_iniciais_Parte_2.ipynb\" target=\"_parent\"><img src=\"https://colab.research.google.com/assets/colab-badge.svg\" alt=\"Open In Colab\"/></a>"
      ]
    },
    {
      "cell_type": "code",
      "execution_count": null,
      "metadata": {
        "id": "SctwC9OTKMnq"
      },
      "outputs": [],
      "source": [
        "Nome_composto_fulano = \"Esse é o modo que a comunidade adota para variáveis: snake_case\"\n",
        "NomeFuncaoCopiar = \"Esse é o camelCase\""
      ]
    },
    {
      "cell_type": "code",
      "source": [
        "Inteiro = 500\n",
        "Palavra = \"Valter\"\n",
        "Palavra + Palavra"
      ],
      "metadata": {
        "colab": {
          "base_uri": "https://localhost:8080/",
          "height": 35
        },
        "id": "hpHF04-UPQdC",
        "outputId": "6f4c903c-ab52-478f-f5c4-b55c8a6902a1"
      },
      "execution_count": null,
      "outputs": [
        {
          "output_type": "execute_result",
          "data": {
            "text/plain": [
              "'ValterValter'"
            ],
            "application/vnd.google.colaboratory.intrinsic+json": {
              "type": "string"
            }
          },
          "metadata": {},
          "execution_count": 40
        }
      ]
    },
    {
      "cell_type": "code",
      "source": [
        "Inteiro = 50\n",
        "Palavra = '50'\n",
        "Inteiro + int(Palavra)"
      ],
      "metadata": {
        "colab": {
          "base_uri": "https://localhost:8080/"
        },
        "id": "8X9tYSiBPkrZ",
        "outputId": "44f42e24-bb07-4caa-e03a-14671da63b7e"
      },
      "execution_count": null,
      "outputs": [
        {
          "output_type": "execute_result",
          "data": {
            "text/plain": [
              "100"
            ]
          },
          "metadata": {},
          "execution_count": 4
        }
      ]
    },
    {
      "cell_type": "code",
      "source": [
        "Inteiro = 10\n",
        "Flutuante = 100.0\n",
        "Inteiro + Flutuante\n"
      ],
      "metadata": {
        "colab": {
          "base_uri": "https://localhost:8080/"
        },
        "id": "IKAdvmuYQB3x",
        "outputId": "b7822d4f-a220-420a-9068-addcf4ba3f16"
      },
      "execution_count": null,
      "outputs": [
        {
          "output_type": "execute_result",
          "data": {
            "text/plain": [
              "110.0"
            ]
          },
          "metadata": {},
          "execution_count": 7
        }
      ]
    },
    {
      "cell_type": "code",
      "source": [
        "str(Inteiro + Flutuante)"
      ],
      "metadata": {
        "colab": {
          "base_uri": "https://localhost:8080/",
          "height": 35
        },
        "id": "Ml5O8sHVRU7q",
        "outputId": "582fc19a-7586-491f-df04-e18ef18d8aca"
      },
      "execution_count": null,
      "outputs": [
        {
          "output_type": "execute_result",
          "data": {
            "text/plain": [
              "'110.0'"
            ],
            "application/vnd.google.colaboratory.intrinsic+json": {
              "type": "string"
            }
          },
          "metadata": {},
          "execution_count": 8
        }
      ]
    },
    {
      "cell_type": "code",
      "source": [
        "4*10+3*(4-10)"
      ],
      "metadata": {
        "colab": {
          "base_uri": "https://localhost:8080/"
        },
        "id": "-zYppadGRhEg",
        "outputId": "9c49c811-c82c-4ee9-c2f7-b67875796d11"
      },
      "execution_count": null,
      "outputs": [
        {
          "output_type": "execute_result",
          "data": {
            "text/plain": [
              "22"
            ]
          },
          "metadata": {},
          "execution_count": 9
        }
      ]
    },
    {
      "cell_type": "code",
      "source": [
        "10 == 10"
      ],
      "metadata": {
        "colab": {
          "base_uri": "https://localhost:8080/"
        },
        "id": "ovQTFvCiRqUw",
        "outputId": "ac1c8d16-c2ae-4498-d18b-66a1688b7203"
      },
      "execution_count": null,
      "outputs": [
        {
          "output_type": "execute_result",
          "data": {
            "text/plain": [
              "True"
            ]
          },
          "metadata": {},
          "execution_count": 11
        }
      ]
    },
    {
      "cell_type": "code",
      "source": [
        "10 > 10"
      ],
      "metadata": {
        "colab": {
          "base_uri": "https://localhost:8080/"
        },
        "id": "6ok914nVRvnA",
        "outputId": "b2c08716-af53-440a-bc38-0978a74fd60b"
      },
      "execution_count": null,
      "outputs": [
        {
          "output_type": "execute_result",
          "data": {
            "text/plain": [
              "False"
            ]
          },
          "metadata": {},
          "execution_count": 12
        }
      ]
    },
    {
      "cell_type": "code",
      "source": [
        "print(\"Olá mundo!\"+str(Inteiro + Flutuante))"
      ],
      "metadata": {
        "colab": {
          "base_uri": "https://localhost:8080/"
        },
        "id": "TFUOx5UHRyUo",
        "outputId": "0de374b5-3d44-4a4f-a791-1c0d408943bc"
      },
      "execution_count": null,
      "outputs": [
        {
          "output_type": "stream",
          "name": "stdout",
          "text": [
            "Olá mundo!110.0\n"
          ]
        }
      ]
    },
    {
      "cell_type": "code",
      "source": [
        "Nome = \"Cleiton Barbosa Valente\"\n",
        "Anos = 22\n",
        "print(\"Meu nome é: \"+Nome+ \"e tenho \" +str(Anos)+ \"anos\")"
      ],
      "metadata": {
        "colab": {
          "base_uri": "https://localhost:8080/"
        },
        "id": "yetkUqrpXSVw",
        "outputId": "a8edf908-62a3-409d-e48a-49381d795ada"
      },
      "execution_count": null,
      "outputs": [
        {
          "output_type": "stream",
          "name": "stdout",
          "text": [
            "Meu nome é: Cleiton Barbosa Valentee tenho 22anos\n"
          ]
        }
      ]
    },
    {
      "cell_type": "code",
      "source": [
        "\"Meu nome é {}\".format(Nome)"
      ],
      "metadata": {
        "colab": {
          "base_uri": "https://localhost:8080/",
          "height": 35
        },
        "id": "YjZbKEHuXus6",
        "outputId": "14d09362-45db-4939-8ebc-8882c531133e"
      },
      "execution_count": null,
      "outputs": [
        {
          "output_type": "execute_result",
          "data": {
            "text/plain": [
              "'Meu nome é Cleiton Barbosa Valente'"
            ],
            "application/vnd.google.colaboratory.intrinsic+json": {
              "type": "string"
            }
          },
          "metadata": {},
          "execution_count": 28
        }
      ]
    },
    {
      "cell_type": "code",
      "source": [
        "print(\"Meu nome é {} e a minha idade é {} anos.\".format(Nome, Anos))"
      ],
      "metadata": {
        "colab": {
          "base_uri": "https://localhost:8080/"
        },
        "id": "us2ZkzQcX-cZ",
        "outputId": "259fe235-5877-46c0-bc27-98068409a019"
      },
      "execution_count": null,
      "outputs": [
        {
          "output_type": "stream",
          "name": "stdout",
          "text": [
            "Meu nome é Cleiton Barbosa Valente e a minha idade é 22 anos.\n"
          ]
        }
      ]
    },
    {
      "cell_type": "code",
      "source": [
        "Anos=input()"
      ],
      "metadata": {
        "colab": {
          "base_uri": "https://localhost:8080/"
        },
        "id": "_pYs3DuwYVly",
        "outputId": "60e4da96-8f5a-46e7-9969-0e16b60653cf"
      },
      "execution_count": null,
      "outputs": [
        {
          "name": "stdout",
          "output_type": "stream",
          "text": [
            "22\n"
          ]
        }
      ]
    },
    {
      "cell_type": "code",
      "source": [
        "Anos=input(\"Coloque sua idade:\\n\")"
      ],
      "metadata": {
        "colab": {
          "base_uri": "https://localhost:8080/"
        },
        "id": "JE8gJSRCYgvz",
        "outputId": "52813b8d-f4f7-4033-b96d-28afc18789f4"
      },
      "execution_count": null,
      "outputs": [
        {
          "name": "stdout",
          "output_type": "stream",
          "text": [
            "Coloque sua idade:\n",
            "22\n"
          ]
        }
      ]
    },
    {
      "cell_type": "code",
      "source": [
        "Nome=input(\"Digite o seu nome:\\n\")\n",
        "Anos=input(\"Digite a sua idade\")\n",
        "print(\"Seu nome é : \"+Nome+ \" e tem \"+str(Anos)+ \" anos\")"
      ],
      "metadata": {
        "colab": {
          "base_uri": "https://localhost:8080/"
        },
        "id": "NWWdh36mYtLO",
        "outputId": "b723abcd-711f-4345-8124-83ed546f0e80"
      },
      "execution_count": null,
      "outputs": [
        {
          "output_type": "stream",
          "name": "stdout",
          "text": [
            "Digite o seu nome:\n",
            "Cleiton\n",
            "Digite a sua idade22\n",
            "Seu nome é : Cleiton e tem 22 anos\n"
          ]
        }
      ]
    },
    {
      "cell_type": "code",
      "source": [
        "# Faça um programa que receba dois números e ponha o resulytado na tela\n",
        "# No seguinte formato: Valor1 + Valor2 = Resultado.\n",
        "Valor1=int(input(\"Digite um número\\n \"))\n",
        "Valor2=int(input(\"Digite um número\\n \"))\n",
        "Resultado = Valor1 + Valor2\n",
        "print(\"{} + {} = {}\".format(Valor1, Valor2, Resultado))"
      ],
      "metadata": {
        "colab": {
          "base_uri": "https://localhost:8080/"
        },
        "id": "VsILF7HKZjqL",
        "outputId": "258ed205-eedd-4d85-bf30-e5b88f45a9a9"
      },
      "execution_count": null,
      "outputs": [
        {
          "output_type": "stream",
          "name": "stdout",
          "text": [
            "Digite um número\n",
            " 1\n",
            "Digite um número\n",
            " 2\n",
            "1 + 2 = 3\n"
          ]
        }
      ]
    }
  ]
}