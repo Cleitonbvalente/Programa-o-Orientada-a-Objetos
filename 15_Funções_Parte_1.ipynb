{
  "nbformat": 4,
  "nbformat_minor": 0,
  "metadata": {
    "colab": {
      "provenance": [],
      "authorship_tag": "ABX9TyOvgM01HvDutRr0u2ua70L9",
      "include_colab_link": true
    },
    "kernelspec": {
      "name": "python3",
      "display_name": "Python 3"
    },
    "language_info": {
      "name": "python"
    }
  },
  "cells": [
    {
      "cell_type": "markdown",
      "metadata": {
        "id": "view-in-github",
        "colab_type": "text"
      },
      "source": [
        "<a href=\"https://colab.research.google.com/github/Cleitonbvalente/Programa-o-Orientada-a-Objetos/blob/main/15_Fun%C3%A7%C3%B5es_Parte_1.ipynb\" target=\"_parent\"><img src=\"https://colab.research.google.com/assets/colab-badge.svg\" alt=\"Open In Colab\"/></a>"
      ]
    },
    {
      "cell_type": "code",
      "execution_count": 2,
      "metadata": {
        "colab": {
          "base_uri": "https://localhost:8080/"
        },
        "id": "O2t5OVBrl3T_",
        "outputId": "ffdb8575-5704-4641-cc23-26dc897ed4df"
      },
      "outputs": [
        {
          "output_type": "stream",
          "name": "stdout",
          "text": [
            "Olá mundo!\n"
          ]
        }
      ],
      "source": [
        "#FUNÇÕES que não recebem nada e não retornam nada.\n",
        "\n",
        "def Ola_mundo():\n",
        "  print(\"Olá mundo!\")\n",
        "\n",
        "Ola_mundo()"
      ]
    },
    {
      "cell_type": "code",
      "source": [
        "# FUNÇÕES que recebem algo e não retornam nada.\n",
        "\n",
        "def Fatorial(n:int):\n",
        "  Mult_acumulada = 1\n",
        "  for i in range(2, n+1):\n",
        "    Mult_acumulada *= i\n",
        "\n",
        "\n",
        "  print(f\"O fatorial de {n} é {Mult_acumulada}\")\n",
        "\n",
        "Fatorial(5)\n"
      ],
      "metadata": {
        "colab": {
          "base_uri": "https://localhost:8080/"
        },
        "id": "O50SZaTxoBpe",
        "outputId": "4257d52e-d7bc-402e-f893-bc84cd36e7e4"
      },
      "execution_count": 6,
      "outputs": [
        {
          "output_type": "stream",
          "name": "stdout",
          "text": [
            "O fatorial de 5 é 120\n"
          ]
        }
      ]
    },
    {
      "cell_type": "code",
      "source": [
        "# FUNÇÕES que recebem e retornam algo\n",
        "\n",
        "def Fatorial(n:int) -> int:\n",
        "  \"\"\"Esta função calcula o fatorial de um número inteiro.\n",
        "  Entrada: número inteiro.\n",
        "  Saída: fatorial do número inteiro de entrada.\n",
        "  \"\"\"\n",
        "  if n == 0:\n",
        "    return 1\n",
        "  else:\n",
        "    return n*Fatorial(n-1)\n",
        "\n",
        "Fatorial(5)\n"
      ],
      "metadata": {
        "colab": {
          "base_uri": "https://localhost:8080/"
        },
        "id": "Dg9a6LHwpasv",
        "outputId": "783ba25e-f219-43ff-81fd-f4b8119df5e4"
      },
      "execution_count": 9,
      "outputs": [
        {
          "output_type": "execute_result",
          "data": {
            "text/plain": [
              "120"
            ]
          },
          "metadata": {},
          "execution_count": 9
        }
      ]
    },
    {
      "cell_type": "code",
      "source": [
        "# FUNÇÕES que não recebem nada e retornam algo\n",
        "\n",
        "def Pi() -> float:\n",
        "  '''Retorna o valor de pi.\n",
        "  Entrada: ----\n",
        "  Saída: 3.14\n",
        "  '''\n",
        "\n",
        "  return 3.14\n",
        "\n",
        "print(Pi())"
      ],
      "metadata": {
        "colab": {
          "base_uri": "https://localhost:8080/"
        },
        "id": "qsiD-3HEq1YN",
        "outputId": "1e6c4a71-ea0b-4749-d274-4fcf215cabce"
      },
      "execution_count": 10,
      "outputs": [
        {
          "output_type": "stream",
          "name": "stdout",
          "text": [
            "3.14\n"
          ]
        }
      ]
    },
    {
      "cell_type": "code",
      "source": [
        "# 65) Crie uma função para receber dois números e imprimir na tela a soma entre\n",
        "# Eles no formato número1 + número2 = número_resultado\n",
        "def Soma(Numero1: float, Numero2: float) -> float:\n",
        "  Numero_resultado = Numero1 + Numero2\n",
        "  print(f\"{Numero1} + {Numero2} = {Numero_resultado}\")\n",
        "\n",
        "Soma(1, 2)\n"
      ],
      "metadata": {
        "colab": {
          "base_uri": "https://localhost:8080/"
        },
        "id": "-9j1EGUDrdQO",
        "outputId": "9dc3779a-fa30-4dcc-ed6f-8799241ca7ba"
      },
      "execution_count": 14,
      "outputs": [
        {
          "output_type": "stream",
          "name": "stdout",
          "text": [
            "1 + 2 = 3\n"
          ]
        }
      ]
    },
    {
      "cell_type": "code",
      "source": [
        "# Funções built-in SORTED()\n",
        "# Retorna uma lista ordenada, mas NÃO Modifica a lista original.\n",
        "Lista = [2, 3, 5, 4, 3, 2, 5]\n",
        "Lista=sorted(Lista, reverse=True)\n",
        "print(Lista)\n"
      ],
      "metadata": {
        "colab": {
          "base_uri": "https://localhost:8080/"
        },
        "id": "7Mi30thIs4gs",
        "outputId": "7b23479b-7a14-421a-f4c5-5815525fd451"
      },
      "execution_count": 19,
      "outputs": [
        {
          "output_type": "stream",
          "name": "stdout",
          "text": [
            "[5, 5, 4, 3, 3, 2, 2]\n"
          ]
        }
      ]
    },
    {
      "cell_type": "code",
      "source": [
        "# 67) Crie um programa em python para receber uma lista de valores naturais\n",
        "# Parando de receber ao ser digitado um valor não natural. Após isso, imprima na\n",
        "# Tela a relação de números do maior para o menor.\n",
        "\n",
        "Lista = []\n",
        "while True:\n",
        "  x = input(\"Digite um número natural: \")\n",
        "  if x != int(x) or x < 0:\n",
        "    break\n",
        "  else:\n",
        "    Lista.append(x)\n",
        "Lista_ordenada = sorted(Lista, reverse = True)\n",
        "print(Lista_ordenada)"
      ],
      "metadata": {
        "colab": {
          "base_uri": "https://localhost:8080/"
        },
        "id": "rXLpSJx9tzMH",
        "outputId": "c63ec1f0-cd4d-4ae1-c82a-6f80d8acd9ed"
      },
      "execution_count": 27,
      "outputs": [
        {
          "output_type": "stream",
          "name": "stdout",
          "text": [
            "Digite um número natural: 1\n",
            "[]\n"
          ]
        }
      ]
    },
    {
      "cell_type": "code",
      "source": [
        "# Função built-in max() ==> máximo entre os elementos\n",
        "# Máximo de um dicionário é o maior valor da chave\n",
        "Dic = {1, 2, 3, 4}\n",
        "max(Dic)"
      ],
      "metadata": {
        "colab": {
          "base_uri": "https://localhost:8080/"
        },
        "id": "vQxRMZgKwwyO",
        "outputId": "59e18e09-c75a-43c4-8525-3e4bf830d048"
      },
      "execution_count": 29,
      "outputs": [
        {
          "output_type": "execute_result",
          "data": {
            "text/plain": [
              "4"
            ]
          },
          "metadata": {},
          "execution_count": 29
        }
      ]
    },
    {
      "cell_type": "code",
      "source": [
        "# Função built-in min() ==> mínimo entre os elementos\n",
        "# Mínimo de um dicionário é o menor valor da chave.\n",
        "min(Dic)\n"
      ],
      "metadata": {
        "colab": {
          "base_uri": "https://localhost:8080/"
        },
        "id": "5F2Ispv4wgPG",
        "outputId": "0dd0176d-c9cc-4dca-e961-a04bab5dd412"
      },
      "execution_count": 30,
      "outputs": [
        {
          "output_type": "execute_result",
          "data": {
            "text/plain": [
              "1"
            ]
          },
          "metadata": {},
          "execution_count": 30
        }
      ]
    },
    {
      "cell_type": "code",
      "source": [
        "# FUNÇÕES com  parâmetros opcionais\n",
        "def Dados(Nome: str, Idade: int = None) -> None:\n",
        "  print('Nome: {}'.format(Nome))\n",
        "  if(Idade):\n",
        "    print('Idade: {}'.format(Idade))\n",
        "  else:\n",
        "    print('Idade não informada')\n",
        "\n",
        "Dados('Valter')\n",
        "print(\"\")\n",
        "Dados('Valter', 41)\n"
      ],
      "metadata": {
        "colab": {
          "base_uri": "https://localhost:8080/"
        },
        "id": "1bfQU5KhxKob",
        "outputId": "da2dca75-18cb-4a23-c6b0-f162a599eb5f"
      },
      "execution_count": 33,
      "outputs": [
        {
          "output_type": "stream",
          "name": "stdout",
          "text": [
            "Nome: Valter\n",
            "Idade não informada\n",
            "\n",
            "Nome: Valter\n",
            "Idade: 41\n"
          ]
        }
      ]
    },
    {
      "cell_type": "code",
      "source": [
        "# 69) Implemente uma função chamada saudacao que receba dois parâmetros"
      ],
      "metadata": {
        "id": "ylfcuw7eygnj"
      },
      "execution_count": null,
      "outputs": []
    },
    {
      "cell_type": "code",
      "source": [
        "# 70) Como calcular um número na sequência de Fibonacci?\n",
        "# Faça uma função conforme o protótipo:\n",
        "# def fibonacci(ind: int) -> int:\n",
        "# Exemplo de [entradas]: saídas\n",
        "# [0]:0, [1]:1, [2]:1, [3]:2, [4]:3, [5]:5, [6]:8 ...\n",
        "\n",
        "def Fibonacci(idx):\n",
        "  if idx == 0 or idx == 1:\n",
        "    return idx\n",
        "  else:\n",
        "    return Fibonacci(idx-1) + Fibonacci(idx-2)\n",
        "\n",
        "print(Fibonacci(6))\n"
      ],
      "metadata": {
        "colab": {
          "base_uri": "https://localhost:8080/"
        },
        "id": "uRv28Rj6y9Ye",
        "outputId": "b64bd661-233f-458c-8eb0-439c119b474f"
      },
      "execution_count": 12,
      "outputs": [
        {
          "output_type": "stream",
          "name": "stdout",
          "text": [
            "8\n"
          ]
        }
      ]
    },
    {
      "cell_type": "code",
      "source": [
        "# 71) A sequência de Fibonacci é usada para calcular um\n",
        "# Número aproximado da proporção áurea. Para encontrá-lo\n",
        "# Basta dividir o fib(n)/fib(n-1).\n",
        "# Crie um programa calcular a proporção áurea com duas casas\n",
        "# Decimais de aproximação.\n",
        "\n",
        "Fi = Fibonacci(100) / Fibonacci(99)\n",
        "print(Fi)\n"
      ],
      "metadata": {
        "id": "NXihy1gC2rpy"
      },
      "execution_count": null,
      "outputs": []
    },
    {
      "cell_type": "code",
      "source": [
        "#FUNÇÕES podem retornar mais de uma váriavel\n",
        "def Soma_e_subtracao_e_divisao(a: int, b: int) -> (int, int, int):\n",
        "  Soma = a + b\n",
        "  Sub = a - b\n",
        "  Div = a/b\n",
        "  return Soma, Sub, Div\n",
        "\n",
        "Soma_e_subtracao_e_divisao(1, 2)\n"
      ],
      "metadata": {
        "colab": {
          "base_uri": "https://localhost:8080/"
        },
        "id": "AGzpr_PE4EAX",
        "outputId": "c85c9a32-c954-47d8-9723-b5a191dd366f"
      },
      "execution_count": 3,
      "outputs": [
        {
          "output_type": "execute_result",
          "data": {
            "text/plain": [
              "(3, -1, 0.5)"
            ]
          },
          "metadata": {},
          "execution_count": 3
        }
      ]
    },
    {
      "cell_type": "code",
      "source": [
        "# 72) Uma empresa de análise de dados está avaliando o desempenho\n",
        "# De diferentes produtos ao longo do tempo. Eles coletaram dados\n",
        "# De vendas mensais para cada produto e agora precisam calcular a\n",
        "# Média, variância e desvio padrão das vendas para determinar a\n",
        "# Estabilidade das vendas de cada produto.\n",
        "# Com base em uma lisdta de números recebidos do teclaro, faça um\n",
        "# Programa para calcular e exibir na tela a média, variância e o\n",
        "# Desvio padrão de um dado produto\n",
        "# Obs: Crie uma função que retorne a média, a variância e desvio padrão.\n"
      ],
      "metadata": {
        "id": "9Vpf4dsq5aeM"
      },
      "execution_count": null,
      "outputs": []
    }
  ]
}