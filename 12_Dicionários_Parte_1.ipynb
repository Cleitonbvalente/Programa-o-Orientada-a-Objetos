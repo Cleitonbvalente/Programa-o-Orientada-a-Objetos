{
  "nbformat": 4,
  "nbformat_minor": 0,
  "metadata": {
    "colab": {
      "provenance": [],
      "authorship_tag": "ABX9TyPu+rszoPArHJZoqgkv3T98",
      "include_colab_link": true
    },
    "kernelspec": {
      "name": "python3",
      "display_name": "Python 3"
    },
    "language_info": {
      "name": "python"
    }
  },
  "cells": [
    {
      "cell_type": "markdown",
      "metadata": {
        "id": "view-in-github",
        "colab_type": "text"
      },
      "source": [
        "<a href=\"https://colab.research.google.com/github/Cleitonbvalente/Programa-o-Orientada-a-Objetos/blob/main/12_Dicion%C3%A1rios_Parte_1.ipynb\" target=\"_parent\"><img src=\"https://colab.research.google.com/assets/colab-badge.svg\" alt=\"Open In Colab\"/></a>"
      ]
    },
    {
      "cell_type": "code",
      "execution_count": 1,
      "metadata": {
        "colab": {
          "base_uri": "https://localhost:8080/"
        },
        "id": "QLAxZZJvycMx",
        "outputId": "e0eb280a-66e7-4577-ee42-6e97d2ff42f5"
      },
      "outputs": [
        {
          "output_type": "stream",
          "name": "stdout",
          "text": [
            "456\n"
          ]
        }
      ],
      "source": [
        "# Dicionários\n",
        "# São estruturas de dados que guardam um valor que pode ser recuperado a partir de um índice.\n",
        "Dicionario = dict()\n",
        "Dicionario = {}\n",
        "Dicionario = {'Chave1': 123, 'Chave2': 456, 'Chave3': 321}\n",
        "print(Dicionario['Chave2'])"
      ]
    },
    {
      "cell_type": "code",
      "source": [
        "# 59) Façam um dicionário com as palavras>: amar, gostar, aprender, estudar.\n",
        "Dicionario = {'Amar': \"Sentimento que induz a aproximar, a proteger ou a conservar a pessoa pela qual se sente afeição ou atração; grande afeição ou afinidade forte por outra pessoa (ex.: amor filial; amor materno). = AFETO, AFEIÇÃO ≠ ÓDIO, REPULSA\", 'Gostar': \"Deleitar-se com alguma coisa; sentir-se bem diante de algo; adorar: sempre gostou de música erudita.\", 'Aprender': \"Passar a ter conhecimento sobre; instruir-se: aprender um novo idioma; nunca conseguiu aprender.\", 'Estudar': \"Fazer o possível para aprender, conhecer ou compreender.\"}\n",
        "print(Dicionario['Amar'])"
      ],
      "metadata": {
        "colab": {
          "base_uri": "https://localhost:8080/"
        },
        "id": "wbz3mQBZzU87",
        "outputId": "a6c88403-e14a-4f9a-f404-94b122b91a6f"
      },
      "execution_count": 2,
      "outputs": [
        {
          "output_type": "stream",
          "name": "stdout",
          "text": [
            "Sentimento que induz a aproximar, a proteger ou a conservar a pessoa pela qual se sente afeição ou atração; grande afeição ou afinidade forte por outra pessoa (ex.: amor filial; amor materno). = AFETO, AFEIÇÃO ≠ ÓDIO, REPULSA\n"
          ]
        }
      ]
    },
    {
      "cell_type": "code",
      "source": [
        "# 59) Utilizando o dicionário da questão anterior, peça uma palavra conhecida ao\n",
        "# Usuário e apresente seu significado na tela.\n",
        "\n",
        "Palavra = input(\"Digite uma palavra conhecida: \")\n",
        "if Palavra in Dicionario.keys():\n",
        "  print(f\"O significado da palavra {Palavra} é {Dicionario[Palavra]}\")\n",
        "else:\n",
        "  print(\"Não conheço essa palavra\")"
      ],
      "metadata": {
        "colab": {
          "base_uri": "https://localhost:8080/"
        },
        "id": "7JTdLCHM06ag",
        "outputId": "139b3ea6-754a-4839-eb5e-f8dd0655666e"
      },
      "execution_count": 9,
      "outputs": [
        {
          "output_type": "stream",
          "name": "stdout",
          "text": [
            "Digite uma palavra conhecida: Amar\n",
            "O significado da palavra Amar é Sentimento que induz a aproximar, a proteger ou a conservar a pessoa pela qual se sente afeição ou atração; grande afeição ou afinidade forte por outra pessoa (ex.: amor filial; amor materno). = AFETO, AFEIÇÃO ≠ ÓDIO, REPULSA\n"
          ]
        }
      ]
    },
    {
      "cell_type": "code",
      "source": [
        "# 60) Considerando o seguinte dicionário, imprima na tela os dados\n",
        "# Cadastrados\n",
        "Cadastro = {'Nome': 'Raimundo Valter',\n",
        "            'Telefone': '00 00000-0000',\n",
        "            'Sexo': 'M'}\n",
        "print(f\"Nome: {Cadastro['Nome']}\")\n",
        "print(f\"Telefone: {Cadastro['Telefone']}\")\n",
        "print(f\"Sexo: {Cadastro['Sexo']}\")"
      ],
      "metadata": {
        "colab": {
          "base_uri": "https://localhost:8080/"
        },
        "id": "ANez4Mwq1zzX",
        "outputId": "d163f36b-fc9a-4da6-e1e3-c4a0b52d2f55"
      },
      "execution_count": 13,
      "outputs": [
        {
          "output_type": "stream",
          "name": "stdout",
          "text": [
            "Nome: Raimundo Valter\n",
            "Telefone: 00 00000-0000\n",
            "Sexo: M\n"
          ]
        }
      ]
    },
    {
      "cell_type": "code",
      "source": [
        "# Anexando dicionários em uma lista\n",
        "Lista = []\n",
        "Lista.append({'Nome': 'Valter'})\n",
        "Lista.append({'Nome': 'João'})\n",
        "Lista.append({'Nome': 'Ruan'})\n",
        "\n",
        "print(Lista)"
      ],
      "metadata": {
        "colab": {
          "base_uri": "https://localhost:8080/"
        },
        "id": "DINo1rC23x_t",
        "outputId": "9bfe1737-b9af-400c-e868-3b4a97f12f6e"
      },
      "execution_count": 11,
      "outputs": [
        {
          "output_type": "stream",
          "name": "stdout",
          "text": [
            "[{'Nome': 'Valter'}, {'Nome': 'João'}, {'Nome': 'Ruan'}]\n"
          ]
        }
      ]
    },
    {
      "cell_type": "code",
      "source": [
        "# 61)Faça um programa para receber dados dos clientes (nome e telefone) e guardar em uma\n",
        "# Lista de dicionários contendo essas informações. O programa deve parar ao receber o\n",
        "# Número \"1\" como nome.\n",
        "Lista = {'Nome', 'Telefone'}\n",
        "while Nome != 0:\n",
        "  Nome = input(\"Digite o seu nome: \")\n",
        "  Telefone = input(\"Digite seu número: \")\n",
        "Lista = print(f\"{Nome}, {Telefone}\")"
      ],
      "metadata": {
        "colab": {
          "base_uri": "https://localhost:8080/"
        },
        "id": "9EFMIqm46HEw",
        "outputId": "16fb7372-0040-48a9-dccf-70b2d33476ee"
      },
      "execution_count": null,
      "outputs": [
        {
          "name": "stdout",
          "output_type": "stream",
          "text": [
            "Digite o seu nome: Cleiton\n",
            "Digite seu número: 1\n",
            "Digite seu número: G\n",
            "Digite seu número: 2\n",
            "Digite seu número: 1\n"
          ]
        }
      ]
    }
  ]
}