{
  "nbformat": 4,
  "nbformat_minor": 0,
  "metadata": {
    "colab": {
      "provenance": [],
      "include_colab_link": true
    },
    "kernelspec": {
      "name": "python3",
      "display_name": "Python 3"
    },
    "language_info": {
      "name": "python"
    }
  },
  "cells": [
    {
      "cell_type": "markdown",
      "metadata": {
        "id": "view-in-github",
        "colab_type": "text"
      },
      "source": [
        "<a href=\"https://colab.research.google.com/github/Cleitonbvalente/Programa-o-Orientada-a-Objetos/blob/main/Untitled10.ipynb\" target=\"_parent\"><img src=\"https://colab.research.google.com/assets/colab-badge.svg\" alt=\"Open In Colab\"/></a>"
      ]
    },
    {
      "cell_type": "code",
      "execution_count": 18,
      "metadata": {
        "id": "_O4y6Apv3iwH"
      },
      "outputs": [],
      "source": [
        "class conta:\n",
        "  def __init__(self, numero, titular, saldo, limite):\n",
        "    self.numero = numero\n",
        "    self.titular = titular\n",
        "    self.saldo = saldo\n",
        "    self.limite = limite\n",
        "\n",
        "  def extrato(self):\n",
        "      print('Seu saldo é R$ {}'.format(self.saldo))\n",
        "\n",
        "  def deposita(self, valor):\n",
        "      if valor > 0:\n",
        "        self.saldo += valor\n",
        "      else:\n",
        "        raise ValueError(\"Não é permitido depósito de valor negativo...\")\n",
        ""
      ]
    },
    {
      "cell_type": "code",
      "source": [
        "conta_estudante = conta(122, 'Estudante', 400.00, 100.00)"
      ],
      "metadata": {
        "id": "tKaT2ksM4OQL"
      },
      "execution_count": 19,
      "outputs": []
    },
    {
      "cell_type": "code",
      "source": [
        "conta_estudante.saldo"
      ],
      "metadata": {
        "id": "8m44b3JW4U03",
        "colab": {
          "base_uri": "https://localhost:8080/"
        },
        "outputId": "4c55556f-f0cd-4e12-e8c5-a6378b905fdb"
      },
      "execution_count": 24,
      "outputs": [
        {
          "output_type": "execute_result",
          "data": {
            "text/plain": [
              "600.0"
            ]
          },
          "metadata": {},
          "execution_count": 24
        }
      ]
    },
    {
      "cell_type": "code",
      "source": [
        "conta_estudante.extrato()"
      ],
      "metadata": {
        "colab": {
          "base_uri": "https://localhost:8080/"
        },
        "id": "Cl-CEVbP66Zg",
        "outputId": "a48a91f0-a363-47be-de18-f367306e1ea0"
      },
      "execution_count": 21,
      "outputs": [
        {
          "output_type": "stream",
          "name": "stdout",
          "text": [
            "Seu saldo é R$ 400.0\n"
          ]
        }
      ]
    },
    {
      "cell_type": "code",
      "source": [
        "conta_estudante.deposita(100)"
      ],
      "metadata": {
        "id": "xd9ZEBdS9M04"
      },
      "execution_count": 25,
      "outputs": []
    },
    {
      "cell_type": "code",
      "source": [
        "class entregador:\n",
        "  def __init__(self, nome, valor_entrega, qtd_entregas, salario):\n",
        "    self.nome = nome\n",
        "    self.valor_entrega = valor_entrega\n",
        "    self.qtd_entregas = qtd_entregas\n",
        "    self.salario = salario\n",
        "    self.gorjeta = gorjeta = 0.0\n",
        "\n",
        "  def entrega_feita(self, valor_gorjeta = 5.00):\n",
        "    self.qtd_entregas += 1\n",
        "    self.salario += self.valor_entrega\n",
        "    self.salario += self.qtd_entregas * 5\n",
        "\n",
        "  def qual_salario(self):\n",
        "    print(conta_entregador.salario)\n",
        "\n",
        "  def pagar_salario(self):\n",
        "    print(f\"seu salário é de {conta_entregador.salario}\")\n",
        "\n",
        "  def atualizar_valor_entrega(self, novo_valor):\n",
        "    if novo_valor > 0:\n",
        "      self.valor_entrega = novo_valor\n",
        "    elif novo_valor == 0:\n",
        "      print(f\"O valor da entrega prercisa ser maior do que 0\")\n",
        "    else:\n",
        "      raise ValueError(\"Não é permitido valores negativos\")\n",
        "\n",
        "  def qual_a_gorjeta(self):\n",
        "    gorjeta_dada = self.qtd_entregas * 5\n",
        "    print(f\"Sua gorjeta é de {gorjeta_dada}\")\n"
      ],
      "metadata": {
        "id": "x76LM0D0_vbw"
      },
      "execution_count": 86,
      "outputs": []
    },
    {
      "cell_type": "code",
      "source": [
        "conta_entregador = entregador(\"Ruan\", 10, 4, 1412)"
      ],
      "metadata": {
        "id": "ZAx0o5CoCUYv"
      },
      "execution_count": 44,
      "outputs": []
    },
    {
      "cell_type": "code",
      "source": [
        "conta_entregador.qual_salario()"
      ],
      "metadata": {
        "colab": {
          "base_uri": "https://localhost:8080/"
        },
        "id": "NJK3HmaKCmzP",
        "outputId": "864eda79-c61d-46bb-9a9d-083c9985bdf5"
      },
      "execution_count": 91,
      "outputs": [
        {
          "output_type": "stream",
          "name": "stdout",
          "text": [
            "1542\n"
          ]
        }
      ]
    },
    {
      "cell_type": "code",
      "source": [
        "conta_entregador.entrega_feita()"
      ],
      "metadata": {
        "id": "6XdscDUmDNo3"
      },
      "execution_count": 90,
      "outputs": []
    },
    {
      "cell_type": "code",
      "source": [
        "conta_entregador.qual_a_gorjeta()"
      ],
      "metadata": {
        "colab": {
          "base_uri": "https://localhost:8080/"
        },
        "id": "u5yw4mjUGZmY",
        "outputId": "4d3cf294-e0a2-43d7-f9be-c3fc807c2a21"
      },
      "execution_count": 57,
      "outputs": [
        {
          "output_type": "stream",
          "name": "stdout",
          "text": [
            "Sua gorjeta é de 30\n"
          ]
        }
      ]
    }
  ]
}