{
  "nbformat": 4,
  "nbformat_minor": 0,
  "metadata": {
    "colab": {
      "provenance": [],
      "include_colab_link": true
    },
    "kernelspec": {
      "name": "python3",
      "display_name": "Python 3"
    },
    "language_info": {
      "name": "python"
    }
  },
  "cells": [
    {
      "cell_type": "markdown",
      "metadata": {
        "id": "view-in-github",
        "colab_type": "text"
      },
      "source": [
        "<a href=\"https://colab.research.google.com/github/Cleitonbvalente/Programa-o-Orientada-a-Objetos/blob/main/Untitled10.ipynb\" target=\"_parent\"><img src=\"https://colab.research.google.com/assets/colab-badge.svg\" alt=\"Open In Colab\"/></a>"
      ]
    },
    {
      "cell_type": "code",
      "source": [
        "class entregador:\n",
        "  def __init__(self, nome, valor_entrega, qtd_entregas, salario):\n",
        "    self.nome = nome\n",
        "    self.valor_entrega = valor_entrega\n",
        "    self.qtd_entregas = qtd_entregas\n",
        "    self.salario = salario\n",
        "    self.gorjeta = gorjeta = 0.0\n",
        "\n",
        "  def entrega_feita(self, valor_gorjeta = 5.00):\n",
        "    self.qtd_entregas += 1\n",
        "    self.salario += self.valor_entrega\n",
        "    self.salario += self.qtd_entregas * 5\n",
        "\n",
        "  def qual_salario(self):\n",
        "    print(conta_entregador.salario)\n",
        "\n",
        "  def pagar_salario(self):\n",
        "    print(f\"seu salário é de {conta_entregador.salario}\")\n",
        "\n",
        "  def atualizar_valor_entrega(self, novo_valor):\n",
        "    if novo_valor > 0:\n",
        "      self.valor_entrega = novo_valor\n",
        "    elif novo_valor == 0:\n",
        "      print(f\"O valor da entrega prercisa ser maior do que 0\")\n",
        "    else:\n",
        "      raise ValueError(\"Não é permitido valores negativos\")\n",
        "\n",
        "  def qual_a_gorjeta(self):\n",
        "    gorjeta_dada = self.qtd_entregas * 5\n",
        "    print(f\"Sua gorjeta é de {gorjeta_dada}\")\n"
      ],
      "metadata": {
        "id": "x76LM0D0_vbw"
      },
      "execution_count": null,
      "outputs": []
    },
    {
      "cell_type": "code",
      "execution_count": 28,
      "metadata": {
        "id": "_O4y6Apv3iwH"
      },
      "outputs": [],
      "source": [
        "class conta:\n",
        "  def __init__(self, numero, titular, saldo, limite):\n",
        "    self.numero = numero\n",
        "    self.titular = titular\n",
        "    self.saldo = saldo\n",
        "    self.limite = limite\n",
        "\n",
        "  def extrato(self):\n",
        "      print('Seu saldo é R$ {}'.format(self.saldo))\n",
        "\n",
        "  def deposita(self, valor):\n",
        "      if valor > 0:\n",
        "        self.saldo += valor\n",
        "      else:\n",
        "        raise ValueError(\"Não é permitido depósito de valor negativo...\")\n",
        "\n",
        "  def transfere(self, valor_transferir, conta_destino):\n",
        "    if valor_transferir <= self.saldo:\n",
        "      self.saldo = self.saldo - valor_transferir\n",
        "      conta_destino.saldo = conta_destino.saldo + valor_transferir\n",
        "    else:\n",
        "      raise ValueError(\"Você não tem saldo suficiente na sua conta\")\n"
      ]
    },
    {
      "cell_type": "code",
      "source": [
        "conta_estudante = conta(122, 'Estudante', 400.00, 100.00)\n",
        "conta_estudante1 = conta(123, 'Estudante1', 500.00, 200.00)"
      ],
      "metadata": {
        "id": "tKaT2ksM4OQL"
      },
      "execution_count": 29,
      "outputs": []
    },
    {
      "cell_type": "code",
      "source": [
        "conta_estudante.transfere(100, conta_estudante1)"
      ],
      "metadata": {
        "id": "TdIo5wNJWEAG"
      },
      "execution_count": 31,
      "outputs": []
    },
    {
      "cell_type": "code",
      "source": [
        "conta_estudante.saldo"
      ],
      "metadata": {
        "id": "8m44b3JW4U03",
        "colab": {
          "base_uri": "https://localhost:8080/"
        },
        "outputId": "4c55556f-f0cd-4e12-e8c5-a6378b905fdb"
      },
      "execution_count": null,
      "outputs": [
        {
          "output_type": "execute_result",
          "data": {
            "text/plain": [
              "600.0"
            ]
          },
          "metadata": {},
          "execution_count": 24
        }
      ]
    },
    {
      "cell_type": "code",
      "source": [
        "conta_estudante.transfere(100,)"
      ],
      "metadata": {
        "id": "u0x0HWJgUo7N"
      },
      "execution_count": null,
      "outputs": []
    },
    {
      "cell_type": "code",
      "source": [
        "conta_estudante.extrato()"
      ],
      "metadata": {
        "colab": {
          "base_uri": "https://localhost:8080/"
        },
        "id": "Cl-CEVbP66Zg",
        "outputId": "c04dbdb1-2cc5-47e6-8e49-6b754fb853a3"
      },
      "execution_count": 32,
      "outputs": [
        {
          "output_type": "stream",
          "name": "stdout",
          "text": [
            "Seu saldo é R$ 300.0\n"
          ]
        }
      ]
    },
    {
      "cell_type": "code",
      "source": [
        "conta_estudante.deposita(100)"
      ],
      "metadata": {
        "id": "xd9ZEBdS9M04"
      },
      "execution_count": null,
      "outputs": []
    },
    {
      "cell_type": "code",
      "source": [
        "conta_entregador = entregador(\"Ruan\", 10, 4, 1412)"
      ],
      "metadata": {
        "id": "ZAx0o5CoCUYv"
      },
      "execution_count": null,
      "outputs": []
    },
    {
      "cell_type": "code",
      "source": [
        "conta_entregador.qual_salario()"
      ],
      "metadata": {
        "colab": {
          "base_uri": "https://localhost:8080/"
        },
        "id": "NJK3HmaKCmzP",
        "outputId": "864eda79-c61d-46bb-9a9d-083c9985bdf5"
      },
      "execution_count": null,
      "outputs": [
        {
          "output_type": "stream",
          "name": "stdout",
          "text": [
            "1542\n"
          ]
        }
      ]
    },
    {
      "cell_type": "code",
      "source": [
        "conta_entregador.entrega_feita()"
      ],
      "metadata": {
        "id": "6XdscDUmDNo3"
      },
      "execution_count": null,
      "outputs": []
    },
    {
      "cell_type": "code",
      "source": [
        "conta_entregador.qual_a_gorjeta()"
      ],
      "metadata": {
        "colab": {
          "base_uri": "https://localhost:8080/"
        },
        "id": "u5yw4mjUGZmY",
        "outputId": "4d3cf294-e0a2-43d7-f9be-c3fc807c2a21"
      },
      "execution_count": null,
      "outputs": [
        {
          "output_type": "stream",
          "name": "stdout",
          "text": [
            "Sua gorjeta é de 30\n"
          ]
        }
      ]
    },
    {
      "cell_type": "code",
      "source": [
        "# Questão: Classe Produto e manipulação de Objetos\n",
        "\n",
        "# 90) Crie uma classe chamada Produto para representar itens genéricos vendidos em uma loja.\n",
        "# Essa classe será usada para criar objetos que representem diferentes produtos. A classe deve\n",
        "# Iniciar os seguintes atributos e métodos:\n",
        "\n",
        "# Atributos:\n",
        "#nome (string): Nome do produto.\n",
        "#preco (float): Preço do produto.\n",
        "#categoria (float): Categoria à qual o produto pertence (por exemplo, \"Alimentos\", \"Eletrônicos\", etc.).\n",
        "#validade (string): Data de validade do produto com o formato \"DD/MM/AAAA\"\n",
        "\n",
        "#Métodos:\n",
        "#__init__: Inicializa os atributos da classe com os valores fornecidos no momento da criação do objeto.\n",
        "#atualizar_preco(novo_preco): Atualiza o preço do produto com o novo valor informado.\n",
        "#exibir_detalhes(): Exibe todas as informações do produto (nome, preço, categoria e validade) de forma formatada.\n",
        "\n",
        "# Exercício:\n",
        "# Com base na definição classe Produto, implemente o seguinte:\n",
        "# a. Crie a classe Produto no Python conforme a descrição acima.\n",
        "# b. Instancie três objetos de classe Produto com diferentes valores para nome, preço, categoria e validade.\n",
        "# c. Exiba os detalhes de cada produto usando o método exibir_detalhes()\n",
        "# d. Atualize o preço de um dos produtos com o método atualizar_preco().\n",
        "# e. Exiba novamente os detalhes do produto e veja se o valor foi alterado.\n",
        "\n",
        "class Produto:\n",
        "  def __init__(self, nome, preco, categoria, validade = \"Sem validade\"):\n",
        "    self.nome = nome\n",
        "    self.preco = preco\n",
        "    self.categoria = categoria\n",
        "    self.validade = validade\n",
        "\n",
        "  def atualizar_preco(self, novo_preco: float):\n",
        "    if novo_preco > 0.0:\n",
        "      self.preco = novo_preco\n",
        "    else:\n",
        "      raise ValueError(\"Não é permitido valores negativos para preço\")\n",
        "\n",
        "  def exibir_detalhes(self):\n",
        "    print(f\"{self.nome}, R${self.preco: .2f}, {self.categoria}, {self.validade}\")\n"
      ],
      "metadata": {
        "id": "1IHKRtLRBfjM"
      },
      "execution_count": 23,
      "outputs": []
    },
    {
      "cell_type": "code",
      "source": [
        "novo_produto = Produto(\"Notebook\", 4500.00, \"Eletrônicos\")\n",
        "novo_produto1 = Produto(\"Arroz\", 7.50, \"Alimentos\", \"15/08/2025\")\n",
        "novo_produto2 = Produto(\"Smartphone\", 3500.00, \"Eletrônicos\")"
      ],
      "metadata": {
        "id": "Dyr9g1O0DO-z"
      },
      "execution_count": 24,
      "outputs": []
    },
    {
      "cell_type": "code",
      "source": [
        "novo_produto.exibir_detalhes()\n",
        "novo_produto1.exibir_detalhes()\n",
        "novo_produto2.exibir_detalhes()\n"
      ],
      "metadata": {
        "colab": {
          "base_uri": "https://localhost:8080/"
        },
        "id": "pouTMQsHDhy7",
        "outputId": "6754c28b-e86a-4f63-efa0-8dc4feea74ee"
      },
      "execution_count": 27,
      "outputs": [
        {
          "output_type": "stream",
          "name": "stdout",
          "text": [
            "Notebook, R$ 4500.00, Eletrônicos, Sem validade\n",
            "Arroz, R$ 8.00, Alimentos, 15/08/2025\n",
            "Smartphone, R$ 3500.00, Eletrônicos, Sem validade\n"
          ]
        }
      ]
    },
    {
      "cell_type": "code",
      "source": [
        "novo_produto1.atualizar_preco(8.00)"
      ],
      "metadata": {
        "id": "RkjfwEqwEoRD"
      },
      "execution_count": 26,
      "outputs": []
    }
  ]
}