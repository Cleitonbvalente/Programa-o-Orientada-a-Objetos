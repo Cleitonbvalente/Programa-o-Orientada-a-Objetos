{
  "nbformat": 4,
  "nbformat_minor": 0,
  "metadata": {
    "colab": {
      "provenance": [],
      "authorship_tag": "ABX9TyOOxq3P5NsK6GH2Z4SKVjN7",
      "include_colab_link": true
    },
    "kernelspec": {
      "name": "python3",
      "display_name": "Python 3"
    },
    "language_info": {
      "name": "python"
    }
  },
  "cells": [
    {
      "cell_type": "markdown",
      "metadata": {
        "id": "view-in-github",
        "colab_type": "text"
      },
      "source": [
        "<a href=\"https://colab.research.google.com/github/Cleitonbvalente/Programa-o-Orientada-a-Objetos/blob/main/9_Listas_Parte_1.ipynb\" target=\"_parent\"><img src=\"https://colab.research.google.com/assets/colab-badge.svg\" alt=\"Open In Colab\"/></a>"
      ]
    },
    {
      "cell_type": "code",
      "execution_count": 1,
      "metadata": {
        "colab": {
          "base_uri": "https://localhost:8080/"
        },
        "id": "sH7_beSqWDzq",
        "outputId": "160feb10-bb23-402c-c922-84d226291475"
      },
      "outputs": [
        {
          "output_type": "execute_result",
          "data": {
            "text/plain": [
              "[1, 2, 3, 4, 5, 6]"
            ]
          },
          "metadata": {},
          "execution_count": 1
        }
      ],
      "source": [
        "# LISTA\n",
        "Lista = [1, 2, 3, 4, 5, 6]\n",
        "Lista"
      ]
    },
    {
      "cell_type": "code",
      "source": [
        "# Declaração de LISTAS\n",
        "Lista1 = [] # Essa é uma lista vazia\n",
        "Lista2 = list() # Essa é outra lista vazia\n",
        "Lista3 = list((1, 2, 3, 4)) # Posso passar uma tupla e passar ela em lista\n",
        "Lista4 = tuple([1, 2, 3, 4, 5])"
      ],
      "metadata": {
        "id": "rcQgFCx8Z6yE"
      },
      "execution_count": null,
      "outputs": []
    },
    {
      "cell_type": "code",
      "source": [
        "#Iterando em LISTA\n",
        "for Elemento in Lista:\n",
        "  print(Elemento)"
      ],
      "metadata": {
        "colab": {
          "base_uri": "https://localhost:8080/"
        },
        "id": "jYA0aS7jXhYh",
        "outputId": "54b54fc4-2927-4771-d4a9-b58cc7bab60c"
      },
      "execution_count": 3,
      "outputs": [
        {
          "output_type": "stream",
          "name": "stdout",
          "text": [
            "1\n",
            "2\n",
            "3\n",
            "4\n",
            "5\n",
            "6\n"
          ]
        }
      ]
    },
    {
      "cell_type": "code",
      "source": [
        "# Anexando novos elementos\n",
        "Lista.append(int(input(\"Digite um novo elemento na lista: \")))"
      ],
      "metadata": {
        "colab": {
          "base_uri": "https://localhost:8080/"
        },
        "id": "zG22yYGuXzEJ",
        "outputId": "1ca71f60-026e-4ab3-eb06-23ae0298a984"
      },
      "execution_count": 4,
      "outputs": [
        {
          "name": "stdout",
          "output_type": "stream",
          "text": [
            "Digite um novo elemento na lista: 12\n"
          ]
        }
      ]
    },
    {
      "cell_type": "code",
      "source": [
        "Lista"
      ],
      "metadata": {
        "colab": {
          "base_uri": "https://localhost:8080/"
        },
        "id": "h6wjmiRJYOtn",
        "outputId": "c6c52098-cbb5-43c1-fa1e-cf36102e85f9"
      },
      "execution_count": 5,
      "outputs": [
        {
          "output_type": "execute_result",
          "data": {
            "text/plain": [
              "[1, 2, 3, 4, 5, 6, 12]"
            ]
          },
          "metadata": {},
          "execution_count": 5
        }
      ]
    },
    {
      "cell_type": "code",
      "source": [
        "# 26) Faça um programa que leia 4 notas de um aluno, adicione a uma lista\n",
        "# Para ser enviada ao backend da aplicação e mostre as notas e a média na interface.\n",
        "\n",
        "Notas = []\n",
        "\n",
        "Quantidade_notas = 4\n",
        "\n",
        "for i in range(Quantidade_notas):\n",
        "  Notas.append(float(input(\"Digite a nota: \")))\n",
        "\n",
        "print(Notas)\n",
        "\n",
        "Soma = 0.0\n",
        "for Nota in Notas:\n",
        "  Soma += Nota\n",
        "\n",
        "\n",
        "print(\"A média é {}.\".format(Soma/Quantidade_notas))"
      ],
      "metadata": {
        "colab": {
          "base_uri": "https://localhost:8080/"
        },
        "id": "c9UUmezzYXH_",
        "outputId": "3620a75f-cbde-4b1f-8831-75eef4c83570"
      },
      "execution_count": 14,
      "outputs": [
        {
          "output_type": "stream",
          "name": "stdout",
          "text": [
            "Digite a nota: 1\n",
            "Digite a nota: 2\n",
            "Digite a nota: 3\n",
            "Digite a nota: 4\n",
            "[1.0, 2.0, 3.0, 4.0]\n",
            "A média é 2.5.\n"
          ]
        }
      ]
    },
    {
      "cell_type": "code",
      "source": [
        "# Função min e max\n",
        "Notas = [5.2, 3.2, 3.3, 7.1]\n",
        "print(f\"A menor nota é {min(Notas):5.2f}\")\n",
        "print(f\"A maior nota é {max(Notas): 5.2f}\")"
      ],
      "metadata": {
        "colab": {
          "base_uri": "https://localhost:8080/"
        },
        "id": "9aqBDicYdgHp",
        "outputId": "478b20cf-252a-465e-9695-2efc72669202"
      },
      "execution_count": 16,
      "outputs": [
        {
          "output_type": "stream",
          "name": "stdout",
          "text": [
            "A menor nota é  3.20\n",
            "A maior nota é  7.10\n"
          ]
        }
      ]
    },
    {
      "cell_type": "code",
      "source": [
        "Notas.remove(min(Notas))"
      ],
      "metadata": {
        "id": "iqZakyHJelXh"
      },
      "execution_count": 17,
      "outputs": []
    },
    {
      "cell_type": "code",
      "source": [
        "Notas"
      ],
      "metadata": {
        "colab": {
          "base_uri": "https://localhost:8080/"
        },
        "id": "IdSOscvSepz5",
        "outputId": "3b34ae2b-9045-4cea-e90f-40d0f9370906"
      },
      "execution_count": 18,
      "outputs": [
        {
          "output_type": "execute_result",
          "data": {
            "text/plain": [
              "[5.2, 3.3, 7.1]"
            ]
          },
          "metadata": {},
          "execution_count": 18
        }
      ]
    },
    {
      "cell_type": "code",
      "source": [
        "# 27) Faça um programa que leia 3 notas de um aluno, adicione a uma lista\n",
        "# Para ser enviada ao backend da aplicação, porém, exclua o menor valor e\n",
        "# Mostre as notas remanescentes e a média entre elas na interface.\n",
        "\n",
        "Notas = []\n",
        "for i in range(3):\n",
        "  Notas.append(float(input(\"Digite a nota: \")))\n",
        "\n",
        "Notas.remove(min(Notas))\n",
        "print(Notas)\n",
        "\n",
        "print(f\"A média é {sum(Notas)/len(Notas)}\")"
      ],
      "metadata": {
        "colab": {
          "base_uri": "https://localhost:8080/"
        },
        "id": "KPHw9vvve1f5",
        "outputId": "907c5e0f-c803-4df0-a2c3-55f00472648e"
      },
      "execution_count": 32,
      "outputs": [
        {
          "output_type": "stream",
          "name": "stdout",
          "text": [
            "Digite a nota: 1\n",
            "Digite a nota: 2\n",
            "Digite a nota: 3\n",
            "[2.0, 3.0]\n",
            "A média é 2.5\n"
          ]
        }
      ]
    },
    {
      "cell_type": "code",
      "source": [
        "# Slicing em LISTA\n",
        "Lista = [1, 2, 3, 4, 5, 'a', 'b', 'b', 'Nome']\n",
        "\n",
        "print(Lista[3:5+1])\n",
        "print(Lista[:10+1])\n",
        "print(Lista[-12:])\n",
        "print(Lista[3::])\n",
        "print(Lista[4::2])\n",
        "print(Lista[4::-1])"
      ],
      "metadata": {
        "colab": {
          "base_uri": "https://localhost:8080/"
        },
        "id": "gVvoBLJ2i8JC",
        "outputId": "db57bd0b-b38b-49b7-b81e-eb527cf25ba5"
      },
      "execution_count": 35,
      "outputs": [
        {
          "output_type": "stream",
          "name": "stdout",
          "text": [
            "[4, 5, 'a']\n",
            "[1, 2, 3, 4, 5, 'a', 'b', 'b', 'Nome']\n",
            "[1, 2, 3, 4, 5, 'a', 'b', 'b', 'Nome']\n"
          ]
        }
      ]
    },
    {
      "cell_type": "code",
      "source": [
        "# 24) Utilizando listas, faça um programa para contar a quantidade\n",
        "# De vogais em seu nome completo.\n",
        "\n",
        "Lista = []\n",
        "Nome = input(\"Digite o nome completo: \").lower()\n",
        "Lista = Nome.count('a') + Nome.count('e') + Nome.count('i') + Nome.count('o') + Nome.count('u')\n",
        "print(Lista)"
      ],
      "metadata": {
        "colab": {
          "base_uri": "https://localhost:8080/"
        },
        "id": "1_j8rUN_l6mk",
        "outputId": "5a444cba-6419-4900-d040-0bce2e95f684"
      },
      "execution_count": 37,
      "outputs": [
        {
          "output_type": "stream",
          "name": "stdout",
          "text": [
            "Digite o nome completo: Cleiton Barbosa Valente\n",
            "9\n"
          ]
        }
      ]
    },
    {
      "cell_type": "code",
      "source": [
        "# 29) Dado uma lista de strings com tamanho mínimo de dois caracteres\n",
        "# Cada, faça um programa para contar a quantidade de string onde o\n",
        "# Primeiro e o último caracteres são os mesmos.\n",
        "Palavra = ['acb', 'xyz', 'aba', '1221']\n",
        "Contar = 0\n",
        "for Letra in Palavra:\n",
        "  if len(Letra) >= 2 and Letra[0] == Letra[-1]:\n",
        "    Contar += 1\n",
        "print(Contar)\n"
      ],
      "metadata": {
        "id": "qJEQ3pIXqlbD"
      },
      "execution_count": null,
      "outputs": []
    }
  ]
}