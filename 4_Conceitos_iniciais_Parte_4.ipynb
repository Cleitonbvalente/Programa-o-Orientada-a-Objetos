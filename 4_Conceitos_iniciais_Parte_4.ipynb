{
  "nbformat": 4,
  "nbformat_minor": 0,
  "metadata": {
    "colab": {
      "provenance": [],
      "authorship_tag": "ABX9TyMj2zz0Oiod33c2w20iFtd4",
      "include_colab_link": true
    },
    "kernelspec": {
      "name": "python3",
      "display_name": "Python 3"
    },
    "language_info": {
      "name": "python"
    }
  },
  "cells": [
    {
      "cell_type": "markdown",
      "metadata": {
        "id": "view-in-github",
        "colab_type": "text"
      },
      "source": [
        "<a href=\"https://colab.research.google.com/github/Cleitonbvalente/Programa-o-Orientada-a-Objetos/blob/main/4_Conceitos_iniciais_Parte_4.ipynb\" target=\"_parent\"><img src=\"https://colab.research.google.com/assets/colab-badge.svg\" alt=\"Open In Colab\"/></a>"
      ]
    },
    {
      "cell_type": "code",
      "execution_count": null,
      "metadata": {
        "id": "LxFO41OSM6z5",
        "colab": {
          "base_uri": "https://localhost:8080/"
        },
        "outputId": "55180b35-1679-46d9-fe24-63f53d3c5184"
      },
      "outputs": [
        {
          "output_type": "stream",
          "name": "stdout",
          "text": [
            "Digite um número: 1\n",
            "Digite um número: 2\n",
            "A diferença de    1.00 e    2.00 é:   -1.00\n",
            "A multiplicação de    1.00 e    2.00 é:    2.00\n"
          ]
        }
      ],
      "source": [
        "#1) Faça um programa que receba dois números e imprima\n",
        "# Na tela a diferença e a multiplicação entre eles.\n",
        "\n",
        "x = float(input(\"Digite um número: \"))\n",
        "y = float(input(\"Digite um número: \"))\n",
        "Diferença = x-y\n",
        "Multiplicação = x*y\n",
        "print(\"A diferença de {:7.2f} e {:7.2f} é: {:7.2f}\".format(x, y, Diferença))\n",
        "print(\"A multiplicação de %7.2f e %7.2f é: %7.2f\"%(x, y, Multiplicação))\n"
      ]
    },
    {
      "cell_type": "code",
      "source": [
        "#2) Faça um programa que receba uma sequência caracteres\n",
        "# E imprima True caso seja uma sequência contendo apenas\n",
        "# Números, de outra maneira, imprima False.\n",
        "\n",
        "Caracteres = input(\"Digite apenas números: \")\n",
        "print(Caracteres.replace(' ','').isdigit())"
      ],
      "metadata": {
        "colab": {
          "base_uri": "https://localhost:8080/"
        },
        "id": "oWLAqNNsbv-C",
        "outputId": "038fac25-b6a6-4ce8-a9a0-75a5c3d88097"
      },
      "execution_count": null,
      "outputs": [
        {
          "output_type": "stream",
          "name": "stdout",
          "text": [
            "Digite apenas números: 1 a 2 3 4 5\n",
            "False\n"
          ]
        }
      ]
    },
    {
      "cell_type": "code",
      "source": [
        "#O usos do IF-ELIF-ELSE\n",
        "num1=int(input())\n",
        "num2=int(input())\n",
        "\n",
        "if num1 > num2:\n",
        "  print('O número {} é maior que {}'.format(num1,num2))\n",
        "elif num1 == num2:\n",
        "  print('O número {} é igual a {}'.format(num1,num2))\n",
        "else:\n",
        "  print('O número {} é igual a {}'.format(num2,num1))"
      ],
      "metadata": {
        "colab": {
          "base_uri": "https://localhost:8080/"
        },
        "id": "L5ljUjKiedXa",
        "outputId": "943e600e-2a4c-4413-9804-a380fcee12a0"
      },
      "execution_count": null,
      "outputs": [
        {
          "output_type": "stream",
          "name": "stdout",
          "text": [
            "1\n",
            "2\n",
            "O número 2 é igual a 1\n"
          ]
        }
      ]
    },
    {
      "cell_type": "code",
      "source": [
        "# 3) Você está desenvolvenedo um sistema  de login e deseja verificar as"
      ],
      "metadata": {
        "id": "mmRcoGEeXQPp"
      },
      "execution_count": null,
      "outputs": []
    },
    {
      "cell_type": "code",
      "source": [
        "# 6) Você está desenvolvendo um programa para o McDonald's que oferece diversas opções de bebidas.\n",
        "# Implemente um programa em Python para solicitar ao cliente a escolha de uma bebida e informar o preço\n",
        "# Correspondenyte. As opções são:\n",
        "# 1 - Refrigerante (U$ 3,50)\n",
        "# 2 - Suco Natural (U$ 4,00)\n",
        "# 3 - Água Mineral (U$ 2,00)\n",
        "# 4 - Café (U$ 2,50)\n",
        "# Se o cliente escolher uma opção inválida, exiba uma mensagem informando que a opção é inválida.\n",
        "\n",
        "print(\"Escolha uma bebida:\")\n",
        "print(\"1 - Refrigerante\")\n",
        "print(\"2 - Suco Natural\")\n",
        "print(\"3 - Água Mineral\")\n",
        "print(\"4 - Café\")\n",
        "\n",
        "Refrigerante = 3.50\n",
        "Suco_Natural = 4.00\n",
        "Água_Mineral = 2.00\n",
        "Café = 2.00\n",
        "\n",
        "Bebida = input(\"Digite a bebida que você deseja: \")\n",
        "if Bebida == \"1\" or Bebida == \"Refrigerante\":\n",
        "  print(f\"U$ {Refrigerante:.2f}\")\n",
        "elif Bebida == \"2\" or Bebida == \"Suco Natural\":\n",
        "  print(f\"U$ {Suco_Natural:.2f}\")\n",
        "elif Bebida == \"3\" or Bebida == \"Água Mineral\":\n",
        "  print(f\"U$ {Água_Mineral:.2f}\")\n",
        "elif Bebida == \"4\" or Bebida == \"Café\":\n",
        "  print(f\"U$ {Café:.2f}\")\n",
        "else:\n",
        "  print(\"Opção inválida\")\n"
      ],
      "metadata": {
        "colab": {
          "base_uri": "https://localhost:8080/"
        },
        "id": "gFm7xdJbYj5J",
        "outputId": "9b58b22b-21e4-4130-c321-87a86c49dcb9"
      },
      "execution_count": null,
      "outputs": [
        {
          "output_type": "stream",
          "name": "stdout",
          "text": [
            "Escolha uma bebida:\n",
            "1 - Refrigerante\n",
            "2 - Suco Natural\n",
            "3 - Água Mineral\n",
            "4 - Café\n",
            "Digite a bebida que você deseja: 1\n",
            "U$ 3.50\n"
          ]
        }
      ]
    },
    {
      "cell_type": "code",
      "source": [
        "# Utilizando o match, o \"switch\" do python.\n",
        "Opção=input(\"Digite uma opção: \")\n",
        "match(Opção):\n",
        "  case '1':\n",
        "    print(\"Você digitou o número 1\")\n",
        "  case '2':\n",
        "    print(\"Você digitou o número 2\")\n",
        "  case _:\n",
        "    print(\"Só reconheço 1 e 2\")"
      ],
      "metadata": {
        "colab": {
          "base_uri": "https://localhost:8080/"
        },
        "id": "_NxwdOEEfKhm",
        "outputId": "0d8f407f-36d4-47a8-f7d6-d39ab85cc51d"
      },
      "execution_count": null,
      "outputs": [
        {
          "output_type": "stream",
          "name": "stdout",
          "text": [
            "Digite uma opção: 3\n",
            "Só reconheço 1 e 2\n"
          ]
        }
      ]
    },
    {
      "cell_type": "code",
      "source": [
        "# Usando o FIND do objeto string\n",
        "\"Olá, mundo, meu nome é ...!\".find('n')"
      ],
      "metadata": {
        "colab": {
          "base_uri": "https://localhost:8080/"
        },
        "id": "cVdX7gIdhdkh",
        "outputId": "8d822d3b-926b-447c-9264-d0d81c31731e"
      },
      "execution_count": null,
      "outputs": [
        {
          "output_type": "execute_result",
          "data": {
            "text/plain": [
              "7"
            ]
          },
          "metadata": {},
          "execution_count": 14
        }
      ]
    },
    {
      "cell_type": "code",
      "source": [
        "# 8) Você está criando um programa para recomendar produtos em\n",
        "# Uma loja com base nas buscas do usuário e as suas categorias.\n",
        "# Implemente um programa em Python utilizando a estrutura match\n",
        "# (Disponível a partir do Python 3.10) para verificar se o texto\n",
        "# De busca contém as categorias do produto e exibir uma mensagem\n",
        "# Correspondente. As categorias são: \"Eletrônicos\", \"Roupas\" e \"Alimentos\".\n",
        "\n",
        "# Exemplo:\n",
        "\n",
        "# Entrada: \"Gostaria de ver dispositivos eletrônicos e não roupas.\"\n",
        "# Saída: \"Pesquisa contém os termos: eletrônicos, roupas\n",
        "\n",
        "Texto_entrada=\"Gostaria de ver dispositivos Eletrônicos e não roupas.\"\n",
        "\n",
        "Termo_busca=\"\"\n",
        "Termo_busca += \"eletronicos\" if Texto_entrada.caseford().find(\"eletrônicos\") >= 0 else \"\"\n",
        "\n",
        "Termo_busca += \"roupas\" if Texto_entrada.caseford().find(\"roupas\") >= 0 else \"\"\n",
        "\n",
        "Termo_busca += \"alimentos\" if Texto_entrada.caseford().find(\"alimentos\") >= 0 else \"\"\n",
        "\n",
        "match(Termo_busca):\n",
        "  case 'eletrônicosroupasalimentos':\n",
        "    print(f)\n",
        "Categorias = input(\"\")\n",
        "if Categorias.find('Eletrônicos'):\n",
        "  print(\"Pesquiusa contém o termo eletrônico\")\n",
        "else:\n",
        "  print(\"Tente novamente\")"
      ],
      "metadata": {
        "colab": {
          "base_uri": "https://localhost:8080/"
        },
        "id": "hx0OBHVGiwDn",
        "outputId": "d31f20cd-9644-478d-f07b-2c5f468f7099"
      },
      "execution_count": null,
      "outputs": [
        {
          "output_type": "stream",
          "name": "stdout",
          "text": [
            "Eletrônicos\n",
            "Tente novamente\n"
          ]
        }
      ]
    },
    {
      "cell_type": "code",
      "source": [
        "Op=3\n",
        "match(Op):\n",
        "  case 1:\n",
        "    print(\"Opção 1!\")\n",
        "  case 2 | 3:\n",
        "    print (\"Opção 2 ou 3\")\n",
        "  case 4 | 5:\n",
        "    print(\"Opção 4 ou 5\")"
      ],
      "metadata": {
        "colab": {
          "base_uri": "https://localhost:8080/"
        },
        "id": "JSv7tGBQrREj",
        "outputId": "61c6a105-c139-44c9-c695-5a74a9f29a2e"
      },
      "execution_count": null,
      "outputs": [
        {
          "output_type": "stream",
          "name": "stdout",
          "text": [
            "Opção 2 ou 3\n"
          ]
        }
      ]
    },
    {
      "cell_type": "code",
      "source": [
        "# 9) Escreva um programa em Python para receber o número da semana (1-7)\n",
        "# do teclado e imprimir o nome do dia da semana usando a estrutura MATCH.\n",
        "\n",
        "Dia_semana = int(input(\"Digite o número do dia da semana:\"))\n",
        "\n",
        "match Dia_semana:\n",
        "  case 1:\n",
        "    print(\"Domingo\")\n",
        "  case 2:\n",
        "    print(\"Segunda-feira\")\n",
        "  case 3:\n",
        "    print(\"Terça-feira\")\n",
        "  case 4:\n",
        "    print(\"Quarta-feira\")\n",
        "  case 5:\n",
        "    print(\"Quinta-feira\")\n",
        "  case 6:\n",
        "    print(\"Sexta-feira\")\n",
        "  case 7:\n",
        "    print(\"Sábado\")\n",
        "  case _:\n",
        "    print(\"Número inválido. Digite um número entre 1 e 7.\")\n",
        "\n",
        "\n"
      ],
      "metadata": {
        "id": "M4uwBkf9tpIE",
        "colab": {
          "base_uri": "https://localhost:8080/"
        },
        "outputId": "3579b008-7447-40aa-a319-185bfe23cdbc"
      },
      "execution_count": null,
      "outputs": [
        {
          "output_type": "stream",
          "name": "stdout",
          "text": [
            "Digite o número do dia da semana:3\n",
            "Terça-feira\n"
          ]
        }
      ]
    },
    {
      "cell_type": "code",
      "source": [
        "# 10) Você está desenvolvendo um sistema de classificação para\n",
        "# um jogo de cartas. Cada carta tem um valor e uma naipe. O\n",
        "# objetivo é classificar as cartas em diferentes categorias de\n",
        "# acordo com seus valores e naipes.\n",
        "\n",
        "# Requisitos:\n",
        "#   Se a carta for um número entre 2 e 10, ela deve ser\n",
        "#   classificada como \"Carta numérica\".\n",
        "\n",
        "#   Se a carta for 11 (J), 12 (Q) ou 13 (K), ela deve ser\n",
        "#   classificada como \"Carta de figura\".\n",
        "\n",
        "#   Se a carta for 1 (A) ou o naipe for \"Espadas\" (♠) ou\n",
        "# \"Copas\" (♥), ela deve ser classificada como \"Carta especial\".\n",
        "\n",
        "# Todas as outras cartas devem ser classificadas como\n",
        "# \"Carta desconhecida\".\n",
        "\n",
        "# Implementação: Escreva um programa em python que recebe uma string\n",
        "# representando uma carta, onde o primeiro caracter é o valor\n",
        "# e o segundo é o naipe. Utilize match com or para classificar\n",
        "# as cartas.\n",
        "\n",
        "\n",
        "numero_carta = int(input(\"Escreva o número da carta: \"))\n",
        "naipe_carta = input(\"Escreva o naipe da carta: \")\n",
        "\n",
        "match numero_carta:\n",
        "  case 1:\n",
        "    print(f\"Carta especial\")\n",
        "  case numero_carta if 2 <= numero_carta <= 10:\n",
        "    print(f\"Carta numérica\")\n",
        "  case 11 | 12 | 13:\n",
        "    print(f\"Carta de figura\")\n",
        "  case _:\n",
        "    print(f\"Carta desconhecida\")\n",
        "\n",
        "match naipe_carta:\n",
        "  case \"Espadas\" | \"Copas\":\n",
        "    print(f\"Carta especial\")\n",
        "  case _:\n",
        "    print(f\"Carta desconhecida\")\n",
        "\n"
      ],
      "metadata": {
        "colab": {
          "base_uri": "https://localhost:8080/",
          "height": 263
        },
        "id": "sbQXYSjWddgn",
        "outputId": "9792fdd0-b9d9-4ef9-ec26-fd6f15bd2732"
      },
      "execution_count": 3,
      "outputs": [
        {
          "output_type": "stream",
          "name": "stdout",
          "text": [
            "Escreva o número da carta: 1\n",
            "Escreva o naipe da carta: Espadas\n",
            "Carta especial\n"
          ]
        },
        {
          "output_type": "error",
          "ename": "NameError",
          "evalue": "name 'NULL' is not defined",
          "traceback": [
            "\u001b[0;31m---------------------------------------------------------------------------\u001b[0m",
            "\u001b[0;31mNameError\u001b[0m                                 Traceback (most recent call last)",
            "\u001b[0;32m<ipython-input-3-0ac2e32ebc84>\u001b[0m in \u001b[0;36m<cell line: 38>\u001b[0;34m()\u001b[0m\n\u001b[1;32m     37\u001b[0m \u001b[0;34m\u001b[0m\u001b[0m\n\u001b[1;32m     38\u001b[0m \u001b[0;32mif\u001b[0m\u001b[0;34m(\u001b[0m\u001b[0mnumero_carta\u001b[0m\u001b[0;34m==\u001b[0m\u001b[0;36m1\u001b[0m\u001b[0;34m)\u001b[0m\u001b[0;34m:\u001b[0m\u001b[0;34m\u001b[0m\u001b[0;34m\u001b[0m\u001b[0m\n\u001b[0;32m---> 39\u001b[0;31m   \u001b[0mnaipe_carta\u001b[0m\u001b[0;34m=\u001b[0m\u001b[0mNULL\u001b[0m\u001b[0;34m\u001b[0m\u001b[0;34m\u001b[0m\u001b[0m\n\u001b[0m\u001b[1;32m     40\u001b[0m \u001b[0;34m\u001b[0m\u001b[0m\n\u001b[1;32m     41\u001b[0m \u001b[0mmatch\u001b[0m \u001b[0mnaipe_carta\u001b[0m\u001b[0;34m:\u001b[0m\u001b[0;34m\u001b[0m\u001b[0;34m\u001b[0m\u001b[0m\n",
            "\u001b[0;31mNameError\u001b[0m: name 'NULL' is not defined"
          ]
        }
      ]
    }
  ]
}