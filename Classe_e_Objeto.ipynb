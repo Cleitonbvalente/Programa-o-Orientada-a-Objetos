{
  "nbformat": 4,
  "nbformat_minor": 0,
  "metadata": {
    "colab": {
      "provenance": [],
      "authorship_tag": "ABX9TyMy8THslsl2pRoLc3U7Vq6D",
      "include_colab_link": true
    },
    "kernelspec": {
      "name": "python3",
      "display_name": "Python 3"
    },
    "language_info": {
      "name": "python"
    }
  },
  "cells": [
    {
      "cell_type": "markdown",
      "metadata": {
        "id": "view-in-github",
        "colab_type": "text"
      },
      "source": [
        "<a href=\"https://colab.research.google.com/github/Cleitonbvalente/Programa-o-Orientada-a-Objetos/blob/main/Classe_e_Objeto.ipynb\" target=\"_parent\"><img src=\"https://colab.research.google.com/assets/colab-badge.svg\" alt=\"Open In Colab\"/></a>"
      ]
    },
    {
      "cell_type": "code",
      "execution_count": 52,
      "metadata": {
        "id": "ErbQEqoz9cTe"
      },
      "outputs": [],
      "source": [
        "class Terreno:\n",
        "  def __init__(self, largura: float, comprimento: float):\n",
        "    self._largura = largura\n",
        "    self._comprimento = comprimento\n",
        "    self._valor = 0.0\n",
        "\n",
        "  def area(self):\n",
        "    return self._largura * self._comprimento\n",
        "\n",
        "  def set_valor(self, valor_por_m2):\n",
        "    self._valor = self.area() * valor_por_m2\n",
        "    print(self._valor)\n",
        "\n",
        "  def get_valor(self):\n",
        "    return self._valor\n"
      ]
    },
    {
      "cell_type": "code",
      "source": [
        "novo_terreno = Terreno(3, 4)"
      ],
      "metadata": {
        "id": "8Mwm4TMbOfqW"
      },
      "execution_count": 53,
      "outputs": []
    },
    {
      "cell_type": "code",
      "source": [
        "novo_terreno.area()\n"
      ],
      "metadata": {
        "colab": {
          "base_uri": "https://localhost:8080/"
        },
        "id": "smkjV_YSOtmk",
        "outputId": "71f50494-70da-4bac-d475-6922247c72c2"
      },
      "execution_count": 54,
      "outputs": [
        {
          "output_type": "execute_result",
          "data": {
            "text/plain": [
              "12"
            ]
          },
          "metadata": {},
          "execution_count": 54
        }
      ]
    },
    {
      "cell_type": "code",
      "source": [
        "novo_terreno.set_valor(10)"
      ],
      "metadata": {
        "colab": {
          "base_uri": "https://localhost:8080/"
        },
        "id": "fm7Q3gG7QmtW",
        "outputId": "e6f8fe28-ef1e-41c2-d326-3289cf0aceed"
      },
      "execution_count": 55,
      "outputs": [
        {
          "output_type": "stream",
          "name": "stdout",
          "text": [
            "120\n"
          ]
        }
      ]
    }
  ]
}