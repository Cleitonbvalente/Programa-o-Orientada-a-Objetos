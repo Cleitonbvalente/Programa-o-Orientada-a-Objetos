{
  "nbformat": 4,
  "nbformat_minor": 0,
  "metadata": {
    "colab": {
      "provenance": [],
      "authorship_tag": "ABX9TyOGAbzAiJ8W2jJYkrpIcWam",
      "include_colab_link": true
    },
    "kernelspec": {
      "name": "python3",
      "display_name": "Python 3"
    },
    "language_info": {
      "name": "python"
    }
  },
  "cells": [
    {
      "cell_type": "markdown",
      "metadata": {
        "id": "view-in-github",
        "colab_type": "text"
      },
      "source": [
        "<a href=\"https://colab.research.google.com/github/Cleitonbvalente/Programa-o-Orientada-a-Objetos/blob/main/8_Tuplas_Parte_2.ipynb\" target=\"_parent\"><img src=\"https://colab.research.google.com/assets/colab-badge.svg\" alt=\"Open In Colab\"/></a>"
      ]
    },
    {
      "cell_type": "code",
      "execution_count": 12,
      "metadata": {
        "colab": {
          "base_uri": "https://localhost:8080/"
        },
        "id": "6dAMTuiJeNPj",
        "outputId": "9053ecb6-a165-4a88-a452-7f75acbd47eb"
      },
      "outputs": [
        {
          "output_type": "stream",
          "name": "stdout",
          "text": [
            "Digite o texto que você quer cifrar: HRTYERT\n",
            "34444651314446\n"
          ]
        }
      ],
      "source": [
        "# Respondendo a 22) Faça um programa que receba um texto e cifre ele\n",
        "# Utilizando a codificação numérica. Nesta codificação, onde tem 'a',\n",
        "# Substituimos pelo número 1, onde tem 'b', substituimos pelo número 2\n",
        "# E assim sucessivamente. Lembre-se que podemos ter letras maiúsculas\n",
        "# E minúsculas.\n",
        "\n",
        "Plain_text = tuple(input(\"Digite o texto que você quer cifrar: \"))\n",
        "Cifer = tuple(\" abcdefghijklmnopqrstuvwxyzABCDEFGHIJKLMNOPQRSTUVWXYZ\")\n",
        "Cifer_text = ''\n",
        "for Letra in Plain_text:\n",
        "  Cifer_text = Cifer_text + str(Cifer.index(Letra))\n",
        "# print(Cifer.index(Letra), end = '')\n",
        "\n",
        "print(Cifer_text)"
      ]
    },
    {
      "cell_type": "code",
      "source": [
        "# O método built-in isinstance()\n",
        "print(isinstance(12, int))\n",
        "print(isinstance('12', int))\n",
        "print(isinstance(4.5, float))\n",
        "print(isinstance([1,1], list))\n",
        "print(isinstance((1, 2, 3), tuple))\n",
        "print(isinstance({1, 2, 3}, set))\n",
        "print(isinstance({1: 12.3}, dict))"
      ],
      "metadata": {
        "colab": {
          "base_uri": "https://localhost:8080/"
        },
        "id": "q35gbvWzmaFd",
        "outputId": "7ffbf77e-8204-4acc-c938-47c4f734f688"
      },
      "execution_count": 15,
      "outputs": [
        {
          "output_type": "stream",
          "name": "stdout",
          "text": [
            "True\n",
            "False\n",
            "True\n",
            "True\n",
            "True\n",
            "True\n",
            "True\n"
          ]
        }
      ]
    },
    {
      "cell_type": "code",
      "source": [
        "# Combinando análises de tipo usando tupla\n",
        "print(isinstance(['4.5'],(float, str)))"
      ],
      "metadata": {
        "colab": {
          "base_uri": "https://localhost:8080/"
        },
        "id": "XxI_K_CToTBd",
        "outputId": "d1325803-bb30-48d6-9591-70986d500bd9"
      },
      "execution_count": 16,
      "outputs": [
        {
          "output_type": "stream",
          "name": "stdout",
          "text": [
            "False\n"
          ]
        }
      ]
    },
    {
      "cell_type": "code",
      "source": [
        "# Medindo comprimento das coisas\n",
        "# Length\n",
        "Tupla = (1, 2, 3, 4)\n",
        "Lista = [1, 2, 3, 4, 5]\n",
        "len(Lista)"
      ],
      "metadata": {
        "colab": {
          "base_uri": "https://localhost:8080/"
        },
        "id": "fXnORKBZsj6O",
        "outputId": "e15fc05a-5897-4f7c-860f-cc22e32adec7"
      },
      "execution_count": 18,
      "outputs": [
        {
          "output_type": "execute_result",
          "data": {
            "text/plain": [
              "5"
            ]
          },
          "metadata": {},
          "execution_count": 18
        }
      ]
    },
    {
      "cell_type": "code",
      "source": [
        "# 26) Considere uma tupla contendo elementos (string, int, float).\n",
        "# Crie uma programa em Python que processe tupla como argumento e\n",
        "# Realize as seguintes operações:\n",
        "\n",
        "# Utilize o if-else para verificar se a tupla está vazia.\n",
        "# Se estiver vazia, a função deve retornar uma mensagem indicando\n",
        "# Que \"a tupla está vazia\"; Caso contrário, continue com as operações.\n",
        "# Use um loop for para contar quantos elementos na tupla são números pares.\n",
        "# Utilize um loop while para calcular a soma dos elementos ímpares na tupla.\n",
        "# Utilize a estrutura de controle match (introduzida no Python 3.10) para\n",
        "# Classificar os elementos da tupla em três categorias: \"Par\", \"Ímpar\", e \"Outro\".\n",
        "\n",
        "Tupla = (1, '2', 'três', 4.0, '5.5')\n",
        "\n",
        "if not Tupla:\n",
        "  print(\"A tupla está vazia\")\n",
        "else:\n",
        "  Conta_par = 0\n",
        "  for Elemento in Tupla:\n",
        "    if isinstance(Elemento, (int, float)) and Elemento%2 == 0:\n",
        "      Conta_par += 1\n",
        "\n",
        "    Soma_impar = 0\n",
        "    Index = 0\n",
        "    while (Index < len(Tupla)):\n",
        "      if isinstance(Tupla[Index], (int, float)) and Tupla[Index]%2 != 0:\n",
        "        Soma_impar += Tupla[Index]\n",
        "      Index += 1\n",
        "\n",
        "    for Elemento in Tupla:\n",
        "      match(isinstance(Elemento, (int, float))):\n",
        "        case True:\n",
        "          match(Elemento%2):\n",
        "            case 0: print(\"Par\")\n",
        "            case 1: print(\"Ímpar\")\n",
        "        case False: print(\"Outro\")"
      ],
      "metadata": {
        "colab": {
          "base_uri": "https://localhost:8080/"
        },
        "id": "yiLKFNZnosEd",
        "outputId": "ae69b9fd-be59-49b1-a16e-a9b55400b53b"
      },
      "execution_count": 25,
      "outputs": [
        {
          "output_type": "stream",
          "name": "stdout",
          "text": [
            "Ímpar\n",
            "Outro\n",
            "Outro\n",
            "Par\n",
            "Outro\n",
            "Ímpar\n",
            "Outro\n",
            "Outro\n",
            "Par\n",
            "Outro\n",
            "Ímpar\n",
            "Outro\n",
            "Outro\n",
            "Par\n",
            "Outro\n",
            "Ímpar\n",
            "Outro\n",
            "Outro\n",
            "Par\n",
            "Outro\n",
            "Ímpar\n",
            "Outro\n",
            "Outro\n",
            "Par\n",
            "Outro\n"
          ]
        }
      ]
    }
  ]
}