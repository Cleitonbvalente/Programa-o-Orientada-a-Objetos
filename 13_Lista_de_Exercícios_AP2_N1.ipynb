{
  "nbformat": 4,
  "nbformat_minor": 0,
  "metadata": {
    "colab": {
      "provenance": [],
      "authorship_tag": "ABX9TyMih1Znab3sLhz1uLRFW4e6",
      "include_colab_link": true
    },
    "kernelspec": {
      "name": "python3",
      "display_name": "Python 3"
    },
    "language_info": {
      "name": "python"
    }
  },
  "cells": [
    {
      "cell_type": "markdown",
      "metadata": {
        "id": "view-in-github",
        "colab_type": "text"
      },
      "source": [
        "<a href=\"https://colab.research.google.com/github/Cleitonbvalente/Programa-o-Orientada-a-Objetos/blob/main/13_Lista_de_Exerc%C3%ADcios_AP2_N1.ipynb\" target=\"_parent\"><img src=\"https://colab.research.google.com/assets/colab-badge.svg\" alt=\"Open In Colab\"/></a>"
      ]
    },
    {
      "cell_type": "code",
      "execution_count": 3,
      "metadata": {
        "colab": {
          "base_uri": "https://localhost:8080/"
        },
        "id": "hDlyOU35WEsN",
        "outputId": "d15d69af-1489-4578-c9ef-c9626b7ee170"
      },
      "outputs": [
        {
          "output_type": "stream",
          "name": "stdout",
          "text": [
            "Digite uma frase: eirk rgt ret  t\n",
            "5\n"
          ]
        }
      ],
      "source": [
        "# 65) Crie um programa que receba uma frase do usuário e conte o número de palavras.\n",
        "# Para isso, utilize o método slit() para separar as palavras e determinar o tamanho\n",
        "# Da lista resultante.\n",
        "Frase = input(\"Digite uma frase: \")\n",
        "Metodo = Frase.split(\" \")\n",
        "print(f\"{len(Metodo)}\")"
      ]
    },
    {
      "cell_type": "code",
      "source": [
        "# 66) Escreva um programa que receba um número inteiro positivo e determine se ele é um número perfeito. Um número perfeito é aquele cuja soma de seus divisores próprios (excluindo ele mesmo) é igual ao próprio número.\n",
        "# Exemplo: O número 6 é perfeito, pois\n",
        "# 1+2+3=6.\n",
        "x = int(input(\"Digite um número: \"))\n",
        "Guardar = 0\n",
        "for Passear in range(1, x):\n",
        "  if x%Passear == 0:\n",
        "    Guardar += Passear\n",
        "if Guardar == x:\n",
        "  print(\"É perfeito\")\n",
        "else:\n",
        "  print(\"Não é perfeito\")"
      ],
      "metadata": {
        "colab": {
          "base_uri": "https://localhost:8080/"
        },
        "id": "gDC64vM2Ycs7",
        "outputId": "4d8cf698-b565-4e7f-ba8f-916aeb2b565d"
      },
      "execution_count": 11,
      "outputs": [
        {
          "output_type": "stream",
          "name": "stdout",
          "text": [
            "Digite um número: 6\n",
            "É perfeito\n"
          ]
        }
      ]
    },
    {
      "cell_type": "code",
      "source": [
        "# 67) Faça um programa que leia uma lista de inteiros fornecida pelo usuário e\n",
        "# Calcule o produto de todos os números ímpares contidos nela.\n",
        "Lista = []\n",
        "Contar = 1\n",
        "while True:\n",
        "  Numero = int(input(\"Digite um número: \"))\n",
        "  if Numero != 0:\n",
        "    Lista.append(Numero)\n",
        "  else:\n",
        "    break\n",
        "for Passear in Lista:\n",
        "  if Passear%2 != 0:\n",
        "    Contar *= Passear\n",
        "print(Contar)\n"
      ],
      "metadata": {
        "colab": {
          "base_uri": "https://localhost:8080/"
        },
        "id": "76DolYx4aQKb",
        "outputId": "930e2c6e-60a5-4f37-d379-e0910789fe84"
      },
      "execution_count": 26,
      "outputs": [
        {
          "output_type": "stream",
          "name": "stdout",
          "text": [
            "Digite um número: 1\n",
            "Digite um número: 2\n",
            "Digite um número: 3\n",
            "Digite um número: 4\n",
            "Digite um número: 5\n",
            "Digite um número: 0\n",
            "15\n"
          ]
        }
      ]
    },
    {
      "cell_type": "code",
      "source": [
        "# 68) Escreva um programa que implemente o método de busca binária. O programa deve\n",
        "# Receber uma lista de números inteiro, ordená-la e permitir ao usuário buscar por\n",
        "# Um valor, retornando sua posição ou indicando que ele não foi encontarado.\n",
        "Lista = []\n",
        "while True:\n",
        "  Numero = int(input(\"Digite um número: \"))\n",
        "  if Numero == type(int):\n",
        "    Lista.append(Numero)\n",
        "  else:\n",
        "    break\n",
        "Buscar = int(input(\"Digite o número que você deseja buscar: )\"))\n",
        "for Procurar in Lista:\n",
        "  if Procurar == Buscar:\n",
        "    print(\"Elemento encontrado\")\n",
        "  else:\n",
        "    print(\"Elemento não encontrado\")\n",
        "\n"
      ],
      "metadata": {
        "colab": {
          "base_uri": "https://localhost:8080/"
        },
        "id": "0coeM5x6fotb",
        "outputId": "64c1af97-9e0a-4fa5-a784-4230fe3c73e3"
      },
      "execution_count": 27,
      "outputs": [
        {
          "name": "stdout",
          "output_type": "stream",
          "text": [
            "Digite um número: 1\n",
            "Digite o número que você deseja buscar: )1\n"
          ]
        }
      ]
    }
  ]
}