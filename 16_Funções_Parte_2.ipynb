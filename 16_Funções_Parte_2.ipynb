{
  "nbformat": 4,
  "nbformat_minor": 0,
  "metadata": {
    "colab": {
      "provenance": [],
      "authorship_tag": "ABX9TyMSeO3L9vEJSAPuL1h9DVqx",
      "include_colab_link": true
    },
    "kernelspec": {
      "name": "python3",
      "display_name": "Python 3"
    },
    "language_info": {
      "name": "python"
    }
  },
  "cells": [
    {
      "cell_type": "markdown",
      "metadata": {
        "id": "view-in-github",
        "colab_type": "text"
      },
      "source": [
        "<a href=\"https://colab.research.google.com/github/Cleitonbvalente/Programa-o-Orientada-a-Objetos/blob/main/16_Fun%C3%A7%C3%B5es_Parte_2.ipynb\" target=\"_parent\"><img src=\"https://colab.research.google.com/assets/colab-badge.svg\" alt=\"Open In Colab\"/></a>"
      ]
    },
    {
      "cell_type": "code",
      "execution_count": 1,
      "metadata": {
        "colab": {
          "base_uri": "https://localhost:8080/"
        },
        "id": "4NUwuSk9yTv5",
        "outputId": "5984224f-ebaf-4180-eb34-030591d8c817"
      },
      "outputs": [
        {
          "output_type": "stream",
          "name": "stdout",
          "text": [
            "5.0\n"
          ]
        }
      ],
      "source": [
        "# ARROW FUNCTION: função flecha\n",
        "def Quadrado(Numero: float) -> float:\n",
        "  return Numero*Numero\n",
        "\n",
        "def Distancia(Ponto1: list, Ponto2: list) -> float:\n",
        "  return (Quadrado(Ponto1[0]-Ponto2[0])+Quadrado(Ponto1[1]-Ponto2[1]))**(1/2)\n",
        "\n",
        "print(Distancia([0,0], [3,4]))\n"
      ]
    },
    {
      "cell_type": "code",
      "source": [
        "# Podemos reescrever usando a notação LAMBDA\n",
        "Quadrado = lambda Numero: Numero * Numero\n",
        "\n",
        "Distancia = lambda Ponto1, Ponto2: (Quadrado(Ponto1[0]-Ponto2[0])+Quadrado(Ponto1[1]-Ponto2[1]))**(1/2)\n",
        "\n",
        "Distancia([4,3], [0,0])\n"
      ],
      "metadata": {
        "colab": {
          "base_uri": "https://localhost:8080/"
        },
        "id": "ClLrBVf-1Dwo",
        "outputId": "29fd1f13-3974-4825-d40a-c9d440ce9b16"
      },
      "execution_count": 2,
      "outputs": [
        {
          "output_type": "execute_result",
          "data": {
            "text/plain": [
              "5.0"
            ]
          },
          "metadata": {},
          "execution_count": 2
        }
      ]
    },
    {
      "cell_type": "code",
      "source": [
        "# MÉTODO MAP()\n",
        "# O método\n",
        "Lista = [i for i in range(10)]\n",
        "print(Lista)\n",
        "print(list(map(lambda Elemento: Elemento**2, Lista)))\n",
        "# Perceba que a função lambda não chegou a ter um nome.\n",
        "# Por isso chamamos funções lambda de FUNÇÕES ANÔNIMAS\n"
      ],
      "metadata": {
        "colab": {
          "base_uri": "https://localhost:8080/"
        },
        "id": "Rmu2qesP2xBh",
        "outputId": "46f7ddc8-0d20-4506-a95f-d2f786e2f52b"
      },
      "execution_count": 3,
      "outputs": [
        {
          "output_type": "stream",
          "name": "stdout",
          "text": [
            "[0, 1, 2, 3, 4, 5, 6, 7, 8, 9]\n",
            "[0, 1, 4, 9, 16, 25, 36, 49, 64, 81]\n"
          ]
        }
      ]
    },
    {
      "cell_type": "code",
      "source": [
        "# 73) Receba uma lista de alturas de pessoas em uma sala expressa em metros.\n",
        "# Transforme a unidade de cada valor da lista em pés.\n",
        "# Obs: Escreva um programa em Python que realiza essa tafera usando a função map.\n",
        "Alturas = [1.69, 1.70, 1.71, 1.72]\n",
        "print(Alturas)\n",
        "print(list(map(lambda x: x * 3.2808, Alturas)))\n"
      ],
      "metadata": {
        "colab": {
          "base_uri": "https://localhost:8080/"
        },
        "id": "IQOP5w-s3-AQ",
        "outputId": "4e00071c-8539-407e-fbf6-3602eed40486"
      },
      "execution_count": 5,
      "outputs": [
        {
          "output_type": "stream",
          "name": "stdout",
          "text": [
            "[1.69, 1.7, 1.71, 1.72]\n",
            "[5.544552, 5.5773600000000005, 5.610168, 5.642976]\n"
          ]
        }
      ]
    },
    {
      "cell_type": "code",
      "source": [
        "# 74) Você foi contratado pela Venturus Energia Eólica para\n",
        "# Desenvolver . O seu objetivo é criar um programa que\n",
        "# Receba uma lista de valores de velocidade do vento inseridos\n",
        "# Pelo usuário e, em seguida, calcular os pares ordenados (x, y)\n",
        "# Que representam a relação entre velocidade do vento (x) e\n",
        "# A potência gerada (y). Considere que a função para calcular\n",
        "# A poytência gerada é uma função quadrática, onde os coeficientes\n",
        "# São a =1, b =1, c=1. O programa deve imprimir esses\n",
        "# Pares ordenados para o intervalo de valores de velocidade do\n",
        "# Vento recebidos. Isso ajudará a empresa compreender melhor\n",
        "# A relação entre a velocidade do vento e a potência gerada\n",
        "# Em suas turbinas eólicas.\n",
        "\n",
        "Vel_vento = list(map( float,input(\"Digite as velocidades do vento: \").split()))\n",
        "Potencias = list(map(lambda Vel: (Vel)**2 + (Vel) + 1, Vel_vento))\n",
        "Saida = [(Vel, Pot) for Vel, Pot in zip(Vel_vento, Potencias)]\n",
        "print(Saida)\n"
      ],
      "metadata": {
        "colab": {
          "base_uri": "https://localhost:8080/"
        },
        "id": "PfEjEaND5Oko",
        "outputId": "f3888567-bd6b-4490-f490-bd0f0993d737"
      },
      "execution_count": 18,
      "outputs": [
        {
          "output_type": "stream",
          "name": "stdout",
          "text": [
            "Digite as velocidades do vento: 1 2 3 4\n",
            "[(1.0, 3.0), (2.0, 7.0), (3.0, 13.0), (4.0, 21.0)]\n"
          ]
        }
      ]
    },
    {
      "cell_type": "code",
      "source": [
        "# Podemos ordenar uma lista de tuplas pelo segundo elemmento de cada tupla\n",
        "Lista = [(1, 5), (3, 2), (2, 8)]\n",
        "Lista_ordenada = sorted(Lista, key = lambda x: x[1], reverse = True)\n",
        "print(Lista_ordenada)\n"
      ],
      "metadata": {
        "colab": {
          "base_uri": "https://localhost:8080/"
        },
        "id": "ISip1e8G-IQf",
        "outputId": "ca89fbaf-746d-4dce-a321-f4dab1cb8f43"
      },
      "execution_count": 19,
      "outputs": [
        {
          "output_type": "stream",
          "name": "stdout",
          "text": [
            "[(2, 8), (1, 5), (3, 2)]\n"
          ]
        }
      ]
    },
    {
      "cell_type": "code",
      "source": [
        "# 75) Para imprimir os valores em um gráfico,\n",
        "# Precisamos ordenar os números com base nos valores das\n",
        "# Abscissas. Escreva um programaem Python que ordena essa\n",
        "# Lista em ordem crescente e a imprime na tela.\n",
        "\n",
        "Lista_nova = [(1,2), (3,2), (45,2), (23,1), (0,0)]\n",
        "Lista_ordenada = sorted(Lista, key = lambda x: x[0])\n",
        "print(Lista_ordenada)\n"
      ],
      "metadata": {
        "colab": {
          "base_uri": "https://localhost:8080/"
        },
        "id": "WEUcb4Uo-yeg",
        "outputId": "cfaa44d0-9f81-453e-f328-781531aefeb2"
      },
      "execution_count": 23,
      "outputs": [
        {
          "output_type": "stream",
          "name": "stdout",
          "text": [
            "[(0, 0), (1, 2), (3, 2), (23, 1), (45, 2)]\n"
          ]
        }
      ]
    },
    {
      "cell_type": "code",
      "source": [
        "# FUNÇÃO BUILT-IN FILTER\n",
        "# Podemos filtrar números pares de uma lista\n",
        "Numeros = [1, 2, 3, 4, 5, 6]\n",
        "Pares = list(filter(lambda x: x % 2 == 0, Numeros))\n",
        "print(Pares)\n"
      ],
      "metadata": {
        "colab": {
          "base_uri": "https://localhost:8080/"
        },
        "id": "6fuDd-_v_x2o",
        "outputId": "7f85efde-4e77-4f6b-f3ba-930832b73ae1"
      },
      "execution_count": 24,
      "outputs": [
        {
          "output_type": "stream",
          "name": "stdout",
          "text": [
            "[2, 4, 6]\n"
          ]
        }
      ]
    },
    {
      "cell_type": "code",
      "source": [
        "# 76) Você foi incubido de desenvolver um programa para\n",
        "# Auxiliar na organização das notas dos alunos de uma escola.\n",
        "# O programa deve receber o nome competo e a nota de vários\n",
        "# Alunos pelo teclado, organizando-os em uma lista de tuplas.\n",
        "# Cada tupla contém o nome do aluno como primeiro elemento e\n",
        "# Sua pontuação como segundo elemento. Em seguida, você deve\n",
        "# Escrever uma funão em Python que filtra os alunos que\n",
        "# Obtiveram uma pontuaão acima de 7.0 e os armazena em uma\n",
        "# Nova lista, retornando-as. A lista retornada deve ser\n",
        "# Impressa na tela, exibindo o nome do aluno seguido por\n",
        "# Sua nota, em ordem alfabética.\n",
        "Nome_completo = []\n",
        "Nota_completa = []\n",
        "while True:\n",
        "    Nome = input(\"Digite seu nome completo: \")\n",
        "    Nome_completo.append(Nome)\n",
        "    Nota = float(input(\"Digite sua nota: \"))\n",
        "    Nota_completa.append(Nota)\n",
        "    if Nota == 0:\n",
        "      break\n",
        "Juntar = list(zip(Nome_completo, Nota_completa))\n",
        "print(Juntar)\n",
        "Aprovados = list(filter(lambda Nota_completa: Nota_completa[1] >= 7, Juntar))\n",
        "print(Aprovados)\n"
      ],
      "metadata": {
        "colab": {
          "base_uri": "https://localhost:8080/"
        },
        "id": "-yVr3W7jAPBQ",
        "outputId": "2dc9edd6-6753-416c-ac60-42adce45d195"
      },
      "execution_count": 30,
      "outputs": [
        {
          "output_type": "stream",
          "name": "stdout",
          "text": [
            "Digite seu nome completo: A\n",
            "Digite sua nota: 1\n",
            "Digite seu nome completo: G\n",
            "Digite sua nota: 10\n",
            "Digite seu nome completo: 0\n",
            "Digite sua nota: 0\n",
            "[('A', 1.0), ('G', 10.0), ('0', 0.0)]\n",
            "[('G', 10.0)]\n"
          ]
        }
      ]
    }
  ]
}