{
  "nbformat": 4,
  "nbformat_minor": 0,
  "metadata": {
    "colab": {
      "provenance": [],
      "authorship_tag": "ABX9TyM9OH9rx2PWZo10py1Z7LK9",
      "include_colab_link": true
    },
    "kernelspec": {
      "name": "python3",
      "display_name": "Python 3"
    },
    "language_info": {
      "name": "python"
    }
  },
  "cells": [
    {
      "cell_type": "markdown",
      "metadata": {
        "id": "view-in-github",
        "colab_type": "text"
      },
      "source": [
        "<a href=\"https://colab.research.google.com/github/Cleitonbvalente/Programa-o-Orientada-a-Objetos/blob/main/7_Tuplas_Parte_1.ipynb\" target=\"_parent\"><img src=\"https://colab.research.google.com/assets/colab-badge.svg\" alt=\"Open In Colab\"/></a>"
      ]
    },
    {
      "cell_type": "code",
      "execution_count": 2,
      "metadata": {
        "colab": {
          "base_uri": "https://localhost:8080/"
        },
        "id": "F8svfDOhUbc9",
        "outputId": "c3bd0263-f278-4ff0-c8ff-821eb21419ca"
      },
      "outputs": [
        {
          "output_type": "stream",
          "name": "stdout",
          "text": [
            "(1, '3', 2, 'quatro', 5.0, 5)\n"
          ]
        }
      ],
      "source": [
        "# Tuplas são estruturas para guardar múltiplos itens em uma variável.\n",
        "# São ordenadas, imútáveis e podemos ter itens duplicados.\n",
        "\n",
        "Minha_tupla = (1, '3', 2, 'quatro', 5.0, 5)\n",
        "\n",
        "print(Minha_tupla)"
      ]
    },
    {
      "cell_type": "code",
      "source": [
        "Minha_tupla.count(5)"
      ],
      "metadata": {
        "colab": {
          "base_uri": "https://localhost:8080/"
        },
        "id": "pBqm8YJCW2sz",
        "outputId": "9776de76-1720-4949-f0ed-a5d02809c75e"
      },
      "execution_count": 3,
      "outputs": [
        {
          "output_type": "execute_result",
          "data": {
            "text/plain": [
              "2"
            ]
          },
          "metadata": {},
          "execution_count": 3
        }
      ]
    },
    {
      "cell_type": "code",
      "source": [
        "# Método index: Retorna o índice do elemento passado por parâmetro,\n",
        "# Caso exista. Caso não exista, retorna value error.\n",
        "Minha_tupla.index(5)"
      ],
      "metadata": {
        "colab": {
          "base_uri": "https://localhost:8080/"
        },
        "id": "oBDneySSW6FJ",
        "outputId": "6a2e888e-b83f-4090-ddc3-8f02c286998f"
      },
      "execution_count": 4,
      "outputs": [
        {
          "output_type": "execute_result",
          "data": {
            "text/plain": [
              "4"
            ]
          },
          "metadata": {},
          "execution_count": 4
        }
      ]
    },
    {
      "cell_type": "code",
      "source": [
        "# Tuplas com um item devem ser declaradas assim:\n",
        "Tupla_hum_item=('Item',)\n",
        "Pode_ser_assim_tb=tuple(('Item'))\n",
        "Isso_nao_funciona=('Item')\n",
        "print(type(Tupla_hum_item), type(Pode_ser_assim_tb), type(Isso_nao_funciona))"
      ],
      "metadata": {
        "colab": {
          "base_uri": "https://localhost:8080/"
        },
        "id": "ApfORos0Xo79",
        "outputId": "6185edd3-9666-45fd-ed50-abe0db16f8e2"
      },
      "execution_count": 5,
      "outputs": [
        {
          "output_type": "stream",
          "name": "stdout",
          "text": [
            "<class 'tuple'> <class 'tuple'> <class 'str'>\n"
          ]
        }
      ]
    },
    {
      "cell_type": "code",
      "source": [
        "# Podemos transfromar string em tupla de caracteres:\n",
        "Tupla=tuple('Ola')\n",
        "Tupla"
      ],
      "metadata": {
        "colab": {
          "base_uri": "https://localhost:8080/"
        },
        "id": "HgT7R73wYjZS",
        "outputId": "9f4c6cc9-beec-4376-b590-d6a9c456ca98"
      },
      "execution_count": 6,
      "outputs": [
        {
          "output_type": "execute_result",
          "data": {
            "text/plain": [
              "('O', 'l', 'a')"
            ]
          },
          "metadata": {},
          "execution_count": 6
        }
      ]
    },
    {
      "cell_type": "code",
      "source": [
        "# 19) Escreva um programa em Python que solicite ao usuário inserir\n",
        "# Um número inteiro positivo. Em seguida, utilize um loop for para\n",
        "# Calcular a soma dos dígitos pares desse número.\n",
        "\n",
        "# Por exemplo, se o usuário inserir o número 2468, o programa deve\n",
        "# Calcular a soma dos dígitos 2 + 4 + 6 + 8 e exibir o resultado.\n",
        "\n",
        "Num = tuple(str(int(input('Digite um número inteiro positivo: '))))\n",
        "Soma = 0\n",
        "for x in range (0,len(Num)):\n",
        "  if(int(Num[x]) % 2 == 0):\n",
        "    Soma += int(Num[x])\n",
        "print(Soma)\n"
      ],
      "metadata": {
        "colab": {
          "base_uri": "https://localhost:8080/"
        },
        "id": "FNHzHXtrZAUy",
        "outputId": "77ad8c79-3cf9-4a89-912b-1c267d69c4f7"
      },
      "execution_count": 15,
      "outputs": [
        {
          "output_type": "stream",
          "name": "stdout",
          "text": [
            "Digite um número inteiro positivo: 2345\n",
            "6\n"
          ]
        }
      ]
    },
    {
      "cell_type": "code",
      "source": [
        "# SLICING\n",
        "Frutas =(\"Maça\", \"Banana\", \"Cereja\", \"Laranja\", \"Kiwi\", \"Melão\", \"Manga\")\n",
        "\n",
        "print(Frutas[2:5+1:3])"
      ],
      "metadata": {
        "colab": {
          "base_uri": "https://localhost:8080/"
        },
        "id": "FznfVoQ0doeJ",
        "outputId": "ff1a1000-b2b1-4de4-a62b-6ece292d186f"
      },
      "execution_count": 17,
      "outputs": [
        {
          "output_type": "stream",
          "name": "stdout",
          "text": [
            "('Cereja', 'Melão')\n"
          ]
        }
      ]
    },
    {
      "cell_type": "code",
      "source": [
        "# 15) Faça um programa em python que receba no teclado um número\n",
        "# E realize a seguinte tradução:\n",
        "\n",
        "# 0 > domingo\n",
        "# 1 > Segunda\n",
        "# 2 > Terça\n",
        "# ...\n",
        "# 6 > Sábado\n",
        "# 7 > Domingo\n",
        "\n",
        "Dias = int(input(\"Digite um número: \"))\n",
        "Semana =(\"Domingo\", \"Segunda\", \"Terça\", \"Quarta\", \"Quinta\", \"Sexta\", \"Sábado\")\n",
        "print(Semana[Dias%7])"
      ],
      "metadata": {
        "colab": {
          "base_uri": "https://localhost:8080/"
        },
        "id": "VrFqCeazgWSy",
        "outputId": "bff74c6c-3369-4676-f997-86b718ffc227"
      },
      "execution_count": 23,
      "outputs": [
        {
          "output_type": "stream",
          "name": "stdout",
          "text": [
            "Digite um número: 1\n",
            "Segunda\n"
          ]
        }
      ]
    },
    {
      "cell_type": "code",
      "source": [
        "# Podemos desempacotar (Unpack) uma tupla.\n",
        "Tupla=('Segunda', 'Terça', 'Quarta', 'Quinta', 'Sexta', 'Sábado', 'Domingo')\n",
        "Dia0, Dia1, Dia2, Dia3, Dia4, Dia5, Dia6= Tupla\n",
        "print(Dia0, Dia1, Dia2, Dia3)"
      ],
      "metadata": {
        "colab": {
          "base_uri": "https://localhost:8080/"
        },
        "id": "el5i1Is7i8Wa",
        "outputId": "849b5a95-711b-433c-c439-cde3721dbaaf"
      },
      "execution_count": 40,
      "outputs": [
        {
          "output_type": "stream",
          "name": "stdout",
          "text": [
            "Segunda Terça Quarta Quinta\n"
          ]
        }
      ]
    },
    {
      "cell_type": "code",
      "source": [
        "# Podemos somar tuplas\n",
        "Tupla_1=('1', '2', '3')\n",
        "Tupla_2=('4', '5', '6')\n",
        "Soma = Tupla_1 + Tupla_2\n",
        "Multiplica = Tupla_2 * 4\n",
        "print(Soma, Multiplica)"
      ],
      "metadata": {
        "colab": {
          "base_uri": "https://localhost:8080/"
        },
        "id": "8VIUU-jIkF6q",
        "outputId": "f70855bf-6436-4e34-8fca-47f81fd3fb52"
      },
      "execution_count": 43,
      "outputs": [
        {
          "output_type": "stream",
          "name": "stdout",
          "text": [
            "('1', '2', '3', '4', '5', '6') ('4', '5', '6', '4', '5', '6', '4', '5', '6', '4', '5', '6')\n"
          ]
        }
      ]
    },
    {
      "cell_type": "code",
      "source": [
        "# Testando se elemento está em tupla.\n",
        "\n",
        "if 1 in Tupla_1:\n",
        "  print(\"O número está na Tupla_1\")\n",
        "elif '1' in Tupla_1:\n",
        "  print(\"A string '1' está na Tupla_1\")"
      ],
      "metadata": {
        "colab": {
          "base_uri": "https://localhost:8080/"
        },
        "id": "MG-frpMykioK",
        "outputId": "e5e93ffc-72c2-4386-a634-a97c41910e44"
      },
      "execution_count": 29,
      "outputs": [
        {
          "output_type": "stream",
          "name": "stdout",
          "text": [
            "A string '1' está na Tupla_1\n"
          ]
        }
      ]
    },
    {
      "cell_type": "code",
      "source": [
        "Palavra = input(\"Digite uma palavra: \").lower()\n",
        "Palavra.replace(\" \",\"\")\n",
        "Somar = Palavra.count(\"a\") + Palavra.count(\"e\") + Palavra.count(\"i\") + Palavra.count(\"o\") + Palavra.count(\"u\")\n",
        "print(Somar)"
      ],
      "metadata": {
        "colab": {
          "base_uri": "https://localhost:8080/"
        },
        "id": "d7I-BqfwlBP6",
        "outputId": "2787e679-1bb8-4dce-c58f-d5248c2eb8d3"
      },
      "execution_count": 37,
      "outputs": [
        {
          "output_type": "stream",
          "name": "stdout",
          "text": [
            "Digite uma palavra: dfjweioff fefewnfjesnf\n",
            "6\n"
          ]
        }
      ]
    },
    {
      "cell_type": "code",
      "source": [],
      "metadata": {
        "id": "b5C77MUPnonp"
      },
      "execution_count": null,
      "outputs": []
    }
  ]
}