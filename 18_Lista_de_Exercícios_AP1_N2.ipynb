{
  "nbformat": 4,
  "nbformat_minor": 0,
  "metadata": {
    "colab": {
      "provenance": [],
      "authorship_tag": "ABX9TyNIAXRzMto9SL97FkF/Lv1t",
      "include_colab_link": true
    },
    "kernelspec": {
      "name": "python3",
      "display_name": "Python 3"
    },
    "language_info": {
      "name": "python"
    }
  },
  "cells": [
    {
      "cell_type": "markdown",
      "metadata": {
        "id": "view-in-github",
        "colab_type": "text"
      },
      "source": [
        "<a href=\"https://colab.research.google.com/github/Cleitonbvalente/Programa-o-Orientada-a-Objetos/blob/main/18_Lista_de_Exerc%C3%ADcios_AP1_N2.ipynb\" target=\"_parent\"><img src=\"https://colab.research.google.com/assets/colab-badge.svg\" alt=\"Open In Colab\"/></a>"
      ]
    },
    {
      "cell_type": "code",
      "execution_count": 12,
      "metadata": {
        "colab": {
          "base_uri": "https://localhost:8080/"
        },
        "id": "hR7OAaYHzdZK",
        "outputId": "9cdc9f3f-ce29-4534-a63c-f712056fde4c"
      },
      "outputs": [
        {
          "output_type": "stream",
          "name": "stdout",
          "text": [
            "Produto A 150.0\n",
            "Produto C 120.3\n",
            "Produto D 200.0\n"
          ]
        }
      ],
      "source": [
        "# 88) Você tem uma lista de produtos e seus preços em duas listas separadas.\n",
        "# Crie um dicionário com o nome  e o produto como chave e o preço como valor.\n",
        "# Depois imprima na tela apenas o nome  e o preço dos produtos com preço acima\n",
        "# Da média.\n",
        "Nomes_produtos = ['Produto A','Produto B', 'Produto C', 'Produto D', 'Produto E', 'Produto F']\n",
        "Precos = [150.0, 80.5, 120.3, 200.0, 50.0, 90.0]\n",
        "x = dict(zip(Nomes_produtos, Precos))\n",
        "Media = sum(Precos)/len(Precos)\n",
        "for Produto, Valor in x.items():\n",
        "  if Valor > Media:\n",
        "    print(f\"{Produto} {Valor}\")\n"
      ]
    },
    {
      "cell_type": "code",
      "source": [
        "# Resolução da 69) Um APP na Play Store passou a ser comercializado em diferentes regiões do mundo e\n",
        "# Necessita"
      ],
      "metadata": {
        "id": "GCbZBNB439uY"
      },
      "execution_count": null,
      "outputs": []
    },
    {
      "cell_type": "code",
      "source": [
        "# Resolução de outra 69) Implemente uma função chamada saudacao que receba dois parâmetros: nome: (obrigatório)\n",
        "# E periodo (opcional).\n",
        "\n",
        "# O parâmetro periodo deve ser uma string que indica o período do dia:\n",
        "# \"Manhã\", \"tarde\", ou \"noite\".\n",
        "# Caso não seja informado, ele deve assumir o valor padrão \"dia\".\n",
        "\n",
        "# Exemplo de entrada e saída:\n",
        "# Entrada: saudacao(\"Maria\", \"tarde\")\n",
        "# Saída: \"Bom tarde, Maria!\"\n",
        "# Entrada: saudacao(\"João\")\n",
        "# Saída: \"Bom dia!, João!\"\n",
        "def Saudacao(Nome: str, Turno: str) -> None:\n",
        "  if Turno == \"Tarde\":\n",
        "    print(f\"Boa {Turno}, {Nome}!\")\n",
        "  elif Turno == \"Noite\":\n",
        "    print(f\"Boa {Turno}, {Nome}!\")\n",
        "  elif Turno == \"\":\n",
        "    print(f\"Bom dia, {Nome}!\")\n",
        "\n",
        "Saudacao(\"Maria\", \"Tarde\")\n",
        "Saudacao(\"João\", \"\")\n"
      ],
      "metadata": {
        "colab": {
          "base_uri": "https://localhost:8080/"
        },
        "id": "lzbU7FNh5TAD",
        "outputId": "aee54d0a-1ae7-4f83-d557-b51d5431a023"
      },
      "execution_count": 21,
      "outputs": [
        {
          "output_type": "stream",
          "name": "stdout",
          "text": [
            "Boa Tarde, Maria!\n",
            "Bom dia, João!\n"
          ]
        }
      ]
    },
    {
      "cell_type": "code",
      "source": [
        "# Resolução da 77) Usando \"filter\", filtre todas as vogais de uma dado string.\n",
        "String = 'Seu Nome Aqui'\n",
        "Vogais = list(filter(lambda x: x in  \"aeiouAEIOU\", String))\n",
        "print(f\"{Vogais}\")\n"
      ],
      "metadata": {
        "colab": {
          "base_uri": "https://localhost:8080/"
        },
        "id": "uMA7jW0j9EWV",
        "outputId": "e37a07a0-8b22-4f43-cf6a-0e0a9164df6d"
      },
      "execution_count": 23,
      "outputs": [
        {
          "output_type": "stream",
          "name": "stdout",
          "text": [
            "['e', 'u', 'o', 'e', 'a', 'u', 'i']\n"
          ]
        }
      ]
    },
    {
      "cell_type": "code",
      "source": [
        "# 89) Resolva a questão 69 de maneira que a saída contenha todas as letras minúsculas.\n",
        "def decorador(func_inicial):\n",
        "\n",
        "  def func_final(Nome: str, Turno: str)-> str:\n",
        "    print(func_inicial(Nome, Turno).lower())\n",
        "\n",
        "  return func_final\n",
        "\n",
        "@decorador\n",
        "def Saudacao(Nome: str, Turno: str) -> str:\n",
        "  if Turno == \"Tarde\":\n",
        "    return (f\"Boa {Turno}, {Nome}!\")\n",
        "  elif Turno == \"Noite\":\n",
        "    return (f\"Boa {Turno}, {Nome}!\")\n",
        "  elif Turno == \"\":\n",
        "    return (f\"Bom dia, {Nome}!\")\n",
        "\n",
        "Saudacao(\"Maria\", \"Tarde\")\n",
        "Saudacao(\"João\", \"\")\n"
      ],
      "metadata": {
        "colab": {
          "base_uri": "https://localhost:8080/"
        },
        "id": "thfHLNZZBmKR",
        "outputId": "d8631a8c-4324-4641-9e80-492d18bca45b"
      },
      "execution_count": 33,
      "outputs": [
        {
          "output_type": "stream",
          "name": "stdout",
          "text": [
            "boa tarde, maria!\n",
            "bom dia, joão!\n"
          ]
        }
      ]
    },
    {
      "cell_type": "code",
      "source": [
        "def decorador(func):\n",
        "\n",
        "  match(func.__name__):\n",
        "    case 'soma':\n",
        "      def nova_funcao(a, b, log = []):\n",
        "        log.append(f'{a}+{b}={a+b}')\n",
        "        return func(a,b)\n",
        "\n",
        "    case 'sub':\n",
        "      def nova_funcao(a, b, log =[]):\n",
        "        log.append(f'{a}-{b}={a-b}')\n",
        "        return func(a,b)\n",
        "\n",
        "  return nova_funcao\n",
        "\n",
        "@decorador\n",
        "def soma(a,b):\n",
        "  return a+b\n",
        "\n",
        "@decorador\n",
        "def sub(a,b):\n",
        "  return a-b\n",
        "\n",
        "lista_log=[]\n",
        "soma(2,3,lista_log)\n",
        "sub(2,6,lista_log)\n",
        "soma(4,5,lista_log)\n",
        "print(lista_log)\n"
      ],
      "metadata": {
        "colab": {
          "base_uri": "https://localhost:8080/"
        },
        "id": "elTdfLajGvBr",
        "outputId": "07ff4a32-dbda-4cc7-d167-d3169a2c6342"
      },
      "execution_count": 36,
      "outputs": [
        {
          "output_type": "stream",
          "name": "stdout",
          "text": [
            "['2+3=5', '2-6=-4', '4+5=9']\n"
          ]
        }
      ]
    },
    {
      "cell_type": "code",
      "source": [],
      "metadata": {
        "id": "drji2jmsGAY8"
      },
      "execution_count": null,
      "outputs": []
    }
  ]
}