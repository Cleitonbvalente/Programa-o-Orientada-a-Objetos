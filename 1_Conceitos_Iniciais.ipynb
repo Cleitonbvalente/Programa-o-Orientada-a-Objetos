{
  "nbformat": 4,
  "nbformat_minor": 0,
  "metadata": {
    "colab": {
      "provenance": [],
      "authorship_tag": "ABX9TyOvQbA/SBCuE/JjAEMxp2Q/",
      "include_colab_link": true
    },
    "kernelspec": {
      "name": "python3",
      "display_name": "Python 3"
    },
    "language_info": {
      "name": "python"
    }
  },
  "cells": [
    {
      "cell_type": "markdown",
      "metadata": {
        "id": "view-in-github",
        "colab_type": "text"
      },
      "source": [
        "<a href=\"https://colab.research.google.com/github/Cleitonbvalente/Programa-o-Orientada-a-Objetos/blob/main/1_Conceitos_Iniciais.ipynb\" target=\"_parent\"><img src=\"https://colab.research.google.com/assets/colab-badge.svg\" alt=\"Open In Colab\"/></a>"
      ]
    },
    {
      "cell_type": "code",
      "execution_count": null,
      "metadata": {
        "colab": {
          "base_uri": "https://localhost:8080/"
        },
        "id": "pSIvx3ahQiKc",
        "outputId": "9be6139b-835b-45d6-ddc4-650427a7103d"
      },
      "outputs": [
        {
          "output_type": "execute_result",
          "data": {
            "text/plain": [
              "int"
            ]
          },
          "metadata": {},
          "execution_count": 1
        }
      ],
      "source": [
        "#Variáveis\n",
        "Tempo=10\n",
        "type(Tempo)"
      ]
    },
    {
      "cell_type": "code",
      "source": [
        "Clima=11.2\n",
        "type(Clima)"
      ],
      "metadata": {
        "colab": {
          "base_uri": "https://localhost:8080/"
        },
        "id": "J8fbU3cNcloQ",
        "outputId": "0514ba36-5d20-475e-c9d5-cf663e1b8445"
      },
      "execution_count": null,
      "outputs": [
        {
          "output_type": "execute_result",
          "data": {
            "text/plain": [
              "float"
            ]
          },
          "metadata": {},
          "execution_count": 3
        }
      ]
    },
    {
      "cell_type": "code",
      "source": [
        "print(Tempo)"
      ],
      "metadata": {
        "colab": {
          "base_uri": "https://localhost:8080/"
        },
        "id": "wjH4HnI6bBVv",
        "outputId": "9c05fd49-53df-4d07-a7a1-928df83c6789"
      },
      "execution_count": null,
      "outputs": [
        {
          "output_type": "stream",
          "name": "stdout",
          "text": [
            "10\n"
          ]
        }
      ]
    },
    {
      "cell_type": "code",
      "source": [
        "Nome='Cleiton Barbosa Valente'\n",
        "print(Nome)"
      ],
      "metadata": {
        "colab": {
          "base_uri": "https://localhost:8080/"
        },
        "id": "ZkUBXEIscigQ",
        "outputId": "b821649f-49e4-4947-e52f-70c15a914b7c"
      },
      "execution_count": null,
      "outputs": [
        {
          "output_type": "stream",
          "name": "stdout",
          "text": [
            "Cleiton Barbosa Valente\n"
          ]
        }
      ]
    },
    {
      "cell_type": "code",
      "source": [
        "type(Nome)"
      ],
      "metadata": {
        "colab": {
          "base_uri": "https://localhost:8080/"
        },
        "id": "ULU8-Liuej0r",
        "outputId": "e7b66aff-053a-4dfb-f0be-72c105ff04b7"
      },
      "execution_count": null,
      "outputs": [
        {
          "output_type": "execute_result",
          "data": {
            "text/plain": [
              "str"
            ]
          },
          "metadata": {},
          "execution_count": 5
        }
      ]
    },
    {
      "cell_type": "code",
      "source": [
        "Cleiton_presente=True\n",
        "Donny_presente = False"
      ],
      "metadata": {
        "id": "A__yL3tKfi4i"
      },
      "execution_count": null,
      "outputs": []
    },
    {
      "cell_type": "code",
      "source": [
        "type(Cleiton_presente)"
      ],
      "metadata": {
        "colab": {
          "base_uri": "https://localhost:8080/"
        },
        "id": "LEzlnacIf0gl",
        "outputId": "f33eb441-8a07-44cd-a9a3-16b7417e913e"
      },
      "execution_count": null,
      "outputs": [
        {
          "output_type": "execute_result",
          "data": {
            "text/plain": [
              "bool"
            ]
          },
          "metadata": {},
          "execution_count": 7
        }
      ]
    },
    {
      "cell_type": "code",
      "source": [
        "Lista=[]\n",
        "type(Lista)"
      ],
      "metadata": {
        "colab": {
          "base_uri": "https://localhost:8080/"
        },
        "id": "3MeD3GjegASl",
        "outputId": "fa3932ad-2961-4045-c20d-ff215d58df38"
      },
      "execution_count": null,
      "outputs": [
        {
          "output_type": "execute_result",
          "data": {
            "text/plain": [
              "list"
            ]
          },
          "metadata": {},
          "execution_count": 10
        }
      ]
    },
    {
      "cell_type": "code",
      "source": [
        "Tupla=(1, 2, 3)\n",
        "type(Tupla)"
      ],
      "metadata": {
        "colab": {
          "base_uri": "https://localhost:8080/"
        },
        "id": "NwSNv9u1gTY3",
        "outputId": "218ecaba-b97b-4903-8204-ec3c7082a87a"
      },
      "execution_count": null,
      "outputs": [
        {
          "output_type": "execute_result",
          "data": {
            "text/plain": [
              "tuple"
            ]
          },
          "metadata": {},
          "execution_count": 11
        }
      ]
    },
    {
      "cell_type": "code",
      "source": [
        "Conjunto={'Cleiton', 10, 11.0, 'Q', \"Cleiton\"}\n",
        "print(Conjunto)"
      ],
      "metadata": {
        "colab": {
          "base_uri": "https://localhost:8080/"
        },
        "id": "9w40sMpdgqcd",
        "outputId": "9edb38a1-746d-4895-a721-6d355d388662"
      },
      "execution_count": null,
      "outputs": [
        {
          "output_type": "stream",
          "name": "stdout",
          "text": [
            "{'Cleiton', 10, 11.0, 'Q'}\n"
          ]
        }
      ]
    },
    {
      "cell_type": "code",
      "source": [
        "Dicionario={'Amor': 'É algo que alguém...', 'Paixão': 'Uma explosão química', 'Amizade': 'É quando que'}\n",
        "type(Dicionario)"
      ],
      "metadata": {
        "colab": {
          "base_uri": "https://localhost:8080/"
        },
        "id": "NkUPbPhkhvtH",
        "outputId": "c7b859d7-5aa1-4230-c791-ebc9d31fc0c2"
      },
      "execution_count": null,
      "outputs": [
        {
          "output_type": "execute_result",
          "data": {
            "text/plain": [
              "dict"
            ]
          },
          "metadata": {},
          "execution_count": 13
        }
      ]
    }
  ]
}