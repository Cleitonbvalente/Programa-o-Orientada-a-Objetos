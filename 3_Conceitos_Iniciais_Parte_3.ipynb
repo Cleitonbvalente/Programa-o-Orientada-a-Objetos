{
  "nbformat": 4,
  "nbformat_minor": 0,
  "metadata": {
    "colab": {
      "provenance": [],
      "authorship_tag": "ABX9TyP+FKWGY/fLF2AuMRwdvvjj",
      "include_colab_link": true
    },
    "kernelspec": {
      "name": "python3",
      "display_name": "Python 3"
    },
    "language_info": {
      "name": "python"
    }
  },
  "cells": [
    {
      "cell_type": "markdown",
      "metadata": {
        "id": "view-in-github",
        "colab_type": "text"
      },
      "source": [
        "<a href=\"https://colab.research.google.com/github/Cleitonbvalente/Programa-o-Orientada-a-Objetos/blob/main/3_Conceitos_Iniciais_Parte_3.ipynb\" target=\"_parent\"><img src=\"https://colab.research.google.com/assets/colab-badge.svg\" alt=\"Open In Colab\"/></a>"
      ]
    },
    {
      "cell_type": "code",
      "execution_count": null,
      "metadata": {
        "colab": {
          "base_uri": "https://localhost:8080/"
        },
        "id": "ZTsVh5Nl-zmn",
        "outputId": "898c9986-ae75-4b6b-dae4-726129f3cfeb"
      },
      "outputs": [
        {
          "output_type": "execute_result",
          "data": {
            "text/plain": [
              "27"
            ]
          },
          "metadata": {},
          "execution_count": 1
        }
      ],
      "source": [
        "# Matemática na linha de comando\n",
        "(1+2)**(1+2)"
      ]
    },
    {
      "cell_type": "code",
      "source": [
        "# Raiz quadrada\n",
        "2**(1/2)"
      ],
      "metadata": {
        "colab": {
          "base_uri": "https://localhost:8080/"
        },
        "id": "1WazzVSl_wJQ",
        "outputId": "308e0a44-7602-458f-8c39-c5f3ea540fd4"
      },
      "execution_count": null,
      "outputs": [
        {
          "output_type": "execute_result",
          "data": {
            "text/plain": [
              "1.4142135623730951"
            ]
          },
          "metadata": {},
          "execution_count": 2
        }
      ]
    },
    {
      "cell_type": "code",
      "source": [
        "# Usando software de terceiros\n",
        "import math\n",
        "math.sqrt(2)"
      ],
      "metadata": {
        "colab": {
          "base_uri": "https://localhost:8080/"
        },
        "id": "WgjYswbP_1S_",
        "outputId": "7392b08e-400c-4b32-b4bd-ae013dee6649"
      },
      "execution_count": null,
      "outputs": [
        {
          "output_type": "execute_result",
          "data": {
            "text/plain": [
              "1.4142135623730951"
            ]
          },
          "metadata": {},
          "execution_count": 3
        }
      ]
    },
    {
      "cell_type": "code",
      "source": [
        "# Usando parte específica do software de terceiros\n",
        "from math import pow\n",
        "pow(2,1/2)"
      ],
      "metadata": {
        "colab": {
          "base_uri": "https://localhost:8080/"
        },
        "id": "ucQMBdj8APTY",
        "outputId": "fa57908b-935f-446f-8875-e34e7a260f19"
      },
      "execution_count": null,
      "outputs": [
        {
          "output_type": "execute_result",
          "data": {
            "text/plain": [
              "1.4142135623730951"
            ]
          },
          "metadata": {},
          "execution_count": 4
        }
      ]
    },
    {
      "cell_type": "code",
      "source": [
        "# Usando apelidos (Alias) de partes específicas de software de terceiros\n",
        "from math import sqrt as raiz\n",
        "raiz(2)"
      ],
      "metadata": {
        "colab": {
          "base_uri": "https://localhost:8080/"
        },
        "id": "xCEGHqSNAvIX",
        "outputId": "e7ea1d73-f05c-4c1b-8a72-5331154cd964"
      },
      "execution_count": null,
      "outputs": [
        {
          "output_type": "execute_result",
          "data": {
            "text/plain": [
              "1.4142135623730951"
            ]
          },
          "metadata": {},
          "execution_count": 5
        }
      ]
    },
    {
      "cell_type": "code",
      "source": [
        "# Strings\n",
        "\"Meu nome é {}\".format('Raimundo')"
      ],
      "metadata": {
        "colab": {
          "base_uri": "https://localhost:8080/",
          "height": 35
        },
        "id": "WQxmLvYvE7yi",
        "outputId": "81976568-9abb-4e60-9408-4452088417c4"
      },
      "execution_count": null,
      "outputs": [
        {
          "output_type": "execute_result",
          "data": {
            "text/plain": [
              "'Meu nome é Raimundo'"
            ],
            "application/vnd.google.colaboratory.intrinsic+json": {
              "type": "string"
            }
          },
          "metadata": {},
          "execution_count": 6
        }
      ]
    },
    {
      "cell_type": "code",
      "source": [
        "\"raimundo\".capitalize()"
      ],
      "metadata": {
        "colab": {
          "base_uri": "https://localhost:8080/",
          "height": 35
        },
        "id": "vqdE4ec0Fh2v",
        "outputId": "89df34db-d082-4668-9b97-c2263b6f4cd5"
      },
      "execution_count": null,
      "outputs": [
        {
          "output_type": "execute_result",
          "data": {
            "text/plain": [
              "'Raimundo'"
            ],
            "application/vnd.google.colaboratory.intrinsic+json": {
              "type": "string"
            }
          },
          "metadata": {},
          "execution_count": 7
        }
      ]
    },
    {
      "cell_type": "code",
      "source": [
        "'PALAVRA CANTADA'.casefold()"
      ],
      "metadata": {
        "colab": {
          "base_uri": "https://localhost:8080/",
          "height": 35
        },
        "id": "iemFmieQGCns",
        "outputId": "5657635d-17af-48fb-f752-1c445896cacc"
      },
      "execution_count": null,
      "outputs": [
        {
          "output_type": "execute_result",
          "data": {
            "text/plain": [
              "'palavra cantada'"
            ],
            "application/vnd.google.colaboratory.intrinsic+json": {
              "type": "string"
            }
          },
          "metadata": {},
          "execution_count": 8
        }
      ]
    },
    {
      "cell_type": "code",
      "source": [
        "'PALAVRA'.lower()"
      ],
      "metadata": {
        "colab": {
          "base_uri": "https://localhost:8080/",
          "height": 35
        },
        "id": "J1N5hJDVGKD4",
        "outputId": "c46e6816-decc-4c86-d74c-cbf49de8770d"
      },
      "execution_count": null,
      "outputs": [
        {
          "output_type": "execute_result",
          "data": {
            "text/plain": [
              "'palavra'"
            ],
            "application/vnd.google.colaboratory.intrinsic+json": {
              "type": "string"
            }
          },
          "metadata": {},
          "execution_count": 9
        }
      ]
    },
    {
      "cell_type": "code",
      "source": [
        "'palavra'.upper()"
      ],
      "metadata": {
        "colab": {
          "base_uri": "https://localhost:8080/",
          "height": 35
        },
        "id": "kmWiqNoJGW2w",
        "outputId": "d21d719a-8c87-46ff-bab9-575947d77f98"
      },
      "execution_count": null,
      "outputs": [
        {
          "output_type": "execute_result",
          "data": {
            "text/plain": [
              "'PALAVRA'"
            ],
            "application/vnd.google.colaboratory.intrinsic+json": {
              "type": "string"
            }
          },
          "metadata": {},
          "execution_count": 12
        }
      ]
    },
    {
      "cell_type": "code",
      "source": [
        "'Palavra com banana'.count('a', 3, 13)"
      ],
      "metadata": {
        "colab": {
          "base_uri": "https://localhost:8080/"
        },
        "id": "88b3va_mGgHp",
        "outputId": "3beb5bed-762d-40fd-851c-a54033d64945"
      },
      "execution_count": null,
      "outputs": [
        {
          "output_type": "execute_result",
          "data": {
            "text/plain": [
              "2"
            ]
          },
          "metadata": {},
          "execution_count": 16
        }
      ]
    },
    {
      "cell_type": "code",
      "source": [
        "'Palavra com banana'.count('a')"
      ],
      "metadata": {
        "colab": {
          "base_uri": "https://localhost:8080/"
        },
        "id": "xxofInKXINL2",
        "outputId": "adbb73ea-04ab-4f27-bc2e-491928910b14"
      },
      "execution_count": null,
      "outputs": [
        {
          "output_type": "execute_result",
          "data": {
            "text/plain": [
              "6"
            ]
          },
          "metadata": {},
          "execution_count": 17
        }
      ]
    },
    {
      "cell_type": "code",
      "source": [
        "# Controle de fluxo\n",
        "# Comando IF-ELSE\n",
        "Valor=12\n",
        "if(Valor > 10):\n",
        "  print(\"Maior que 10.\")\n",
        "else:\n",
        "  print(\"Não é maior do que 10.\")"
      ],
      "metadata": {
        "colab": {
          "base_uri": "https://localhost:8080/"
        },
        "id": "zFBhwaicJA94",
        "outputId": "d233e903-e156-4e68-93d7-e575b4a32dd4"
      },
      "execution_count": null,
      "outputs": [
        {
          "output_type": "stream",
          "name": "stdout",
          "text": [
            "Maior que 10.\n"
          ]
        }
      ]
    },
    {
      "cell_type": "code",
      "source": [
        "# Imagine que você está fazendo o jogo da forca\n",
        "# Crie a parte do software que receba uma letra e identifique na tela\n",
        "# Se a pessoa acertou ou não.\n",
        "Palavra = \"Programação\"\n",
        "x = input(\"Digite uma letra\\n\")\n",
        "if Palavra.count(x) > 0:\n",
        "  print(\"Acertou! A letra '{}' ocorre {} vezes\".format(x, Palavra.count(x)))\n",
        "else:\n",
        "  print(\"Tente novamente\")"
      ],
      "metadata": {
        "colab": {
          "base_uri": "https://localhost:8080/"
        },
        "id": "fwjSYpx0Ip9p",
        "outputId": "c5cb34dd-05a4-491d-f0b1-3b6f2e5900ce"
      },
      "execution_count": null,
      "outputs": [
        {
          "output_type": "stream",
          "name": "stdout",
          "text": [
            "Digite uma letra\n",
            "a\n",
            "Acertou! A letra 'a' ocorre 2 vezes\n"
          ]
        }
      ]
    },
    {
      "cell_type": "code",
      "source": [
        "Numero=input(\"Digite um número: \")"
      ],
      "metadata": {
        "colab": {
          "base_uri": "https://localhost:8080/"
        },
        "id": "6uTgmfwWQtAu",
        "outputId": "6167d930-553a-44a2-a2a3-3c7c2047fea7"
      },
      "execution_count": null,
      "outputs": [
        {
          "name": "stdout",
          "output_type": "stream",
          "text": [
            "Digite um número: 1\n"
          ]
        }
      ]
    },
    {
      "cell_type": "code",
      "source": [
        "# Numero=(Numero.is_digit())?"
      ],
      "metadata": {
        "id": "lsawIo2_WOxl"
      },
      "execution_count": null,
      "outputs": []
    },
    {
      "cell_type": "code",
      "source": [
        "if Numero.isdigit():\n",
        "  Numero = float(Numero)\n",
        "else:\n",
        "  Numero = 0\n"
      ],
      "metadata": {
        "id": "FvVLeO4UT_Ni"
      },
      "execution_count": null,
      "outputs": []
    },
    {
      "cell_type": "code",
      "source": [
        "print(\"É float\") if type(Numero) == float else print(\"Não é float\")"
      ],
      "metadata": {
        "colab": {
          "base_uri": "https://localhost:8080/"
        },
        "id": "qZn3cNZwWfiz",
        "outputId": "ad6b52a1-ffa5-44ce-b34a-ac1a41b3f2b7"
      },
      "execution_count": null,
      "outputs": [
        {
          "output_type": "stream",
          "name": "stdout",
          "text": [
            "É float\n"
          ]
        }
      ]
    },
    {
      "cell_type": "code",
      "source": [
        "type(Numero)"
      ],
      "metadata": {
        "colab": {
          "base_uri": "https://localhost:8080/"
        },
        "id": "A0zXTRRbTOMR",
        "outputId": "c4ee603a-7f12-462e-f27f-5cd882f95933"
      },
      "execution_count": null,
      "outputs": [
        {
          "output_type": "execute_result",
          "data": {
            "text/plain": [
              "str"
            ]
          },
          "metadata": {},
          "execution_count": 5
        }
      ]
    },
    {
      "cell_type": "code",
      "source": [
        "Numero.isdigit()"
      ],
      "metadata": {
        "colab": {
          "base_uri": "https://localhost:8080/"
        },
        "id": "r4rpzjVbTgRN",
        "outputId": "01033200-1061-4a0a-b312-5bc8b1b46613"
      },
      "execution_count": null,
      "outputs": [
        {
          "output_type": "execute_result",
          "data": {
            "text/plain": [
              "True"
            ]
          },
          "metadata": {},
          "execution_count": 12
        }
      ]
    },
    {
      "cell_type": "code",
      "source": [
        "Numero=float(Numero)"
      ],
      "metadata": {
        "id": "Mv--lZnMTQzI"
      },
      "execution_count": null,
      "outputs": []
    }
  ]
}