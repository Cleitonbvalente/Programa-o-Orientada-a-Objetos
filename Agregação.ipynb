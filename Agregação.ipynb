{
  "nbformat": 4,
  "nbformat_minor": 0,
  "metadata": {
    "colab": {
      "provenance": [],
      "authorship_tag": "ABX9TyOxy5ViJu1UC7q5QOCKttYP",
      "include_colab_link": true
    },
    "kernelspec": {
      "name": "python3",
      "display_name": "Python 3"
    },
    "language_info": {
      "name": "python"
    }
  },
  "cells": [
    {
      "cell_type": "markdown",
      "metadata": {
        "id": "view-in-github",
        "colab_type": "text"
      },
      "source": [
        "<a href=\"https://colab.research.google.com/github/Cleitonbvalente/Programa-o-Orientada-a-Objetos/blob/main/Agrega%C3%A7%C3%A3o.ipynb\" target=\"_parent\"><img src=\"https://colab.research.google.com/assets/colab-badge.svg\" alt=\"Open In Colab\"/></a>"
      ]
    },
    {
      "cell_type": "code",
      "execution_count": 8,
      "metadata": {
        "id": "Jmxm307zCWaT"
      },
      "outputs": [],
      "source": [
        "import datetime\n",
        "\n",
        "class Team:\n",
        "  def __init__(self, nome: str, projeto_atual, membros: list):\n",
        "    self.__nome = nome\n",
        "    self.__projeto_atual = projeto_atual\n",
        "    self.__membros = membros\n",
        "\n",
        "    def adicionar_membro(self, membro):\n",
        "      self.__membros.append(membro)\n",
        "\n",
        "    def remover_membro(self, membro):\n",
        "      if membro in self._membros:\n",
        "       self.__membro.remove(membro)\n",
        "\n",
        "    def listar_membros(self):\n",
        "      print(self.__membros)\n",
        "\n",
        "    def calcular_custo_hora(self):\n",
        "      total_custo_hora = 0\n",
        "      for membro in self.__membros:\n",
        "        custo_hora_membro= getattr(membro, 'cobra_por_hora', 0)\n",
        "        total_custo_hora += custo_hora_membro\n",
        "      return total_custo_hora\n",
        "\n",
        "\n",
        "class Projeto:\n",
        "  def __init__(self, nome: str, custo_total: float, prazo_final):\n",
        "    self.__nome = nome\n",
        "    self.__custo_total = custo_total\n",
        "    self.__prazo_final = prazo_final\n",
        "\n",
        "    def atualizar_prazo_final(self, novo_prazo_final: datetime.date):\n",
        "      self.__prazo_final = novo_prazo_final\n",
        "\n",
        "    def adicionar_custo(self, valor):\n",
        "      self.__custo_total = self.__custo_total + valor\n",
        "\n",
        "\n",
        "class Developer:\n",
        "  def __init__(self, nome: str, telefone: str, linguagens: list, experiencia_anos: int, projetos_concluidos: list, cobra_por_hora: float, horas_trabalhadas: float):\n",
        "    self.__nome = nome\n",
        "    self.__telefone = telefone\n",
        "    self.__linguagens = linguagens\n",
        "    self.__experiencia_anos = experiencia_anos\n",
        "    self.__projetos_concluidos = projetos_concluidos\n",
        "    self.__cobra_por_hora = cobra_por_hora\n",
        "    self.__horas_trabalhadas = horas_trabalhadas\n",
        "\n",
        "  def adicionar_linguagem(self, linguagem):\n",
        "    self.__linguagens.append(linguagem)\n",
        "\n",
        "  def remover_linguagem(self, linguagem):\n",
        "    if linguagem in self.__linguagens:\n",
        "      self.__linguagens.remove(linguagem)\n",
        "\n",
        "  def atualizar_valor_hora(self, valor):\n",
        "    self.__cobra_por_hora = valor\n",
        "\n",
        "  def adicionar_horas_trabalhadas(self, horas):\n",
        "    self.__horas_trabalhadas = self.__horas_trabalhadas + horas\n",
        "\n",
        "  def calcular_pagamento(self):\n",
        "    pagamento = self.__cobra_por_hora * self.__horas_trabalhadas\n",
        "    print(pagamento)\n",
        ""
      ]
    },
    {
      "cell_type": "code",
      "source": [
        "proj1 = Projeto(\"proj1\", 3500.00, datetime.datetime(2025, 5, 21))"
      ],
      "metadata": {
        "id": "EuZP_HoMUmoO"
      },
      "execution_count": 10,
      "outputs": []
    },
    {
      "cell_type": "code",
      "source": [],
      "metadata": {
        "colab": {
          "base_uri": "https://localhost:8080/",
          "height": 141
        },
        "id": "Y6DfGw8GVWP7",
        "outputId": "f0438530-52e1-45a0-db49-805c094f6b19"
      },
      "execution_count": 12,
      "outputs": [
        {
          "output_type": "error",
          "ename": "TypeError",
          "evalue": "'Projeto' object is not iterable",
          "traceback": [
            "\u001b[0;31m---------------------------------------------------------------------------\u001b[0m",
            "\u001b[0;31mTypeError\u001b[0m                                 Traceback (most recent call last)",
            "\u001b[0;32m<ipython-input-12-4b4105d20c20>\u001b[0m in \u001b[0;36m<cell line: 0>\u001b[0;34m()\u001b[0m\n\u001b[0;32m----> 1\u001b[0;31m \u001b[0mprint\u001b[0m\u001b[0;34m(\u001b[0m\u001b[0mlist\u001b[0m\u001b[0;34m(\u001b[0m\u001b[0mproj1\u001b[0m\u001b[0;34m)\u001b[0m\u001b[0;34m)\u001b[0m\u001b[0;34m\u001b[0m\u001b[0;34m\u001b[0m\u001b[0m\n\u001b[0m",
            "\u001b[0;31mTypeError\u001b[0m: 'Projeto' object is not iterable"
          ]
        }
      ]
    }
  ]
}