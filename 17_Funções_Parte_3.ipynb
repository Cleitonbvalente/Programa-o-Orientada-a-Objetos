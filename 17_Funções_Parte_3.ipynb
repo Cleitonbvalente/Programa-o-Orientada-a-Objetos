{
  "nbformat": 4,
  "nbformat_minor": 0,
  "metadata": {
    "colab": {
      "provenance": [],
      "authorship_tag": "ABX9TyMbnf3I07KvIk7GPNBa53jo",
      "include_colab_link": true
    },
    "kernelspec": {
      "name": "python3",
      "display_name": "Python 3"
    },
    "language_info": {
      "name": "python"
    }
  },
  "cells": [
    {
      "cell_type": "markdown",
      "metadata": {
        "id": "view-in-github",
        "colab_type": "text"
      },
      "source": [
        "<a href=\"https://colab.research.google.com/github/Cleitonbvalente/Programa-o-Orientada-a-Objetos/blob/main/17_Fun%C3%A7%C3%B5es_Parte_3.ipynb\" target=\"_parent\"><img src=\"https://colab.research.google.com/assets/colab-badge.svg\" alt=\"Open In Colab\"/></a>"
      ]
    },
    {
      "cell_type": "code",
      "source": [
        "# Generetor -> Geradores\n",
        "Lista = [1, 2, 3, 4]\n",
        "for Elemento in Lista:\n",
        "  print(Elemento)\n",
        ""
      ],
      "metadata": {
        "colab": {
          "base_uri": "https://localhost:8080/"
        },
        "id": "yFHSZpe88R9i",
        "outputId": "61cccf34-b2ea-4fec-cf36-64450dcdadfe"
      },
      "execution_count": 1,
      "outputs": [
        {
          "output_type": "stream",
          "name": "stdout",
          "text": [
            "1\n",
            "2\n",
            "3\n",
            "4\n"
          ]
        }
      ]
    },
    {
      "cell_type": "code",
      "execution_count": 2,
      "metadata": {
        "colab": {
          "base_uri": "https://localhost:8080/"
        },
        "id": "rXtE5vjG4oIi",
        "outputId": "cda57108-88d6-4a2c-ac56-5ba3c197b1b3"
      },
      "outputs": [
        {
          "output_type": "stream",
          "name": "stdout",
          "text": [
            "[1, 2, 3, 4]\n"
          ]
        }
      ],
      "source": [
        "print(Lista)\n"
      ]
    },
    {
      "cell_type": "code",
      "source": [
        "print(range(1, 4+1))\n"
      ],
      "metadata": {
        "colab": {
          "base_uri": "https://localhost:8080/"
        },
        "id": "NcDJnR9d8_yt",
        "outputId": "cac2098f-3c7c-463f-b982-235c95a0e75e"
      },
      "execution_count": 3,
      "outputs": [
        {
          "output_type": "stream",
          "name": "stdout",
          "text": [
            "range(1, 5)\n"
          ]
        }
      ]
    },
    {
      "cell_type": "code",
      "source": [
        "MeuGerador = (x for x in range(1, 4+1))\n",
        "print(MeuGerador)\n"
      ],
      "metadata": {
        "colab": {
          "base_uri": "https://localhost:8080/"
        },
        "id": "LTue3kph9FjK",
        "outputId": "7fc4f122-2c5d-4c01-84ee-e2cc50f9b5db"
      },
      "execution_count": 7,
      "outputs": [
        {
          "output_type": "stream",
          "name": "stdout",
          "text": [
            "<generator object <genexpr> at 0x7b6bc05f0900>\n"
          ]
        }
      ]
    },
    {
      "cell_type": "code",
      "source": [
        "for Numero in MeuGerador:\n",
        "  print(Numero)\n",
        ""
      ],
      "metadata": {
        "colab": {
          "base_uri": "https://localhost:8080/"
        },
        "id": "XNSv3Lkp-MxS",
        "outputId": "944f2ff7-1396-4088-9128-92424fbbc387"
      },
      "execution_count": 8,
      "outputs": [
        {
          "output_type": "stream",
          "name": "stdout",
          "text": [
            "1\n",
            "2\n",
            "3\n",
            "4\n"
          ]
        }
      ]
    },
    {
      "cell_type": "code",
      "source": [
        "# Outra maneira de percorrer meu gerador é utilizando o método built-in next\n",
        "MeuGerador = (x*x for x in range(1, 1+4))\n",
        "print(next(MeuGerador))\n",
        "print(next(MeuGerador))\n",
        "print(next(MeuGerador))\n"
      ],
      "metadata": {
        "colab": {
          "base_uri": "https://localhost:8080/"
        },
        "id": "IGNAqWi_-6XD",
        "outputId": "bd6cb2ac-4555-492c-d49b-db0ba4ad5045"
      },
      "execution_count": 9,
      "outputs": [
        {
          "output_type": "stream",
          "name": "stdout",
          "text": [
            "1\n",
            "4\n",
            "9\n"
          ]
        }
      ]
    },
    {
      "cell_type": "code",
      "source": [
        "print(next(MeuGerador))\n"
      ],
      "metadata": {
        "colab": {
          "base_uri": "https://localhost:8080/"
        },
        "id": "Dugqhb0q_jTe",
        "outputId": "7067a24f-d282-4256-fb50-97590747c2db"
      },
      "execution_count": 10,
      "outputs": [
        {
          "output_type": "stream",
          "name": "stdout",
          "text": [
            "16\n"
          ]
        }
      ]
    },
    {
      "cell_type": "code",
      "source": [
        "# Vamos precisar de uma função para contar tempo...\n",
        "from timeit import timeit\n",
        "\n",
        "def Conta_tempo(Funcao):\n",
        "  return timeit(Funcao, number=1000)\n",
        ""
      ],
      "metadata": {
        "id": "-7Gvy-nrAIl8"
      },
      "execution_count": 11,
      "outputs": []
    },
    {
      "cell_type": "code",
      "source": [
        "# Crie uma lista de números pares com diferentes abordagens e\n",
        "# Meça o tempo de execução de cada uma delas.\n",
        "# 1. List Comprehension\n",
        "# 2. Range() in List()\n",
        "# 3. Função geradora\n",
        "\n",
        "Lista = []\n",
        "def Lista1(x=100):\n",
        "  for y in range(x):\n",
        "    if x % 2 == 0:\n",
        "      Lista.append(x)\n",
        "  return Lista\n",
        "\n",
        "def Lista_comprehension(n=100):\n",
        "  return [i for i in range(n)]\n",
        "\n",
        "Tempo_for = timeit(Lista1, number=1000)\n",
        "Tempo_lista_comprehension = timeit(Lista_comprehension, number=1000)\n",
        "\n",
        "print(f\"O tempo com for: {Tempo_for}\")\n",
        "print(f\"O tempo com o list range: {Tempo_lista_comprehension}\")\n"
      ],
      "metadata": {
        "colab": {
          "base_uri": "https://localhost:8080/"
        },
        "id": "49fc_lCr_pZz",
        "outputId": "0cf46402-4ba0-4645-853d-241b5ceb1ae0"
      },
      "execution_count": 23,
      "outputs": [
        {
          "output_type": "stream",
          "name": "stdout",
          "text": [
            "O tempo com for: 0.02948901299987483\n",
            "O tempo com List Comprehension: 0.006429574000321736\n"
          ]
        }
      ]
    },
    {
      "cell_type": "code",
      "source": [
        "# USANDO O YIELD para criar uma função geradora.\n",
        "# No exemplo, criamos uma função para gerar números ímparers\n",
        "# No intervalo de 0 a n: número passado com parâmetro.\n",
        "\n",
        "def Funcao_geradora_impar(n: int) -> int:\n",
        "  for Numero in range(n):\n",
        "    if Numero % 2 != 0:\n",
        "      yield Numero\n",
        "\n",
        "# Criando a instância da função geradora para gerar números\n",
        "# ímpares entre 0 e 10.\n",
        "\n",
        "Gerador = Funcao_geradora_impar(10)\n",
        "print(next(Gerador))\n",
        "print(next(Gerador))\n"
      ],
      "metadata": {
        "colab": {
          "base_uri": "https://localhost:8080/"
        },
        "id": "IpF3RNTdFOb9",
        "outputId": "93e35b38-603e-4f56-8cfb-c79acda819ef"
      },
      "execution_count": 34,
      "outputs": [
        {
          "output_type": "stream",
          "name": "stdout",
          "text": [
            "1\n",
            "3\n"
          ]
        }
      ]
    },
    {
      "cell_type": "code",
      "source": [
        "## FUNÇÕES DE ORDEM SUPERIOR ##\n",
        "## HIGH ORDER FUNCTION ##\n",
        "\n",
        "# 1. Função que retorna outra função.\n",
        "# 2. Função que recebem função como parâmetro.\n"
      ],
      "metadata": {
        "id": "iabKH0noF7Ds"
      },
      "execution_count": 31,
      "outputs": []
    },
    {
      "cell_type": "code",
      "source": [
        "# FUNÇÕES QUE RETORNAM OUTRA FUNÇÃO\n",
        "def Exterior(tipo):\n",
        "  def Interior(val):\n",
        "    return type(val)==tipo\n",
        "  return Interior\n",
        "\n",
        "Teste=Exterior(int)"
      ],
      "metadata": {
        "id": "GjqwfbQZJrHO"
      },
      "execution_count": 36,
      "outputs": []
    },
    {
      "cell_type": "code",
      "source": [
        "Teste(3)\n"
      ],
      "metadata": {
        "colab": {
          "base_uri": "https://localhost:8080/"
        },
        "id": "BKPUIvezKhFF",
        "outputId": "868a1ec4-a748-4a10-8a6b-716caf2ef228"
      },
      "execution_count": 38,
      "outputs": [
        {
          "output_type": "execute_result",
          "data": {
            "text/plain": [
              "True"
            ]
          },
          "metadata": {},
          "execution_count": 38
        }
      ]
    },
    {
      "cell_type": "code",
      "source": [
        "def funcoes_raizes(Expoente):\n",
        "  def Raiz_de_expoente(Numero):\n",
        "    return Numero**(1/Expoente)\n",
        "  return Raiz_de_expoente\n",
        "\n",
        "sqrt = funcoes_raizes(2)\n",
        "sqrt(4)\n"
      ],
      "metadata": {
        "colab": {
          "base_uri": "https://localhost:8080/"
        },
        "id": "7eYyLzIwK_Rb",
        "outputId": "8cb0dba8-a323-45d3-a9ec-2681c7f44138"
      },
      "execution_count": 41,
      "outputs": [
        {
          "output_type": "execute_result",
          "data": {
            "text/plain": [
              "2.0"
            ]
          },
          "metadata": {},
          "execution_count": 41
        }
      ]
    },
    {
      "cell_type": "code",
      "source": [
        "# 81) Faça uma função para criar uma função que calcule a soma\n",
        "# Ou subtração a partir da passagem do parâmetro '+' ou '-'.\n",
        "\n",
        "# Exemplo:\n",
        "# Soma = criar_operacao('+')\n",
        "# Soma(1,5)\n",
        "# 6\n",
        "# Subtração = criar_operacao('-')\n",
        "# Subtração(1,5)\n",
        "# -4\n",
        "def Criar_operacao(Sinal):\n",
        "  def Calcular(Numero1, Numero2):\n",
        "    if Sinal == '+':\n",
        "      return Numero1 + Numero2\n",
        "    elif Sinal == '-':\n",
        "      return Numero1 - Numero2\n",
        "  return Calcular"
      ],
      "metadata": {
        "id": "SN2bb-o4Mdat"
      },
      "execution_count": 43,
      "outputs": []
    },
    {
      "cell_type": "code",
      "source": [
        "x = Criar_operacao('+')\n",
        "print(x(1,5))\n",
        "y = Criar_operacao('-')\n",
        "print(y(1,5))\n"
      ],
      "metadata": {
        "colab": {
          "base_uri": "https://localhost:8080/"
        },
        "id": "bSURS0IRNQKN",
        "outputId": "8a212398-5084-42df-c419-74285405e7d7"
      },
      "execution_count": 48,
      "outputs": [
        {
          "output_type": "stream",
          "name": "stdout",
          "text": [
            "6\n",
            "-4\n"
          ]
        }
      ]
    }
  ]
}