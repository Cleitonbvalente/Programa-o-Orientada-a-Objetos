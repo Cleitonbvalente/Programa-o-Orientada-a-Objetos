{
  "nbformat": 4,
  "nbformat_minor": 0,
  "metadata": {
    "colab": {
      "provenance": [],
      "authorship_tag": "ABX9TyOX+Prbmixm63ROMGEkFgib",
      "include_colab_link": true
    },
    "kernelspec": {
      "name": "python3",
      "display_name": "Python 3"
    },
    "language_info": {
      "name": "python"
    }
  },
  "cells": [
    {
      "cell_type": "markdown",
      "metadata": {
        "id": "view-in-github",
        "colab_type": "text"
      },
      "source": [
        "<a href=\"https://colab.research.google.com/github/Cleitonbvalente/Programa-o-Orientada-a-Objetos/blob/main/25_Sobrecarga_de_um_m%C3%A9todo.ipynb\" target=\"_parent\"><img src=\"https://colab.research.google.com/assets/colab-badge.svg\" alt=\"Open In Colab\"/></a>"
      ]
    },
    {
      "cell_type": "code",
      "execution_count": 38,
      "metadata": {
        "id": "JIDnSxQuPmcZ"
      },
      "outputs": [],
      "source": [
        "class Calculadora:\n",
        "  historico = []\n",
        "  @staticmethod\n",
        "  def soma(a = None, b = None):\n",
        "    soma = 0\n",
        "    if a is not None:\n",
        "      soma += a\n",
        "    if b is not None:\n",
        "      soma += b\n",
        "    Calculadora.historico.append(soma)\n",
        "    return soma\n",
        "\n",
        "  def mult( a = 1, b = 1):\n",
        "    mult = 1\n",
        "    if a is not None:\n",
        "      mult *= a\n",
        "    if b is not None:\n",
        "      mult *= b\n",
        "    Calculadora.historico.append(mult)\n",
        "    return mult\n",
        "\n",
        "  def media(a = None, b = None, c = None):\n",
        "    soma = 0\n",
        "    if a is not None:\n",
        "      soma += a\n",
        "    if b is not None:\n",
        "      soma += b\n",
        "    if c is not None:\n",
        "      soma += c\n",
        "    media = (a + b + c)/3\n",
        "    Calculadora.historico.append(media)\n",
        "    return media\n",
        "\n",
        "  def media(*lista_parametros):\n",
        "    media = sum(lista_parametros)/len(lista_parametros)\n",
        "    Calculadora.historico.append(media)\n",
        "    return media\n",
        "\n",
        "  def raiz(radicando, indice = 2):\n",
        "    resultado = radicando**(1/(indice))\n",
        "    Calculadora.historico.append(resultado)\n",
        "    return resultado\n"
      ]
    },
    {
      "cell_type": "code",
      "source": [
        "print(Calculadora.soma(3))\n",
        "print(Calculadora.soma(3, 10))\n",
        "print(Calculadora.mult(3))\n",
        "print(Calculadora.mult(3, 10))\n",
        "print(Calculadora.media(3, 10, 3))\n",
        "print(Calculadora.raiz(4, 2))\n",
        "Calculadora.historico\n"
      ],
      "metadata": {
        "colab": {
          "base_uri": "https://localhost:8080/"
        },
        "id": "Q3AsG8yYRbxH",
        "outputId": "51ed7dfa-58b4-485d-87f0-dbd16a7842ac"
      },
      "execution_count": 39,
      "outputs": [
        {
          "output_type": "stream",
          "name": "stdout",
          "text": [
            "3\n",
            "13\n",
            "3\n",
            "30\n",
            "5.333333333333333\n",
            "2.0\n"
          ]
        },
        {
          "output_type": "execute_result",
          "data": {
            "text/plain": [
              "[3, 13, 3, 30, 5.333333333333333, 2.0]"
            ]
          },
          "metadata": {},
          "execution_count": 39
        }
      ]
    }
  ]
}