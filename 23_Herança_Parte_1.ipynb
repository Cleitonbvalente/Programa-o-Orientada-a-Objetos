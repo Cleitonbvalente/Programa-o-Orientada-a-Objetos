{
  "nbformat": 4,
  "nbformat_minor": 0,
  "metadata": {
    "colab": {
      "provenance": [],
      "authorship_tag": "ABX9TyO634vVlfsxB1IR9w4/kXQK",
      "include_colab_link": true
    },
    "kernelspec": {
      "name": "python3",
      "display_name": "Python 3"
    },
    "language_info": {
      "name": "python"
    }
  },
  "cells": [
    {
      "cell_type": "markdown",
      "metadata": {
        "id": "view-in-github",
        "colab_type": "text"
      },
      "source": [
        "<a href=\"https://colab.research.google.com/github/Cleitonbvalente/Programa-o-Orientada-a-Objetos/blob/main/23_Heran%C3%A7a_Parte_1.ipynb\" target=\"_parent\"><img src=\"https://colab.research.google.com/assets/colab-badge.svg\" alt=\"Open In Colab\"/></a>"
      ]
    },
    {
      "cell_type": "code",
      "execution_count": 33,
      "metadata": {
        "id": "sX6wC5ud_gRy"
      },
      "outputs": [],
      "source": [
        "class Funcionario:\n",
        "  def __init__(self, cargo, nome, salario):\n",
        "    self._cargo = cargo\n",
        "    self._nome = nome\n",
        "    self._salario = salario\n",
        "\n",
        "  def contracheque(self):\n",
        "    print(f\"Seu salário é: {self._salario}\")\n"
      ]
    },
    {
      "cell_type": "code",
      "source": [
        "func1 = Funcionario('Caixa', 'Valter Costa', 1500.00)\n",
        "func2 = Funcionario('Serviços Gerais', 'Maria das Dores', 1000.00)\n"
      ],
      "metadata": {
        "id": "_F1FkUzAJp8l"
      },
      "execution_count": 34,
      "outputs": []
    },
    {
      "cell_type": "code",
      "source": [
        "class Gerente(Funcionario):\n",
        "  def __init__(self, cargo, nome, salario):\n",
        "    super().__init__(cargo, nome, salario)\n",
        "    self._equipe = []\n",
        "    self._meta_anual = 0.0\n",
        "    self.__clientes_vip = []\n",
        "    self.__bonus = 0.0\n"
      ],
      "metadata": {
        "id": "xf_VAnTOMDt8"
      },
      "execution_count": 35,
      "outputs": []
    },
    {
      "cell_type": "code",
      "source": [
        "ger1 = Gerente('Gerente', 'Mário Wedney', 3000.00)\n"
      ],
      "metadata": {
        "id": "iRNdoKsPKRoN"
      },
      "execution_count": 36,
      "outputs": []
    },
    {
      "cell_type": "code",
      "source": [
        "ger1.contracheque()"
      ],
      "metadata": {
        "colab": {
          "base_uri": "https://localhost:8080/"
        },
        "id": "ylZkTLaSMKas",
        "outputId": "f7018875-2e10-4e7b-b91f-91c7532508a4"
      },
      "execution_count": 37,
      "outputs": [
        {
          "output_type": "stream",
          "name": "stdout",
          "text": [
            "Seu salário é: 3000.0\n"
          ]
        }
      ]
    },
    {
      "cell_type": "code",
      "source": [
        "class Analista(Funcionario):\n",
        "  def __init__(self, cargo, nome, salario, certificacoes, chamados):\n",
        "    super().__init__(cargo, nome, salario)\n",
        "    self.certificacoes = certificacoes\n",
        "    self._chamados = chamados\n"
      ],
      "metadata": {
        "id": "O8QuidI8Ppj1"
      },
      "execution_count": 38,
      "outputs": []
    },
    {
      "cell_type": "code",
      "source": [
        "class Caixa(Funcionario):\n",
        "  def __init__(self, cargo, nome, salario, guiche, turno_atendimento, limite_operacao, meta_anual):\n",
        "    super().__init__(cargo, nome, salario)\n",
        "    self.guiche = 0\n",
        "    self._turno_atendimento = turno_atendimento\n",
        "    self._limite_operacao = limite_operacao\n",
        "    self.__meta_anual = meta_anual\n"
      ],
      "metadata": {
        "id": "KZcOyBp8QMbV"
      },
      "execution_count": 39,
      "outputs": []
    }
  ]
}