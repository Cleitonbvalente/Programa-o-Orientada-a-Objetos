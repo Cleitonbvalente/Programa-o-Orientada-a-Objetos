{
  "nbformat": 4,
  "nbformat_minor": 0,
  "metadata": {
    "colab": {
      "provenance": [],
      "authorship_tag": "ABX9TyN/nNK+EHjBoIcds/JaH1+5",
      "include_colab_link": true
    },
    "kernelspec": {
      "name": "python3",
      "display_name": "Python 3"
    },
    "language_info": {
      "name": "python"
    }
  },
  "cells": [
    {
      "cell_type": "markdown",
      "metadata": {
        "id": "view-in-github",
        "colab_type": "text"
      },
      "source": [
        "<a href=\"https://colab.research.google.com/github/Cleitonbvalente/Programa-o-Orientada-a-Objetos/blob/main/10_Listas_Parte_2.ipynb\" target=\"_parent\"><img src=\"https://colab.research.google.com/assets/colab-badge.svg\" alt=\"Open In Colab\"/></a>"
      ]
    },
    {
      "cell_type": "code",
      "execution_count": 2,
      "metadata": {
        "colab": {
          "base_uri": "https://localhost:8080/"
        },
        "id": "H-EX88epkZwd",
        "outputId": "67a539cc-f121-4666-a2a8-6e93948036b1"
      },
      "outputs": [
        {
          "output_type": "stream",
          "name": "stdout",
          "text": [
            "[2, 4, 6, 8, 10, 12, 14, 16, 18]\n"
          ]
        }
      ],
      "source": [
        "#Observe o código para criar uma lista de números pares de 1 e 20:\n",
        "Lista = []\n",
        "for Numero in range(2, 20, 2):\n",
        "  Lista.append(Numero)\n",
        "\n",
        "print(Lista)"
      ]
    },
    {
      "cell_type": "code",
      "source": [
        "# LIST COMPREHENSION\n",
        "Lista = [Numero for Numero in range(2, 20, 2)]\n",
        "print(Lista)"
      ],
      "metadata": {
        "colab": {
          "base_uri": "https://localhost:8080/"
        },
        "id": "Q708aQqYlmkm",
        "outputId": "f2da866e-c46c-4803-bb19-ceb1a53c82c5"
      },
      "execution_count": 5,
      "outputs": [
        {
          "output_type": "stream",
          "name": "stdout",
          "text": [
            "[2, 4, 6, 8, 10, 12, 14, 16, 18]\n"
          ]
        }
      ]
    },
    {
      "cell_type": "code",
      "source": [
        "# 35) Faça um programa que receba o valor inicial (natural) e o valor final (natural)\n",
        "# E crie uma lista de números ímpares utilizando dentro deste intervalo usado\n",
        "# LIST COMPREHENSION\n",
        "Lista = []\n",
        "Valor_inicial = int(input(\"Digite o valor inicial: \"))\n",
        "Valor_final = int(input(\"Digite o valor final: \"))\n",
        "if Valor_inicial > Valor_final:\n",
        "  print(\"Tente novamente\")\n",
        "Lista = [Numero for Numero in range(Valor_inicial, Valor_final) if Numero%2!=0]\n",
        "print(Lista)"
      ],
      "metadata": {
        "colab": {
          "base_uri": "https://localhost:8080/"
        },
        "id": "TAxoVEzvmL3P",
        "outputId": "72755971-9240-4644-9ca1-15f927f38536"
      },
      "execution_count": 8,
      "outputs": [
        {
          "output_type": "stream",
          "name": "stdout",
          "text": [
            "Digite o valor inicial: 1\n",
            "Digite o valor final: 10\n",
            "[1, 3, 5, 7, 9]\n"
          ]
        }
      ]
    },
    {
      "cell_type": "code",
      "source": [
        "# LIST COMPREHENSION\n",
        "# [(Expressão final if true) if (condição de filtro) else (expressão final if false) for (um conjunto de valores para iterar)]"
      ],
      "metadata": {
        "id": "KngkMFNLpxqa"
      },
      "execution_count": null,
      "outputs": []
    },
    {
      "cell_type": "code",
      "source": [
        "# Criando uma lista de strings com 20 strings \"ímpar\" e 20 strings \"par\", iniciando com ímpar.\n",
        "print(['Ímpar' if Numero % 2 else 'Par' for Numero in range(40)])"
      ],
      "metadata": {
        "colab": {
          "base_uri": "https://localhost:8080/"
        },
        "id": "IytsLc8HrFOp",
        "outputId": "5013fff9-0d11-45b0-9232-62e4d201ae2d"
      },
      "execution_count": 9,
      "outputs": [
        {
          "output_type": "stream",
          "name": "stdout",
          "text": [
            "['Par', 'Ímpar', 'Par', 'Ímpar', 'Par', 'Ímpar', 'Par', 'Ímpar', 'Par', 'Ímpar', 'Par', 'Ímpar', 'Par', 'Ímpar', 'Par', 'Ímpar', 'Par', 'Ímpar', 'Par', 'Ímpar', 'Par', 'Ímpar', 'Par', 'Ímpar', 'Par', 'Ímpar', 'Par', 'Ímpar', 'Par', 'Ímpar', 'Par', 'Ímpar', 'Par', 'Ímpar', 'Par', 'Ímpar', 'Par', 'Ímpar', 'Par', 'Ímpar']\n"
          ]
        }
      ]
    },
    {
      "cell_type": "code",
      "source": [
        "# 36) Para uma dada lista, crie outra com os números elevados ao quadrado.\n",
        "Numeros = [1, 2, 3, 4, 5]\n",
        "print([Numero**2 for Numero in Numeros])"
      ],
      "metadata": {
        "colab": {
          "base_uri": "https://localhost:8080/"
        },
        "id": "doxN2u3tr8pY",
        "outputId": "e8907b19-ecb1-49d4-cdc6-8a5e1d036e78"
      },
      "execution_count": 11,
      "outputs": [
        {
          "output_type": "stream",
          "name": "stdout",
          "text": [
            "[1, 4, 9, 16, 25]\n"
          ]
        }
      ]
    },
    {
      "cell_type": "code",
      "source": [
        "# 37) Crie uma lista com números entre 0 e 100 que são divisiveis por 5 e 10 ao mesmo tempo.\n",
        "Lista = []\n",
        "Lista = [Numero for Numero in range(0, 100) if Numero % 5 == 0 and Numero % 10 == 0]\n",
        "print(Lista)"
      ],
      "metadata": {
        "colab": {
          "base_uri": "https://localhost:8080/"
        },
        "id": "5ncWYT0zseKr",
        "outputId": "03a149d0-981b-435e-e38a-d98607dd1ca8"
      },
      "execution_count": 13,
      "outputs": [
        {
          "output_type": "stream",
          "name": "stdout",
          "text": [
            "[0, 10, 20, 30, 40, 50, 60, 70, 80, 90]\n"
          ]
        }
      ]
    },
    {
      "cell_type": "code",
      "source": [
        "# 38) Dado uma lista de floats e inteiros, crie uma lista separada contendo apenas os inteiros da lista inicial\n",
        "Lista_inicial=[1,2,3,4.3,5.4,6,7,8.9,9.8]\n",
        "Numero = 0\n",
        "Lista = [Numero for Numero in Lista_inicial if isinstance(Numero, int)]\n",
        "print(Lista)"
      ],
      "metadata": {
        "colab": {
          "base_uri": "https://localhost:8080/"
        },
        "id": "WM-LAu4ItZ4E",
        "outputId": "5e88dd75-a66c-4c1b-9f78-8bfd65821102"
      },
      "execution_count": 22,
      "outputs": [
        {
          "output_type": "stream",
          "name": "stdout",
          "text": [
            "[1, 2, 3, 6, 7]\n"
          ]
        }
      ]
    },
    {
      "cell_type": "code",
      "source": [
        "# 39) Faça uma lista de números de 1 a 100 que tem 3 contido neles.\n",
        "Lista = []\n",
        "Lista = [Numero for Numero in range(1, 100) if '3' in str(Numero)]\n",
        "print(Lista)"
      ],
      "metadata": {
        "colab": {
          "base_uri": "https://localhost:8080/"
        },
        "id": "NFmP1ij4vdij",
        "outputId": "fc970469-9a52-4c0b-f35b-c5e40c132c66"
      },
      "execution_count": 26,
      "outputs": [
        {
          "output_type": "stream",
          "name": "stdout",
          "text": [
            "[3, 13, 23, 30, 31, 32, 33, 34, 35, 36, 37, 38, 39, 43, 53, 63, 73, 83, 93]\n"
          ]
        }
      ]
    },
    {
      "cell_type": "code",
      "source": [
        "# 40) Conte um número de espaços em uma string utilizando LIST COMPREHENSION.\n",
        "Escreva = input(\"Digite uma frase\")\n",
        "Lista = [Numero for Numero in Escreva if ' ' in str(Numero)]\n",
        "print(len(Lista))"
      ],
      "metadata": {
        "colab": {
          "base_uri": "https://localhost:8080/"
        },
        "id": "gsEl0OXYwkd3",
        "outputId": "4f1f48fb-384a-446c-8bde-cf31412130ea"
      },
      "execution_count": 32,
      "outputs": [
        {
          "output_type": "stream",
          "name": "stdout",
          "text": [
            "Digite uma frase xcsf ffgds v gtm\n",
            "4\n"
          ]
        }
      ]
    },
    {
      "cell_type": "code",
      "source": [
        "# 41) Crie uma lista com todas as consoantes presentes no seu nome\n",
        "Nome = input(\"Digite seu nome completo\")\n",
        "Vogais = (\"aeiou\")\n",
        "Lista = [x for x in Nome if not Vogais in str(x)]\n",
        "print(Lista)"
      ],
      "metadata": {
        "colab": {
          "base_uri": "https://localhost:8080/"
        },
        "id": "8NChsKwFyMH_",
        "outputId": "5cddfdd0-cd2c-4a93-c8ee-067c450331b1"
      },
      "execution_count": 45,
      "outputs": [
        {
          "output_type": "stream",
          "name": "stdout",
          "text": [
            "Digite seu nome completofgh\n",
            "['f', 'g', 'h']\n"
          ]
        }
      ]
    },
    {
      "cell_type": "code",
      "source": [
        "# 42) Encontre elementos em comum em duas listas iniciais, faça uma lista com eles\n",
        "Lista_a=[1,2,3,4,'Valter',4.5]\n",
        "Lista_b=[3,5,'Valter',4.6]"
      ],
      "metadata": {
        "id": "x5tX4r6gyYSU"
      },
      "execution_count": null,
      "outputs": []
    },
    {
      "cell_type": "code",
      "source": [
        "# O método SPLIT em strings.\n",
        "print(\"Hello World, guys!\".split(\" \"))"
      ],
      "metadata": {
        "colab": {
          "base_uri": "https://localhost:8080/"
        },
        "id": "7QdWOtFcyz13",
        "outputId": "b3661f13-80f2-4c87-c80d-847ff7f9099a"
      },
      "execution_count": 33,
      "outputs": [
        {
          "output_type": "stream",
          "name": "stdout",
          "text": [
            "['Hello', 'World,', 'guys!']\n"
          ]
        }
      ]
    },
    {
      "cell_type": "code",
      "source": [
        "# O método ISNUMERIC em strings\n",
        "print('123'.isnumeric())\n",
        "print('a123'.isnumeric())"
      ],
      "metadata": {
        "colab": {
          "base_uri": "https://localhost:8080/"
        },
        "id": "a6phsYM3zRxm",
        "outputId": "c26f0a08-9ad0-4e28-da1d-d7312effc3e3"
      },
      "execution_count": 34,
      "outputs": [
        {
          "output_type": "stream",
          "name": "stdout",
          "text": [
            "True\n",
            "False\n"
          ]
        }
      ]
    },
    {
      "cell_type": "code",
      "source": [
        "# 43) Sabendo que string.split(' ') retorna uma lista de palavras contidas em uma string, faça o que se pede.\n",
        "# Dada a sentença abaixo, inclua apenas os números em uma lista\n",
        "Sentenca='Em 1984 havia 13 frentes de protestos com 1000 pessoas cada.'"
      ],
      "metadata": {
        "id": "w9B_t2Hpzrj3"
      },
      "execution_count": null,
      "outputs": []
    },
    {
      "cell_type": "code",
      "source": [
        "# 44) Dado uma lista contendo 10 números aleatórios de 1 a 50,\n",
        "# Faça uma lista substituindo números pelas respectivas strings:\n",
        "# \"par\", quando o número for par e \"Ímpar\", quando for ímpar.\n",
        "from random import randint\n",
        "randint(1,100)"
      ],
      "metadata": {
        "colab": {
          "base_uri": "https://localhost:8080/"
        },
        "id": "35iGB6x82n64",
        "outputId": "54b20c7e-e26a-4e27-c92f-9dbc355318ef"
      },
      "execution_count": 43,
      "outputs": [
        {
          "output_type": "execute_result",
          "data": {
            "text/plain": [
              "85"
            ]
          },
          "metadata": {},
          "execution_count": 43
        }
      ]
    },
    {
      "cell_type": "code",
      "source": [
        "# Usando o método de string JOIN()\n",
        "print(\" \".join(['Raimundo', 'Valter', 'Costa']))"
      ],
      "metadata": {
        "colab": {
          "base_uri": "https://localhost:8080/"
        },
        "id": "QsqiNA1I3bdk",
        "outputId": "52fbde7c-de1c-45ee-ffea-0771c1e790d3"
      },
      "execution_count": 46,
      "outputs": [
        {
          "output_type": "stream",
          "name": "stdout",
          "text": [
            "Raimundo Valter Costa\n"
          ]
        }
      ]
    }
  ]
}