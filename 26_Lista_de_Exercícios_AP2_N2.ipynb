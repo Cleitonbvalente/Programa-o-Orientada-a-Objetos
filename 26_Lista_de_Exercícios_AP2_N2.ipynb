{
  "nbformat": 4,
  "nbformat_minor": 0,
  "metadata": {
    "colab": {
      "provenance": [],
      "authorship_tag": "ABX9TyMllZrdMNTzsCrHQ1kI8FZ4",
      "include_colab_link": true
    },
    "kernelspec": {
      "name": "python3",
      "display_name": "Python 3"
    },
    "language_info": {
      "name": "python"
    }
  },
  "cells": [
    {
      "cell_type": "markdown",
      "metadata": {
        "id": "view-in-github",
        "colab_type": "text"
      },
      "source": [
        "<a href=\"https://colab.research.google.com/github/Cleitonbvalente/Programa-o-Orientada-a-Objetos/blob/main/26_Lista_de_Exerc%C3%ADcios_AP2_N2.ipynb\" target=\"_parent\"><img src=\"https://colab.research.google.com/assets/colab-badge.svg\" alt=\"Open In Colab\"/></a>"
      ]
    },
    {
      "cell_type": "code",
      "execution_count": 7,
      "metadata": {
        "colab": {
          "base_uri": "https://localhost:8080/"
        },
        "id": "OYHpaIP9_oy2",
        "outputId": "1da79116-0170-45c3-e17f-9eef06649681"
      },
      "outputs": [
        {
          "output_type": "stream",
          "name": "stdout",
          "text": [
            "Data: 2025-02-12 18:02:22.692074\n",
            "Total: 149.7\n"
          ]
        }
      ],
      "source": [
        "# 97) Você está desenvolvendo um sistema de gerenciamento de produtos e pedidos\n",
        "# para uma loja. O sistema deve ser ser capaz de gerenciar produtos, criar pedidos\n",
        "# com múltiplos itens e gerar recibos automaticamente. Para isso, você precisa\n",
        "# implementar as classes Produto, Pedido, ItemPedido e Recibo de forma que elas\n",
        "# se relacionem adequadamente.\n",
        "\n",
        "# Instruções\n",
        "\n",
        "# Classe Produto ------\n",
        "# nome (string): Nome do produto.\n",
        "# preco (float): Preço unitário do produto.\n",
        "# categoria (string): Categoria do produto (ex.: \"Alimentos\", \"Eletrônicos\").\n",
        "# validade (string): Data de validade no formato \"DD/MM/AAAA\".\n",
        "#---------------------\n",
        "# __init__: Inicializa os atributos da classe.\n",
        "# atualizar_preco(novo_preco): Atualiza o preço do produto.\n",
        "# exibir_detalhes(): Exibe todas as informações do produto de forma formatada.\n",
        "#---------------------\n",
        "\n",
        "# Classe Pedido ------\n",
        "# Uma lista de objetos da classe ItemPedido.\n",
        "# Um objeto da classe Recibo.\n",
        "#---------------------\n",
        "# __init__: Inicializa o pedido com uma lista vazia de itens e um recibo.\n",
        "# adicionar_item(item): Adiciona um item ao pedido.\n",
        "# finalizar_pedido(): Gera o recibo com o total da compra e a data da transação.\n",
        "\n",
        "# Classe ItemPedido ------\n",
        "# nome (string): Nome do item.\n",
        "# quantidade (int): Quantidade do item.\n",
        "# preco_unitario (float): Preço unitário do item.\n",
        "#---------------------\n",
        "# __init__: inicializa os atributos.\n",
        "\n",
        "# Classe Recibo ------\n",
        "# total (float): Total da compra.\n",
        "# data (string): Data da transação no formato \"DD/MM/AAAA\".\n",
        "#---------------------\n",
        "#__init_: inicializa os atributos.\n",
        "# exibir_recibo(): Exibe o recibo de forma formatada.\n",
        "from datetime import datetime\n",
        "\n",
        "class Produto:\n",
        "  def __init__(self, nome: str, preco: float, categoria: str, validade: str):\n",
        "    self.nome = nome\n",
        "    self.preco = preco\n",
        "    self.categoria = categoria\n",
        "    self.validade = validade\n",
        "\n",
        "  def atualizar_preco(self, novo_preco):\n",
        "    self.preco = novo_preco\n",
        "\n",
        "  def exibir_detalhes():\n",
        "    print(f\"Produto: {self.nome}\")\n",
        "    print(f\"Preço: {self.preco}\")\n",
        "    print(f\"Categoria: {self.categoria}\")\n",
        "    print(f\"validade: {self.validade}\")\n",
        "\n",
        "class ItemPedido:\n",
        "  def __init__(self, nome: str, quantidade: int, preco_unitario: float):\n",
        "    self.nome = nome\n",
        "    self.quantidade = quantidade\n",
        "    self.preco_unitario = preco_unitario\n",
        "\n",
        "class Recibo:\n",
        "  def __init__(self, total: float, data: str):\n",
        "    self.total = total\n",
        "    self.data = data\n",
        "\n",
        "  def exibir_recibo(self):\n",
        "    print(f\"Data: {self.data}\")\n",
        "    print(f\"Total: {self.total}\")\n",
        "\n",
        "class Pedido:\n",
        "  def __init__(self):\n",
        "    self.itens = []\n",
        "    self.recibo = None\n",
        "\n",
        "  def adicionar_item(self, item: ItemPedido):\n",
        "    self.itens.append(item)\n",
        "\n",
        "  def finalizar_pedido(self):\n",
        "    total = sum(item.quantidade * item.preco_unitario for item in self.itens)\n",
        "    data_transacao = datetime.now()\n",
        "    self.recibo = Recibo(total, data_transacao)\n",
        "    return self.recibo\n",
        "\n",
        "produto1 = Produto(\"Camisa\", 29.90, \"Roupas\", \"31/12/2024\")\n",
        "produto2 = Produto(\"Calça Jeans\", 89.90, \"Roupas\", \"31/12/2024\")\n",
        "\n",
        "item1 = ItemPedido(produto1.nome, 2, produto1.preco)\n",
        "item2 = ItemPedido(produto2.nome, 1, produto2.preco)\n",
        "\n",
        "pedido = Pedido()\n",
        "pedido.adicionar_item(item1)\n",
        "pedido.adicionar_item(item2)\n",
        "\n",
        "recibo = pedido.finalizar_pedido()\n",
        "recibo.exibir_recibo()\n"
      ]
    }
  ]
}