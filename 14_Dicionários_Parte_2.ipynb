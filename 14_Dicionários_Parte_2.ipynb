{
  "nbformat": 4,
  "nbformat_minor": 0,
  "metadata": {
    "colab": {
      "provenance": [],
      "authorship_tag": "ABX9TyOd/zYZTjBy6bSd3d2zaeRg",
      "include_colab_link": true
    },
    "kernelspec": {
      "name": "python3",
      "display_name": "Python 3"
    },
    "language_info": {
      "name": "python"
    }
  },
  "cells": [
    {
      "cell_type": "markdown",
      "metadata": {
        "id": "view-in-github",
        "colab_type": "text"
      },
      "source": [
        "<a href=\"https://colab.research.google.com/github/Cleitonbvalente/Programa-o-Orientada-a-Objetos/blob/main/14_Dicion%C3%A1rios_Parte_2.ipynb\" target=\"_parent\"><img src=\"https://colab.research.google.com/assets/colab-badge.svg\" alt=\"Open In Colab\"/></a>"
      ]
    },
    {
      "cell_type": "code",
      "execution_count": 4,
      "metadata": {
        "colab": {
          "base_uri": "https://localhost:8080/"
        },
        "id": "R7SaXN-Msf0B",
        "outputId": "29b58714-b940-4dd1-91ed-83d68390c988"
      },
      "outputs": [
        {
          "output_type": "stream",
          "name": "stdout",
          "text": [
            "Digite um número n inteiro: 5\n",
            "{1: 1, 2: 4, 3: 9, 4: 16, 5: 25}\n"
          ]
        }
      ],
      "source": [
        "# 64) Escreva um script para gerar e imprimir um dicionário que contenha\n",
        "# Números entre 1 e um inteiro 'n' no formato (x, x*x).\n",
        "# Exemplo (n = 5)\n",
        "# Saída esperada: {1: 1, 2: 4, 3: 9, 4: 16, 5: 25}\n",
        "n = int(input(\"Digite um número n inteiro: \"))\n",
        "Dicionario = dict()\n",
        "for x in range(1, n+1):\n",
        "  Dicionario[x] = x**2\n",
        "\n",
        "print(Dicionario)\n"
      ]
    },
    {
      "cell_type": "code",
      "source": [
        "# Dictionary Comprehension\n",
        "n = int(input(\"Digite um número inteiro n: \"))\n",
        "Dicionario = {x:x**2 for x in range(1, n+1)}\n",
        "print(Dicionario)"
      ],
      "metadata": {
        "colab": {
          "base_uri": "https://localhost:8080/"
        },
        "id": "VaodIHZtxVIw",
        "outputId": "e01c0e79-b6e7-4dbc-98c4-89ee194eb14a"
      },
      "execution_count": 5,
      "outputs": [
        {
          "output_type": "stream",
          "name": "stdout",
          "text": [
            "Digite um número inteiro n: 5\n",
            "{1: 1, 2: 4, 3: 9, 4: 16, 5: 25}\n"
          ]
        }
      ]
    },
    {
      "cell_type": "code",
      "source": [
        "# 65) Faça um programa em python que, dado uma string, conte o número de ocorrências das palavras\n",
        "# Existentes nessa string.\n",
        "# Exemplo:\n",
        "# Texto = \"Olá que mundo bom que mundo perfeito\"\n",
        "# Saída:\n",
        "# Dicionario_ocorrencia = {'Olá': 1, 'que': 2, 'mundo': 2, 'bom': 1, 'perfeito': 1}\n",
        "x = 'Olá que mundo bom que mundo perfeito'\n",
        "\n",
        "Lista_palavras = [Palavra.lower().strip('(),.') for Palavra in x.split()]\n",
        "\n",
        "Contagem_palavras = dict()\n",
        "for Palavra in Lista_palavras:\n",
        "  if Palavra not in Contagem_palavras.keys():\n",
        "    Contagem_palavras[Palavra] = 1\n",
        "  else:\n",
        "    Contagem_palavras[Palavra] += 1\n",
        "\n",
        "# Contagem_palavras = {Palavra: x.count(Palavra) for Palavra in Lista_palavras}\n",
        "\n",
        "print(Contagem_palavras)\n"
      ],
      "metadata": {
        "colab": {
          "base_uri": "https://localhost:8080/"
        },
        "id": "E7y_Kidixxln",
        "outputId": "3db49586-7f04-4b40-8afe-ab8facec63fa"
      },
      "execution_count": 9,
      "outputs": [
        {
          "output_type": "stream",
          "name": "stdout",
          "text": [
            "{'olá': 1, 'que': 2, 'mundo': 2, 'bom': 1, 'perfeito': 1}\n"
          ]
        }
      ]
    },
    {
      "cell_type": "code",
      "source": [
        "# EXCLUSÃO em dicionários\n",
        "# Podemos excluir uma chave e sua informação associada com o comando del.\n",
        "Dicionario = {1: 'oi', 2: 'viagem', 3: 'mundo'}\n",
        "del Dicionario[2]\n",
        "print(Dicionario)"
      ],
      "metadata": {
        "colab": {
          "base_uri": "https://localhost:8080/"
        },
        "id": "V_vTwvtz4HIR",
        "outputId": "60e737ea-2a9f-43f1-f2a6-0520b9ef913a"
      },
      "execution_count": 10,
      "outputs": [
        {
          "output_type": "stream",
          "name": "stdout",
          "text": [
            "{1: 'oi', 3: 'mundo'}\n"
          ]
        }
      ]
    },
    {
      "cell_type": "code",
      "source": [
        "# 66) A partir de um dicionário de chaves inteiras, escreva uma script para excluir\n",
        "# Chaves impares, caso hajam.\n",
        "\n",
        "Dicionario = {Numero: str(Numero) for Numero in range(1, 100+1)}\n",
        "\n",
        "for Elemento in range(1, len(Dicionario) + 1):\n",
        "  if Elemento % 2 != 0:\n",
        "    del Dicionario[Elemento]\n",
        "print(Dicionario)\n"
      ],
      "metadata": {
        "colab": {
          "base_uri": "https://localhost:8080/"
        },
        "id": "2V-5CxPO4kSJ",
        "outputId": "cec14ced-7fde-44e2-9927-636bec983e94"
      },
      "execution_count": 17,
      "outputs": [
        {
          "output_type": "stream",
          "name": "stdout",
          "text": [
            "{2: '2', 4: '4', 6: '6', 8: '8', 10: '10', 12: '12', 14: '14', 16: '16', 18: '18', 20: '20', 22: '22', 24: '24', 26: '26', 28: '28', 30: '30', 32: '32', 34: '34', 36: '36', 38: '38', 40: '40', 42: '42', 44: '44', 46: '46', 48: '48', 50: '50', 52: '52', 54: '54', 56: '56', 58: '58', 60: '60', 62: '62', 64: '64', 66: '66', 68: '68', 70: '70', 72: '72', 74: '74', 76: '76', 78: '78', 80: '80', 82: '82', 84: '84', 86: '86', 88: '88', 90: '90', 92: '92', 94: '94', 96: '96', 98: '98', 100: '100'}\n"
          ]
        }
      ]
    },
    {
      "cell_type": "code",
      "source": [
        "# ZIP e DICIONÁRIOS\n",
        "# Podemos zipar listas contendo valores e criar um dicionário.\n",
        "# A primeria lista contendo as chaves e a outra os valores.\n",
        "L1=('chave1', 'chave2', 'chave3')\n",
        "L2=('valor1', 2, 'valor3')\n",
        "Dicionario = dict(zip(L1, L2))\n",
        "print(Dicionario)\n"
      ],
      "metadata": {
        "colab": {
          "base_uri": "https://localhost:8080/"
        },
        "id": "svOQMzS17eZB",
        "outputId": "4497df77-9fe3-46ec-80de-3bd1f13a8984"
      },
      "execution_count": 18,
      "outputs": [
        {
          "output_type": "stream",
          "name": "stdout",
          "text": [
            "{'chave1': 'valor1', 'chave2': 2, 'chave3': 'valor3'}\n"
          ]
        }
      ]
    },
    {
      "cell_type": "code",
      "source": [
        "# 67) Você tem uma lista de filmes e suas classificações em duas listas separadas.\n",
        "# Crie um dicionário com o nome do filme como chave e a classificação como valor.\n",
        "# Depois imprima na tela apenas o nome e a classificação dos filmes acima da\n",
        "# Média.\n",
        "\n",
        "Titulos_filmes = ['Filme A', 'Filme B', 'Filme C', 'Filme D', 'Filme E', 'Filme F']\n",
        "Classificacoes = [4.5, 3.8, 4.2, 5.0, 2.3, 3.3]\n",
        "\n",
        "Dicionario = dict(zip(Titulos_filmes, Classificacoes))\n",
        "\n",
        "Media = sum(Classificacoes)/len(Classificacoes)\n",
        "\n",
        "print(f\"Média: \", Media)\n",
        "\n",
        "print(f\"{'Títulos':20} {'Notas':5}\")\n",
        "for Titulo, Nota in Dicionario.items():\n",
        "  if Nota > Media:\n",
        "    print(f\"{Titulo:20} {Nota:5}\")"
      ],
      "metadata": {
        "colab": {
          "base_uri": "https://localhost:8080/"
        },
        "id": "QGY9y48I8ena",
        "outputId": "54c977cf-75c7-4759-c9e5-05c5fabd4bc7"
      },
      "execution_count": 20,
      "outputs": [
        {
          "output_type": "stream",
          "name": "stdout",
          "text": [
            "Média:  3.85\n",
            "Títulos              Notas\n",
            "Filme A                4.5\n",
            "Filme C                4.2\n",
            "Filme D                5.0\n"
          ]
        }
      ]
    },
    {
      "cell_type": "code",
      "source": [
        "# podemos iterar em diferentes dicionários através da seguinte construção:\n",
        "Dic1 = {1:10, 2:20}\n",
        "Dic2 = {2:30, 4:40}\n",
        "Dic3 = {5:50, 6:60}\n",
        "\n",
        "for Dicionario"
      ],
      "metadata": {
        "id": "CMbpIKRf_Oqq"
      },
      "execution_count": null,
      "outputs": []
    },
    {
      "cell_type": "code",
      "source": [
        "# @title Texto de título padrão\n",
        "#68) Concatene os dicionário seguintes e forme um dicionario unico;\n",
        "# Dic1 = {1:10, 2:20}\n",
        "# Dic2 = {2:30, 4:40}\n",
        "# Dic3 = {5:50, 6:60}\n",
        "# Observação: ocorrendo colisão, crie uma lista naquele índice.\n",
        "# Resultado: {1: 10, 2: [20, 30], 4:40, 5:50, 6:60}\n",
        "Dic1 = {1:10, 2:20}\n",
        "Dic2 = {2:30, 4:40}\n",
        "Dic3 = {5:50, 6:60}\n",
        "Dic4 = Dic1 | Dic2 | Dic3\n",
        "print(Dic4)"
      ],
      "metadata": {
        "colab": {
          "base_uri": "https://localhost:8080/"
        },
        "id": "2D5LYwgb_2Ji",
        "outputId": "faaf7fcf-935a-43d1-cb21-10eb03a54534"
      },
      "execution_count": 21,
      "outputs": [
        {
          "output_type": "stream",
          "name": "stdout",
          "text": [
            "{1: 10, 2: 30, 4: 40, 5: 50, 6: 60}\n"
          ]
        }
      ]
    }
  ]
}