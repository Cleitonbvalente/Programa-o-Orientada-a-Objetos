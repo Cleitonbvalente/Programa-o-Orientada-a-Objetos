{
  "nbformat": 4,
  "nbformat_minor": 0,
  "metadata": {
    "colab": {
      "provenance": [],
      "authorship_tag": "ABX9TyNgTM2+3r9+s0i0YzdIwHE5",
      "include_colab_link": true
    },
    "kernelspec": {
      "name": "python3",
      "display_name": "Python 3"
    },
    "language_info": {
      "name": "python"
    }
  },
  "cells": [
    {
      "cell_type": "markdown",
      "metadata": {
        "id": "view-in-github",
        "colab_type": "text"
      },
      "source": [
        "<a href=\"https://colab.research.google.com/github/Cleitonbvalente/Programa-o-Orientada-a-Objetos/blob/main/Untitled8.ipynb\" target=\"_parent\"><img src=\"https://colab.research.google.com/assets/colab-badge.svg\" alt=\"Open In Colab\"/></a>"
      ]
    },
    {
      "cell_type": "code",
      "source": [
        "def Criar_dicionario(n: int) -> dict:\n",
        "    dicionario = {}\n",
        "    for x in range(1, n + 1):\n",
        "        fatorial = 1\n",
        "        for y in range(1, x + 1):\n",
        "            fatorial *= y\n",
        "        dicionario[x] = fatorial\n",
        "    return dicionario\n",
        "\n",
        "print(Criar_dicionario(5))"
      ],
      "metadata": {
        "colab": {
          "base_uri": "https://localhost:8080/"
        },
        "id": "zmkK69WkQasN",
        "outputId": "10fdd93d-cd1e-4d36-a813-413814e817d4"
      },
      "execution_count": 42,
      "outputs": [
        {
          "output_type": "stream",
          "name": "stdout",
          "text": [
            "{1: 1, 2: 2, 3: 6, 4: 24, 5: 120}\n"
          ]
        }
      ]
    },
    {
      "cell_type": "code",
      "source": [],
      "metadata": {
        "id": "JT53Kwh6Ffel"
      },
      "execution_count": 1,
      "outputs": []
    },
    {
      "cell_type": "code",
      "source": [
        "# 2) Usando a função filter, extraia apenas os números primos de uma lista de números inteiros.\n",
        "# Entrada: [1, 2, 3, 4, 5, 6, 7, 8, 9, 10]\n",
        "# Saída: [2,5,7]\n",
        "\n",
        "def Primos(Entrada: list) -> list:\n",
        "  def eh_primo(n):\n",
        "    if n < 2:\n",
        "      return False\n",
        "    for i in range(2, int(n**0.5) + 1):\n",
        "      if n % i == 0:\n",
        "        return False\n",
        "    return True\n",
        "\n",
        "  return list(filter(eh_primo, Entrada))\n",
        "\n",
        "Entrada = [1, 2, 3, 4, 5, 6, 7, 8, 9, 10]\n",
        "print(Primos(Entrada))"
      ],
      "metadata": {
        "id": "YXUDNWzd5LYa",
        "colab": {
          "base_uri": "https://localhost:8080/"
        },
        "outputId": "dd801682-253b-4c70-bb30-ad3db9cc0d93"
      },
      "execution_count": 52,
      "outputs": [
        {
          "output_type": "stream",
          "name": "stdout",
          "text": [
            "[2, 3, 5, 7]\n"
          ]
        }
      ]
    },
    {
      "cell_type": "code",
      "source": [
        "# 3) Crie um decorardor para verificar se o parâmetro de texto repassado para a função é uma string, caso\n",
        "# não seja, imprima na tela \"Não é aceito outro tipo de dado além de sting.\". A função decoradora deve\n",
        "# retornar a saída da função para comprimentos de strings maiores que 10 caracteres.\n",
        "\n",
        "# Exemplo:\n",
        "## Dado a seguinte funcao...\n",
        "#  def funcao_texto(texto):\n",
        "#    return texto\n",
        "## Após utilizar o decorador...\n",
        "# funcao_texto(23)\n",
        "# Saída: \"Não é aceito outro tipo de dado além de sting.\"\n",
        "# funcao_texto(\"Olá mundo\")\n",
        "# Saída:\n",
        "# funcao_texto(\"Olá, mundo cruel...\")\n",
        "# Saída: Olá, mundo cruel...\n"
      ],
      "metadata": {
        "id": "eTeaWyoyKkuv"
      },
      "execution_count": null,
      "outputs": []
    },
    {
      "cell_type": "code",
      "source": [
        "# 4) Usando apenas as funções map(), filter() e list(), receba uma lista de pesos separadas por espaço\n",
        "# diretamente do teclado e crie uma lista de floats com valores entre 10.0 e 100.0.\n",
        "\n",
        "# Entrada: \"1 34 23 2 45 3.14 34.14\"\n",
        "# Saída: [34,23,45,34.14]\n",
        "def Entrada(texto) -> list:\n",
        "  y = list(map(lambda x: float(x), texto.split(' ')))\n",
        "  z = list(filter(lambda a: a > 10 and a < 100, y))\n",
        "  return z\n",
        "\n",
        "Texto = \"1 34 23 2 45 3.14 34.14\"\n",
        "print(Entrada(Texto))"
      ],
      "metadata": {
        "colab": {
          "base_uri": "https://localhost:8080/"
        },
        "id": "iy2tQwOEKp4d",
        "outputId": "eb773812-b37c-4d9c-f5d2-c268aa7f10a2"
      },
      "execution_count": 49,
      "outputs": [
        {
          "output_type": "stream",
          "name": "stdout",
          "text": [
            "[34.0, 23.0, 45.0, 34.14]\n"
          ]
        }
      ]
    },
    {
      "cell_type": "code",
      "execution_count": 40,
      "metadata": {
        "colab": {
          "base_uri": "https://localhost:8080/",
          "height": 106
        },
        "outputId": "e9e287b3-201f-4d52-e0af-fd226e078ea6",
        "id": "d8yLOjqhQUr4"
      },
      "outputs": [
        {
          "output_type": "error",
          "ename": "IndentationError",
          "evalue": "expected an indented block after 'for' statement on line 6 (<ipython-input-40-10d404c89ff4>, line 7)",
          "traceback": [
            "\u001b[0;36m  File \u001b[0;32m\"<ipython-input-40-10d404c89ff4>\"\u001b[0;36m, line \u001b[0;32m7\u001b[0m\n\u001b[0;31m    return Cria\u001b[0m\n\u001b[0m    ^\u001b[0m\n\u001b[0;31mIndentationError\u001b[0m\u001b[0;31m:\u001b[0m expected an indented block after 'for' statement on line 6\n"
          ]
        }
      ],
      "source": [
        "# 1) Escreva uma função para retornar um dicionário que contenha números entre 1 e um inteiro 'n' no formato (x, x!).\n",
        "#Exemplo criar_dicionario(n = 5)\n",
        "#Saída esperada: {1: 1, 2: 2, 3: 6, 4: 24, 5: 120}\n",
        "def Criar_dicionario(n: int) -> dict:\n",
        "  Cria = {x: x for x in range(1, n+1)}\n",
        "  for Valores in Cria.values():\n",
        "  return Cria\n",
        "\n",
        "Criar_dicionario(5)\n",
        "\n",
        "\n",
        "\n"
      ]
    }
  ]
}