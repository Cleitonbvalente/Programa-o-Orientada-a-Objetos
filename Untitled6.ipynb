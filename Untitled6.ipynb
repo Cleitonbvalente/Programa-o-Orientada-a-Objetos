{
  "nbformat": 4,
  "nbformat_minor": 0,
  "metadata": {
    "colab": {
      "provenance": [],
      "authorship_tag": "ABX9TyNtJ/224bx5aQ+mdFpwM1Iu",
      "include_colab_link": true
    },
    "kernelspec": {
      "name": "python3",
      "display_name": "Python 3"
    },
    "language_info": {
      "name": "python"
    }
  },
  "cells": [
    {
      "cell_type": "markdown",
      "metadata": {
        "id": "view-in-github",
        "colab_type": "text"
      },
      "source": [
        "<a href=\"https://colab.research.google.com/github/Cleitonbvalente/Programa-o-Orientada-a-Objetos/blob/main/Untitled6.ipynb\" target=\"_parent\"><img src=\"https://colab.research.google.com/assets/colab-badge.svg\" alt=\"Open In Colab\"/></a>"
      ]
    },
    {
      "cell_type": "code",
      "execution_count": 4,
      "metadata": {
        "colab": {
          "base_uri": "https://localhost:8080/"
        },
        "id": "zQSgrMNkkGmB",
        "outputId": "e10f0170-798e-487a-ba08-1ef7fd94ae1f"
      },
      "outputs": [
        {
          "output_type": "stream",
          "name": "stdout",
          "text": [
            "Nome                      Telefone       \n",
            "João da Silva             12345-6789     \n",
            "Maria Oliveira Santos     98765-4321     \n",
            "Carlos Souza              56789-1234     \n"
          ]
        }
      ],
      "source": [
        "Dados_clientes = {\n",
        "    \"João da Silva\": \"12345-6789\",\n",
        "    \"Maria Oliveira Santos\": \"98765-4321\",\n",
        "    \"Carlos Souza\": \"56789-1234\"\n",
        "}\n",
        "\n",
        "print(f\"{'Nome':25} {'Telefone':15}\")\n",
        "for Nome, Telefone in Dados_clientes.items():\n",
        "  print(f\"{''.join(list(Nome)[:25]):25} {''.join(list(Telefone)[:15]):15}\")"
      ]
    },
    {
      "cell_type": "code",
      "source": [
        "Produtos = [\n",
        "    {\"Nome\": \"Notebook\", \"Categoria\": \"Eletrônicos\", \"Preço\": 3500},\n",
        "    {\"Nome\": \"Smartphone\", \"Categoria\": \"Eletrônicos\", \"Preço\": 2000},\n",
        "    {\"Nome\": \"Cadeira\", \"Categoria\": \"Móveis\", \"Preço\": 700},\n",
        "    {\"Nome\": \"Fone de ouvido\", \"Categoria\": \"Eletrônicos\", \"Preço\": 300}]\n",
        "\n",
        "print(f'Selecione uma categoria:')\n",
        "for Id, Categoria in enumerate(set([Produto['Categoria'] for Produto in Produtos])):\n",
        "  print(f\"{1+Id} - {Categoria}\")\n",
        "  print()\n",
        "\n",
        "Categoria = input(\"Escolha a categoria: \")\n",
        "\n",
        "match(Categoria):\n",
        "  case '1': Categoria = 'Móveis'\n",
        "  case '2': Categoria = 'Eletrônicos'\n",
        "\n",
        "print(f\"Produtos na categoria 'eletrônicos' com preço maior que R$ 1000:\")\n",
        "for Produto in Produtos:\n",
        "  if Produto['Categoria'] == 'Eletrônicos' and Produto['Preço'] > 1000:\n",
        "    print(f\" - {Produto['Nome']}: R$ {Produto['Preço']}\")\n"
      ],
      "metadata": {
        "colab": {
          "base_uri": "https://localhost:8080/"
        },
        "id": "TC2YIFyEpk4S",
        "outputId": "fa489cfa-c531-4785-d8f0-84a36cdd5c07"
      },
      "execution_count": 9,
      "outputs": [
        {
          "output_type": "stream",
          "name": "stdout",
          "text": [
            "Selecione uma categoria:\n",
            "1 - Eletrônicos\n",
            "\n",
            "2 - Móveis\n",
            "\n",
            "Escolha a categoria: 1\n",
            "Produtos na categoria 'eletrônicos' com preço maior que R$ 1000:\n",
            " - Notebook: R$ 3500\n",
            " - Smartphone: R$ 2000\n"
          ]
        }
      ]
    },
    {
      "cell_type": "code",
      "source": [
        "Mult_2 = set(range(2, 20+1, 2))\n",
        "Mult_3 = set(range(3, 20+1, 3))\n",
        "\n",
        "Uniao = Mult_2 | Mult_3\n",
        "Intercessao = Mult_2 & Mult_3\n",
        "Diferença = Mult_2 - Mult_3\n",
        "print(Uniao)\n",
        "print(Intercessao)\n",
        "print(Diferença)\n"
      ],
      "metadata": {
        "colab": {
          "base_uri": "https://localhost:8080/"
        },
        "id": "W-xZD18ZuDhh",
        "outputId": "e15b79f3-1c77-4034-b605-ef72b801c066"
      },
      "execution_count": 10,
      "outputs": [
        {
          "output_type": "stream",
          "name": "stdout",
          "text": [
            "{2, 3, 4, 6, 8, 9, 10, 12, 14, 15, 16, 18, 20}\n",
            "{18, 12, 6}\n",
            "{2, 4, 8, 10, 14, 16, 20}\n"
          ]
        }
      ]
    },
    {
      "cell_type": "code",
      "source": [
        "Lista_valores = []\n",
        "\n",
        "while True:\n",
        "  Valor = input(\"Digite valor (Enter pra finalizar): \")\n",
        "  if Valor == '':\n",
        "    break\n",
        "    Lista_valores.append(int(Valor))\n",
        "\n",
        "Lista_valores = tuple(Lista_valores)\n",
        "\n",
        "Numero_verificacao = int(input(\"Digite um número para verificar se todos os valores são maiores que ele: \"))\n",
        "\n",
        "if min(Lista_valores) > Numero_verificacao:\n",
        "  print(f\"Todos são maiores que {Numero_verificacao}.\")\n",
        "else:\n",
        "  print(f\"Nem todos os números são maiores que {Numero_verificacao}\")\n",
        "\n",
        "print(tuple(Numero for Numero in Lista_valores if Numero % 2 == 0))\n",
        "Lista_valores = tuple(Lista_valores[::-2])\n",
        "print(Lista_valores)\n"
      ],
      "metadata": {
        "colab": {
          "base_uri": "https://localhost:8080/",
          "height": 332
        },
        "id": "Xr10koWpu7fz",
        "outputId": "2c3ee345-e520-4360-d3bf-0d0fa9fccb32"
      },
      "execution_count": 11,
      "outputs": [
        {
          "name": "stdout",
          "output_type": "stream",
          "text": [
            "Digite valor (Enter pra finalizar): 1\n",
            "Digite valor (Enter pra finalizar): 2\n",
            "Digite valor (Enter pra finalizar): 3\n",
            "Digite valor (Enter pra finalizar): 4\n",
            "Digite valor (Enter pra finalizar): 1\n",
            "Digite valor (Enter pra finalizar): \n",
            "Digite um número para verificar se todos os valores são maiores que ele: 1\n"
          ]
        },
        {
          "output_type": "error",
          "ename": "ValueError",
          "evalue": "min() arg is an empty sequence",
          "traceback": [
            "\u001b[0;31m---------------------------------------------------------------------------\u001b[0m",
            "\u001b[0;31mValueError\u001b[0m                                Traceback (most recent call last)",
            "\u001b[0;32m<ipython-input-11-54fe5b73d577>\u001b[0m in \u001b[0;36m<cell line: 13>\u001b[0;34m()\u001b[0m\n\u001b[1;32m     11\u001b[0m \u001b[0mNumero_verificacao\u001b[0m \u001b[0;34m=\u001b[0m \u001b[0mint\u001b[0m\u001b[0;34m(\u001b[0m\u001b[0minput\u001b[0m\u001b[0;34m(\u001b[0m\u001b[0;34m\"Digite um número para verificar se todos os valores são maiores que ele: \"\u001b[0m\u001b[0;34m)\u001b[0m\u001b[0;34m)\u001b[0m\u001b[0;34m\u001b[0m\u001b[0;34m\u001b[0m\u001b[0m\n\u001b[1;32m     12\u001b[0m \u001b[0;34m\u001b[0m\u001b[0m\n\u001b[0;32m---> 13\u001b[0;31m \u001b[0;32mif\u001b[0m \u001b[0mmin\u001b[0m\u001b[0;34m(\u001b[0m\u001b[0mLista_valores\u001b[0m\u001b[0;34m)\u001b[0m \u001b[0;34m>\u001b[0m \u001b[0mNumero_verificacao\u001b[0m\u001b[0;34m:\u001b[0m\u001b[0;34m\u001b[0m\u001b[0;34m\u001b[0m\u001b[0m\n\u001b[0m\u001b[1;32m     14\u001b[0m   \u001b[0mprint\u001b[0m\u001b[0;34m(\u001b[0m\u001b[0;34mf\"Todos são maiores que {Numero_verificacao}.\"\u001b[0m\u001b[0;34m)\u001b[0m\u001b[0;34m\u001b[0m\u001b[0;34m\u001b[0m\u001b[0m\n\u001b[1;32m     15\u001b[0m \u001b[0;32melse\u001b[0m\u001b[0;34m:\u001b[0m\u001b[0;34m\u001b[0m\u001b[0;34m\u001b[0m\u001b[0m\n",
            "\u001b[0;31mValueError\u001b[0m: min() arg is an empty sequence"
          ]
        }
      ]
    }
  ]
}