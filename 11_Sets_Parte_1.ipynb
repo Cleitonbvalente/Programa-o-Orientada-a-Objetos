{
  "nbformat": 4,
  "nbformat_minor": 0,
  "metadata": {
    "colab": {
      "provenance": [],
      "authorship_tag": "ABX9TyN6IT/P7T6ZAMP78QBePFNM",
      "include_colab_link": true
    },
    "kernelspec": {
      "name": "python3",
      "display_name": "Python 3"
    },
    "language_info": {
      "name": "python"
    }
  },
  "cells": [
    {
      "cell_type": "markdown",
      "metadata": {
        "id": "view-in-github",
        "colab_type": "text"
      },
      "source": [
        "<a href=\"https://colab.research.google.com/github/Cleitonbvalente/Programa-o-Orientada-a-Objetos/blob/main/11_Sets_Parte_1.ipynb\" target=\"_parent\"><img src=\"https://colab.research.google.com/assets/colab-badge.svg\" alt=\"Open In Colab\"/></a>"
      ]
    },
    {
      "cell_type": "code",
      "execution_count": 1,
      "metadata": {
        "colab": {
          "base_uri": "https://localhost:8080/"
        },
        "id": "r0uKZM82eG-N",
        "outputId": "80a5b792-beea-4565-c03e-db11e5c837eb"
      },
      "outputs": [
        {
          "output_type": "stream",
          "name": "stdout",
          "text": [
            "((1, 5), (2, 4), (3, 3), (4, 2), (5, 1))\n"
          ]
        }
      ],
      "source": [
        "# Usando a função built0in ZIP()\n",
        "\n",
        "Tupla1 = (1, 2, 3, 4, 5)\n",
        "Tupla2 = (5, 4, 3, 2, 1)\n",
        "Tupla3 = tuple(zip(Tupla1, Tupla2))\n",
        "print(Tupla3)"
      ]
    },
    {
      "cell_type": "code",
      "source": [
        "# 46) Produza uma lista de tuplas casando um a um os elementos de duas listas.\n",
        "Tupla1 = (1, 2, 3, 4, 5)\n",
        "Tupla2 = (5, 4, 3, 2, 1)\n",
        "\n",
        "Lista_final = [(Tupla1[id], Tupla2[id]) for id in range(len(Tupla1))]\n",
        "# Lista_final = [tuple(elemento_a_b) for elemento_a_b in zip(Tupla1, Tupla2)]\n",
        "# Lista_final = list(zip(Tupla1, Tupla2))\n",
        "print(Lista_final)\n"
      ],
      "metadata": {
        "colab": {
          "base_uri": "https://localhost:8080/"
        },
        "id": "hOJAmoHLehy1",
        "outputId": "efaa4217-cbe9-4331-b34a-3dee6086302a"
      },
      "execution_count": 2,
      "outputs": [
        {
          "output_type": "stream",
          "name": "stdout",
          "text": [
            "[(1, 5), (2, 4), (3, 3), (4, 2), (5, 1)]\n"
          ]
        }
      ]
    },
    {
      "cell_type": "code",
      "source": [
        "# Conjuntos: Um objeto conjunto é uma coleção desordenada de objetos distintos\n",
        "# Que podemos criar hashes. É comumente usado para testede pertencimento de elementos\n",
        "# A conjuntos. Assim, podemos verificar interseção, uniões, diferenças e diferenças simétricas\n",
        "\n",
        "Set1 = {1, 2, 3, 4, 5}\n",
        "Set2 = set((6, 7, 8))\n",
        "Set3 = set ([7, 8, 'Nome', 3.14])\n",
        "print(Set1)\n",
        "print(Set2)\n",
        "print(Set3)"
      ],
      "metadata": {
        "colab": {
          "base_uri": "https://localhost:8080/"
        },
        "id": "2Zh28NhQgU9W",
        "outputId": "db105ab8-24ea-4d55-a729-26476111b72b"
      },
      "execution_count": 3,
      "outputs": [
        {
          "output_type": "stream",
          "name": "stdout",
          "text": [
            "{1, 2, 3, 4, 5}\n",
            "{8, 6, 7}\n",
            "{8, 3.14, 'Nome', 7}\n"
          ]
        }
      ]
    },
    {
      "cell_type": "code",
      "source": [
        "for x in Set1:\n",
        "  print(x)"
      ],
      "metadata": {
        "colab": {
          "base_uri": "https://localhost:8080/"
        },
        "id": "-vfuI8t5iL3Q",
        "outputId": "4f35d65a-0349-4bd9-8aef-defaef662e65"
      },
      "execution_count": 4,
      "outputs": [
        {
          "output_type": "stream",
          "name": "stdout",
          "text": [
            "1\n",
            "2\n",
            "3\n",
            "4\n",
            "5\n"
          ]
        }
      ]
    },
    {
      "cell_type": "code",
      "source": [
        "# 47) Crie um conjunto com os caracteres do seu nome sem espaços e\n",
        "# Imprima-os na mesma linha.\n",
        "Nome = \"Raimundo Valter\"\n",
        "Conjunto = set(Nome)\n",
        "# Conjunto = Set.Conjunto(' ')\n",
        "print(Conjunto)\n"
      ],
      "metadata": {
        "colab": {
          "base_uri": "https://localhost:8080/"
        },
        "id": "vsQhEA9Viz7w",
        "outputId": "e0dbbe9b-9bbb-4547-8b68-e0b0157078d1"
      },
      "execution_count": 7,
      "outputs": [
        {
          "output_type": "stream",
          "name": "stdout",
          "text": [
            "{'n', 'R', 'u', 'o', ' ', 'e', 'i', 'd', 'V', 't', 'a', 'r', 'l', 'm'}\n"
          ]
        }
      ]
    },
    {
      "cell_type": "code",
      "source": [
        "# Adicionar elemento em um conjunto\n",
        "Set1.add('Carlos')\n",
        "print(Set1)"
      ],
      "metadata": {
        "colab": {
          "base_uri": "https://localhost:8080/"
        },
        "id": "pisWkwHQkUUF",
        "outputId": "18223bbf-e224-4ea9-c7e9-89dc07a58924"
      },
      "execution_count": 8,
      "outputs": [
        {
          "output_type": "stream",
          "name": "stdout",
          "text": [
            "{1, 2, 3, 4, 5, 'Carlos'}\n"
          ]
        }
      ]
    },
    {
      "cell_type": "code",
      "source": [
        "# Adicionar uma lista de elementos\n",
        "Set1.update([5, 6, 'Sete'])\n",
        "print(Set1)"
      ],
      "metadata": {
        "colab": {
          "base_uri": "https://localhost:8080/"
        },
        "id": "UtAmNGP9kdej",
        "outputId": "f4fc0318-d2e1-428a-dce5-ee02d3c7c8f4"
      },
      "execution_count": 9,
      "outputs": [
        {
          "output_type": "stream",
          "name": "stdout",
          "text": [
            "{1, 2, 3, 4, 5, 'Carlos', 6, 'Sete'}\n"
          ]
        }
      ]
    },
    {
      "cell_type": "code",
      "source": [
        "# 48) Faça um programa em python para coletar um conjunto de cinco números e guardar\n",
        "# Em um set.\n",
        "Conjunto = set()\n",
        "while(len(Conjunto) < 5):\n",
        "  Conjunto.add(int(input(f\"Digite o número {len(Conjunto)+1}: \")))\n",
        "print(Conjunto)"
      ],
      "metadata": {
        "colab": {
          "base_uri": "https://localhost:8080/"
        },
        "id": "QLhhrhlqk5Z1",
        "outputId": "e44c83c4-08eb-47c7-8d44-ab78124fa5fa"
      },
      "execution_count": 13,
      "outputs": [
        {
          "output_type": "stream",
          "name": "stdout",
          "text": [
            "Digite o número 1: 1\n",
            "Digite o número 2: 2\n",
            "Digite o número 3: 3\n",
            "Digite o número 4: 4\n",
            "Digite o número 5: 5\n",
            "{1, 2, 3, 4, 5}\n"
          ]
        }
      ]
    },
    {
      "cell_type": "code",
      "source": [
        "Conjunto.remove(6)"
      ],
      "metadata": {
        "colab": {
          "base_uri": "https://localhost:8080/",
          "height": 141
        },
        "id": "5rdpXImam6JJ",
        "outputId": "fa9fdeda-055d-48ca-b7e4-91ed161d58cb"
      },
      "execution_count": 14,
      "outputs": [
        {
          "output_type": "error",
          "ename": "KeyError",
          "evalue": "6",
          "traceback": [
            "\u001b[0;31m---------------------------------------------------------------------------\u001b[0m",
            "\u001b[0;31mKeyError\u001b[0m                                  Traceback (most recent call last)",
            "\u001b[0;32m<ipython-input-14-bb74cc6c4e0c>\u001b[0m in \u001b[0;36m<cell line: 1>\u001b[0;34m()\u001b[0m\n\u001b[0;32m----> 1\u001b[0;31m \u001b[0mConjunto\u001b[0m\u001b[0;34m.\u001b[0m\u001b[0mremove\u001b[0m\u001b[0;34m(\u001b[0m\u001b[0;36m6\u001b[0m\u001b[0;34m)\u001b[0m\u001b[0;34m\u001b[0m\u001b[0;34m\u001b[0m\u001b[0m\n\u001b[0m",
            "\u001b[0;31mKeyError\u001b[0m: 6"
          ]
        }
      ]
    },
    {
      "cell_type": "code",
      "source": [
        "# Podemos excluir apenas o primeiro\n",
        "# Elemento de um conjunto, podendo\n",
        "# Usá-lo em alguma computação.\n",
        "print(Conjunto)\n",
        "print(Conjunto.pop())\n",
        "print(Conjunto)"
      ],
      "metadata": {
        "colab": {
          "base_uri": "https://localhost:8080/"
        },
        "id": "-sWAvOgJnBK5",
        "outputId": "a09c9f94-28e7-4201-c5dc-fe1e5aa880c4"
      },
      "execution_count": 15,
      "outputs": [
        {
          "output_type": "stream",
          "name": "stdout",
          "text": [
            "{1, 2, 3, 4, 5}\n",
            "1\n",
            "{2, 3, 4, 5}\n"
          ]
        }
      ]
    },
    {
      "cell_type": "code",
      "source": [
        "# Para descartar um elemento de um conjunto,\n",
        "# Caso ele esteja presente, basta usar o método discard().\n",
        "# Não levanta erro de ausência de elemento.\n",
        "\n",
        "Conjunto.discard(2)"
      ],
      "metadata": {
        "id": "xfWjcQQdnyD7"
      },
      "execution_count": 16,
      "outputs": []
    },
    {
      "cell_type": "code",
      "source": [
        "print(Conjunto)"
      ],
      "metadata": {
        "colab": {
          "base_uri": "https://localhost:8080/"
        },
        "id": "iBMQqOBboR8g",
        "outputId": "539d5536-a11a-490e-f70d-a9487a3e4976"
      },
      "execution_count": 17,
      "outputs": [
        {
          "output_type": "stream",
          "name": "stdout",
          "text": [
            "{3, 4, 5}\n"
          ]
        }
      ]
    },
    {
      "cell_type": "code",
      "source": [
        "# 49) Escreva um programa para excluir todos os itens primos do conjunto.\n",
        "Conjunto = set([1, 2, 3, 4, 5, 6, 7, 8, 9, 10])\n",
        "\n",
        "Lista_descarte = []\n",
        "for Numero in Conjunto:\n",
        "  Cont = 0\n",
        "  for i in range(2, Numero):\n",
        "    if Numero % i == 0:\n",
        "      Cont += 1\n",
        "\n",
        "  if Cont == 0 and Numero != 1:\n",
        "    Lista_descarte.append(Numero)\n",
        "\n",
        "for Elemento in Lista_descarte:\n",
        "  Conjunto.discard(Elemento)\n",
        "\n",
        "print(Elemento)"
      ],
      "metadata": {
        "colab": {
          "base_uri": "https://localhost:8080/"
        },
        "id": "XzwhvH1loVAI",
        "outputId": "ccf2aa08-6535-4381-de81-9c095fa8566e"
      },
      "execution_count": 26,
      "outputs": [
        {
          "output_type": "stream",
          "name": "stdout",
          "text": [
            "7\n"
          ]
        }
      ]
    },
    {
      "cell_type": "code",
      "source": [
        "Set3 = Set1 | {'d', 1, 'f'}\n",
        "print(Set3)"
      ],
      "metadata": {
        "colab": {
          "base_uri": "https://localhost:8080/"
        },
        "id": "rW9yFYvGsFz5",
        "outputId": "1eeeb57b-ea01-4b26-80f2-f16fecb3bf47"
      },
      "execution_count": 27,
      "outputs": [
        {
          "output_type": "stream",
          "name": "stdout",
          "text": [
            "{1, 2, 3, 4, 5, 6, 'd', 'f', 'Carlos', 'Sete'}\n"
          ]
        }
      ]
    },
    {
      "cell_type": "code",
      "source": [
        "Set4 = Set1.union({8, 9, 'string'})\n",
        "print(Set4)"
      ],
      "metadata": {
        "colab": {
          "base_uri": "https://localhost:8080/"
        },
        "id": "oxk3D1SUslQS",
        "outputId": "547619d7-f222-403a-e8e4-8ec159d85fd9"
      },
      "execution_count": 28,
      "outputs": [
        {
          "output_type": "stream",
          "name": "stdout",
          "text": [
            "{1, 2, 3, 4, 5, 6, 8, 9, 'Carlos', 'Sete', 'string'}\n"
          ]
        }
      ]
    },
    {
      "cell_type": "code",
      "source": [
        "# Unindo conjuntos com o operador |\n",
        "Set1 = set(list('abcd'))\n",
        "Set2 = set(list('def'))\n",
        "Set3 = set(list('defghi'))\n",
        "\n",
        "Set_final = Set1 | Set2 | Set3\n",
        "print(Set_final)"
      ],
      "metadata": {
        "colab": {
          "base_uri": "https://localhost:8080/"
        },
        "id": "OR8KmiSIsx4F",
        "outputId": "2df0eaff-a80f-4d99-cdc8-8a9285454941"
      },
      "execution_count": 29,
      "outputs": [
        {
          "output_type": "stream",
          "name": "stdout",
          "text": [
            "{'c', 'e', 'b', 'h', 'i', 'd', 'f', 'a', 'g'}\n"
          ]
        }
      ]
    },
    {
      "cell_type": "code",
      "source": [
        "# 50) Usando uniões, escreva um programa para receber 5 números e\n",
        "# Inseri-los em um conjunto.\n",
        "Conjunto_inicial = {'a', 'b', 'c', 1, 2, 3}\n",
        "Conjunto = set()\n",
        "while len(Conjunto) < 5:\n",
        "  Conjunto.add(int(input(\"Digite um número: \")))\n",
        "Conjunto_final = Conjunto_inicial | Conjunto\n",
        "print(Conjunto_final)\n"
      ],
      "metadata": {
        "colab": {
          "base_uri": "https://localhost:8080/"
        },
        "id": "i_Z2uv20tcEP",
        "outputId": "6071197c-0cf5-461f-d2be-36fe3887bb12"
      },
      "execution_count": 35,
      "outputs": [
        {
          "output_type": "stream",
          "name": "stdout",
          "text": [
            "Digite um número: 1\n",
            "Digite um número: 2\n",
            "Digite um número: 3\n",
            "Digite um número: 4\n",
            "Digite um número: 5\n",
            "{1, 2, 3, 'c', 4, 5, 'b', 'a'}\n"
          ]
        }
      ]
    },
    {
      "cell_type": "code",
      "source": [
        "# Fazendo a diferença entre dois conjuntoa com o operador\n",
        "Set1 = set(list('abcd'))\n",
        "Set2 = set(list('def'))\n",
        "Set3 = Set2 - Set1\n",
        "print(Set3)"
      ],
      "metadata": {
        "colab": {
          "base_uri": "https://localhost:8080/"
        },
        "id": "ZthIAGkUwQD0",
        "outputId": "ed14688b-5e07-470d-b0dc-576ae699fe58"
      },
      "execution_count": 36,
      "outputs": [
        {
          "output_type": "stream",
          "name": "stdout",
          "text": [
            "{'f', 'e'}\n"
          ]
        }
      ]
    },
    {
      "cell_type": "code",
      "source": [
        "# Verificando subconjuntos com o operador <= ou >=\n",
        "Set1= set(list('abcd'))\n",
        "Set2 = set(list('def'))\n",
        "Set3 = set(list('defghi'))\n",
        "\n",
        "print(f'Set1 é subconjunto de set2? {Set1 >= Set2}')"
      ],
      "metadata": {
        "colab": {
          "base_uri": "https://localhost:8080/"
        },
        "id": "TM0xdeIEwygu",
        "outputId": "054efa43-4954-4eec-a811-9be34b6fb5ff"
      },
      "execution_count": 38,
      "outputs": [
        {
          "output_type": "stream",
          "name": "stdout",
          "text": [
            "Set1 é subconjunto de set2? False\n"
          ]
        }
      ]
    },
    {
      "cell_type": "code",
      "source": [
        "# Verificando a diferença simétrica.\n",
        "Set1 = set(list('abcd'))\n",
        "Set2 = set(list('def'))\n",
        "Set3 = set(list('ghij'))"
      ],
      "metadata": {
        "id": "E8Xy6hp9xlIe"
      },
      "execution_count": null,
      "outputs": []
    }
  ]
}